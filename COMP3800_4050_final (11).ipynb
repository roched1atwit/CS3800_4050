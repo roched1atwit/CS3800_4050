{
  "nbformat": 4,
  "nbformat_minor": 0,
  "metadata": {
    "kernelspec": {
      "name": "python3",
      "display_name": "Python 3"
    },
    "colab": {
      "name": "COMP3800_4050_final.ipynb",
      "provenance": [],
      "collapsed_sections": [
        "nlI7V7adDDfp",
        "H2B1_JLVDDgO"
      ]
    }
  },
  "cells": [
    {
      "cell_type": "code",
      "metadata": {
        "id": "rjHBbTJBS1Q-",
        "colab_type": "code",
        "colab": {
          "base_uri": "https://localhost:8080/",
          "height": 68
        },
        "outputId": "7435b235-5b62-400f-8c71-03c5a325cb7a"
      },
      "source": [
        "#### Setting up Spark for colab space, code provided by Professor Othman\n",
        "\n",
        "import os\n",
        "#Install Java\n",
        "!apt-get install openjdk-8-jdk-headless -qq > /dev/null\n",
        "#Set JAVA_HOME path variable in Linux\n",
        "os.environ[\"JAVA_HOME\"] = \"/usr/lib/jvm/java-8-openjdk-amd64\"\n",
        "!update-alternatives --set java /usr/lib/jvm/java-8-openjdk-amd64/jre/bin/java\n",
        "!java -version\n",
        "\n",
        "\n",
        "#Install Spark\n",
        "#download Spark file\n",
        "!wget -q http://apache.osuosl.org/spark/spark-2.4.6/spark-2.4.6-bin-hadoop2.7.tgz\n",
        "#extract the file\n",
        "!tar xf spark-2.4.6-bin-hadoop2.7.tgz\n",
        "#Set SPARK-HOME path variable in Linux\n",
        "os.environ[\"SPARK_HOME\"] = \"/content/spark-2.4.6-bin-hadoop2.7\"\n",
        "\n",
        "\n",
        "#install findspark package\n",
        "!pip install -q findspark"
      ],
      "execution_count": 1,
      "outputs": [
        {
          "output_type": "stream",
          "text": [
            "openjdk version \"1.8.0_252\"\n",
            "OpenJDK Runtime Environment (build 1.8.0_252-8u252-b09-1~18.04-b09)\n",
            "OpenJDK 64-Bit Server VM (build 25.252-b09, mixed mode)\n"
          ],
          "name": "stdout"
        }
      ]
    },
    {
      "cell_type": "code",
      "metadata": {
        "id": "FSkvjp4EDDeY",
        "colab_type": "code",
        "colab": {}
      },
      "source": [
        "import findspark\n",
        "findspark.init()"
      ],
      "execution_count": 2,
      "outputs": []
    },
    {
      "cell_type": "code",
      "metadata": {
        "id": "afZ55q7XDDec",
        "colab_type": "code",
        "colab": {}
      },
      "source": [
        "# create entry points to spark\n",
        "try:\n",
        "    sc.stop()\n",
        "except:\n",
        "    pass\n",
        "from pyspark import SparkContext, SparkConf\n",
        "from pyspark.sql import SparkSession, SQLContext\n",
        "conf = SparkConf().setAppName(\"lecture10\").setMaster(\"local[*]\")\n",
        "sc=SparkContext(conf = conf)\n",
        "spark = SparkSession(sparkContext=sc)\n",
        "sqlContext = SQLContext(sc)"
      ],
      "execution_count": 3,
      "outputs": []
    },
    {
      "cell_type": "code",
      "metadata": {
        "id": "PM-f-XunDDef",
        "colab_type": "code",
        "colab": {
          "base_uri": "https://localhost:8080/",
          "height": 216
        },
        "outputId": "a601c6ab-8362-4052-ea63-e8ac7372cc59"
      },
      "source": [
        "spark"
      ],
      "execution_count": 4,
      "outputs": [
        {
          "output_type": "execute_result",
          "data": {
            "text/html": [
              "\n",
              "            <div>\n",
              "                <p><b>SparkSession - in-memory</b></p>\n",
              "                \n",
              "        <div>\n",
              "            <p><b>SparkContext</b></p>\n",
              "\n",
              "            <p><a href=\"http://ba17bfca663e:4040\">Spark UI</a></p>\n",
              "\n",
              "            <dl>\n",
              "              <dt>Version</dt>\n",
              "                <dd><code>v2.4.6</code></dd>\n",
              "              <dt>Master</dt>\n",
              "                <dd><code>local[*]</code></dd>\n",
              "              <dt>AppName</dt>\n",
              "                <dd><code>lecture10</code></dd>\n",
              "            </dl>\n",
              "        </div>\n",
              "        \n",
              "            </div>\n",
              "        "
            ],
            "text/plain": [
              "<pyspark.sql.session.SparkSession at 0x7f872089c550>"
            ]
          },
          "metadata": {
            "tags": []
          },
          "execution_count": 4
        }
      ]
    },
    {
      "cell_type": "code",
      "metadata": {
        "id": "VzS2NeKItk9E",
        "colab_type": "code",
        "colab": {}
      },
      "source": [
        "# all imports needed for Big Data portion\n",
        "\n",
        "import pandas as pd\n",
        "from pyspark.sql.types import *\n",
        "from pyspark.sql.functions import substring, lit, desc, col\n",
        "import pyspark.sql.functions as F"
      ],
      "execution_count": 5,
      "outputs": []
    },
    {
      "cell_type": "code",
      "metadata": {
        "id": "PNYXU2UxXRNC",
        "colab_type": "code",
        "colab": {}
      },
      "source": [
        "def read_nibrs_csv(firstyear,lastyear,state_name,state_abbr, csv, my_schema):\n",
        "    # link to github where data is stored\n",
        "    url_base=\"https://raw.githubusercontent.com/roched1atwit/CS3800_4050/master/data/\"\n",
        "\n",
        "    print((\"reading in data for \" + state_name + \" - \" + csv + \"...\"))\n",
        "\n",
        "    df_list = []\n",
        "\n",
        "    # search fo data from specified year range\n",
        "    for year in range(firstyear,lastyear+1):\n",
        "        url = url_base+state_name+'/'+state_abbr+'-'+str(year)\n",
        "        url_c = url + '/' + csv + '.csv'\n",
        "\n",
        "        # see if data exists for that state for that year \n",
        "        # Since NIBRS is optional states submitted varying ammounts of data each year  \n",
        "        # and sometimes they submitted no data\n",
        "        try:\n",
        "            temp_df = pd.read_csv(url_c, error_bad_lines=False)\n",
        "        except:\n",
        "            # there was a format change in 2016 where NIBRS_data became capitalized\n",
        "            url_c = url + '/' + csv.upper() + '.csv' \n",
        "            try:\n",
        "                temp_df = pd.read_csv(url_c, error_bad_lines=False)\n",
        "                temp_df.columns = map(str.lower, temp_df.columns)\n",
        "            except:\n",
        "                continue\n",
        "        # add my own useful fields\n",
        "        temp_df['state'] = state_abbr\n",
        "        temp_df['year'] = year\n",
        "        df_list.append(temp_df)\n",
        "\n",
        "    # add to running Pandas dataframe\n",
        "    full_df = pd.concat(df_list)\n",
        "\n",
        "    # issue where there's inconsistency in the data type for ethnicity_id\n",
        "    # sometimes it's an integer, sometimes a float\n",
        "    full_df = full_df.astype({'ethnicity_id':'float64'})\n",
        "\n",
        "    # convert to spark dataframe\n",
        "    spark_df = spark.createDataFrame(full_df,schema=my_schema)\n",
        "\n",
        "    return spark_df\n",
        "            \n"
      ],
      "execution_count": 6,
      "outputs": []
    },
    {
      "cell_type": "code",
      "metadata": {
        "id": "a5C8sb-dybze",
        "colab_type": "code",
        "colab": {}
      },
      "source": [
        "# the spark schema related to the arrestee csv files on github\n",
        "\n",
        "arrestee_schema = StructType([ StructField(\"arrestee_id\", IntegerType(), True)\\\n",
        "\n",
        "                       ,StructField(\"incident_id\", IntegerType(), True)\\\n",
        "\n",
        "                       ,StructField(\"arrestee_seq_num\", IntegerType(), True)\\\n",
        "\n",
        "                       ,StructField(\"arrest_num\", StringType(), True)\\\n",
        "\n",
        "                       ,StructField(\"arrest_date\", StringType(), True)\\\n",
        "                       \n",
        "                       ,StructField(\"arrest_type_id\", IntegerType(), True)\\\n",
        "                       \n",
        "                       ,StructField(\"multiple_indicator\", StringType(), True)\\\n",
        "                       \n",
        "                       ,StructField(\"offense_type_id\", IntegerType(), True)\\\n",
        "                       \n",
        "                       ,StructField(\"age_id\", IntegerType(), True)\\\n",
        "                       \n",
        "                       ,StructField(\"age_num\", DoubleType(), True)\\\n",
        "                       \n",
        "                       ,StructField(\"sex_code\", StringType(), True)\\\n",
        "                       \n",
        "                       ,StructField(\"race_id\", IntegerType(), True)\\\n",
        "                       \n",
        "                       ,StructField(\"ethnicity_id\", DoubleType(), True)\\\n",
        "                       \n",
        "                       ,StructField(\"resident_code\", StringType(), True)\\\n",
        "                       \n",
        "                       ,StructField(\"under_18_disposition_code\", StringType(), True)\\\n",
        "                       \n",
        "                       ,StructField(\"clearance_ind\", DoubleType(), True)\\\n",
        "                       \n",
        "                       ,StructField(\"ff_line_number\", DoubleType(), True)\\\n",
        "                       \n",
        "                       ,StructField(\"age_range_low_num\", DoubleType(), True)\\\n",
        "                       \n",
        "                       ,StructField(\"age_range_high_num\", DoubleType(), True)\\\n",
        "                       \n",
        "                       ,StructField(\"state\", StringType(), True)\\\n",
        "                       \n",
        "                       ,StructField(\"year\", IntegerType(), True)\\\n",
        "                       \n",
        "                       ,StructField(\"data_year\", DoubleType(), True)])"
      ],
      "execution_count": 8,
      "outputs": []
    },
    {
      "cell_type": "code",
      "metadata": {
        "id": "8ltsWZ_486yW",
        "colab_type": "code",
        "colab": {}
      },
      "source": [
        "# hardcoded variables telling our program which states, years, and tables are needed from NIBRS dataa\n",
        "\n",
        "# Can make the list longer if running locally, for google colab, better to do one state at a time, then write to\n",
        "# csv file to read in later for ML portion\n",
        "# this is because although we cut down the number of columns we use for the ML portion, the arrestee table\n",
        "# contains a lot more data and grows quickly in memory size\n",
        "\n",
        "state_list = [\"massachusetts\"]\n",
        "state_abbr = [\"MA\"]\n",
        "csv = \"nibrs_arrestee\"\n",
        "firstyear = 1991\n",
        "lastyear = 2018"
      ],
      "execution_count": 11,
      "outputs": []
    },
    {
      "cell_type": "code",
      "metadata": {
        "id": "6aBYfa4UF7JY",
        "colab_type": "code",
        "colab": {
          "base_uri": "https://localhost:8080/",
          "height": 34
        },
        "outputId": "a19693db-8e49-4c7d-f0c4-12a456bec086"
      },
      "source": [
        "# code which reads in the data using read_nibrs_csv defined above\n",
        "\n",
        "for state_i in range(0,len(state_list)):\n",
        "\n",
        "    # call to read data into Spark Dataframe\n",
        "    arrestee = read_nibrs_csv(firstyear,lastyear,state_list[state_i],state_abbr[state_i],csv, arrestee_schema)\n",
        "\n",
        "    # grab the fields we need\n",
        "    res = arrestee.select(\"offense_type_id\", \"year\",\"state\")\n",
        "\n",
        "    # get the count of each type of crime per state per year\n",
        "    off_types = res.groupby(res.offense_type_id, res.year, res.state).count()\n",
        "\n",
        "    # get the total number of arrests per year, per state, rename count of total arrests\n",
        "    num_arrests = res.groupby(res.year, res.state).count()\n",
        "    num_arrests = num_arrests.select(col(\"year\"), col(\"state\"), col(\"count\").alias(\"total_arrests_that_year\"))\n",
        "\n",
        "    # get the count of arrests per offense type, per state, per year, rename col of num_arrests per offense\n",
        "    off_types = off_types.orderBy(desc(\"count\"))\n",
        "    off_types = off_types.select(\"offense_type_id\", \"year\", \"state\", col(\"count\").alias(\"num_arrests\"))\n",
        "\n",
        "    # join the two tables, so we get the number of arrests per violation as well as the total that year regardless of violation\n",
        "    off_types = off_types.join(num_arrests, ((off_types.state == num_arrests.state) & (off_types.year == num_arrests.year)), \"inner\")\n",
        "    \n",
        "    # calculate the percent of the total arrests that year which were the result of each violation/offense\n",
        "    off_types = off_types.withColumn(\"perc_tot_arrests\", col(\"num_arrests\")/col(\"total_arrests_that_year\"))\n",
        "\n",
        "    # now that the data has been handled using spark, convert back to pandas\n",
        "    offenses = off_types.select(\"*\").toPandas()\n",
        "    offenses = offenses.loc[:,~offenses.columns.duplicated()]\n",
        "\n",
        "    # ran into an issue where in the read portion we ran out of memory because\n",
        "    # the spark DF were never freed from memory. Tried del, but a stack overflow\n",
        "    # search said that only frees the pointer, tried unpersist() to remove it\n",
        "    # from the cache per the spark documentation.  Ultimately could not find a solve\n",
        "    # for this and settled for writing to a csv file and then executing the big \n",
        "    # data and csv portion separately. Running it locally did not fix this issue\n",
        "    # either\n",
        "    arrestee.unpersist(True)\n",
        "    res.unpersist(True)\n",
        "    num_arrests.unpersist(True)\n",
        "    off_types.unpersist(True)\n",
        "    #spark.catalog.clearCache()    \n",
        "\n",
        "    # concatenate all the pandas dataframes read in into one\n",
        "    if state_i == 0:\n",
        "        all_offenses = offenses\n",
        "    else:\n",
        "        all_offenses = pd.concat([all_offenses, offenses])\n",
        "    \n",
        "    del offenses"
      ],
      "execution_count": 12,
      "outputs": [
        {
          "output_type": "stream",
          "text": [
            "reading in data for massachusetts - nibrs_arrestee...\n"
          ],
          "name": "stdout"
        }
      ]
    },
    {
      "cell_type": "code",
      "metadata": {
        "id": "XAQeOPDV050u",
        "colab_type": "code",
        "colab": {
          "base_uri": "https://localhost:8080/",
          "height": 419
        },
        "outputId": "3b53602b-c4f7-473c-9879-d584e32dcbf9"
      },
      "source": [
        "all_offenses"
      ],
      "execution_count": 13,
      "outputs": [
        {
          "output_type": "execute_result",
          "data": {
            "text/html": [
              "<div>\n",
              "<style scoped>\n",
              "    .dataframe tbody tr th:only-of-type {\n",
              "        vertical-align: middle;\n",
              "    }\n",
              "\n",
              "    .dataframe tbody tr th {\n",
              "        vertical-align: top;\n",
              "    }\n",
              "\n",
              "    .dataframe thead th {\n",
              "        text-align: right;\n",
              "    }\n",
              "</style>\n",
              "<table border=\"1\" class=\"dataframe\">\n",
              "  <thead>\n",
              "    <tr style=\"text-align: right;\">\n",
              "      <th></th>\n",
              "      <th>offense_type_id</th>\n",
              "      <th>year</th>\n",
              "      <th>state</th>\n",
              "      <th>num_arrests</th>\n",
              "      <th>total_arrests_that_year</th>\n",
              "      <th>perc_tot_arrests</th>\n",
              "    </tr>\n",
              "  </thead>\n",
              "  <tbody>\n",
              "    <tr>\n",
              "      <th>0</th>\n",
              "      <td>51</td>\n",
              "      <td>2009</td>\n",
              "      <td>MA</td>\n",
              "      <td>17860</td>\n",
              "      <td>70221</td>\n",
              "      <td>0.254340</td>\n",
              "    </tr>\n",
              "    <tr>\n",
              "      <th>1</th>\n",
              "      <td>23</td>\n",
              "      <td>2009</td>\n",
              "      <td>MA</td>\n",
              "      <td>8412</td>\n",
              "      <td>70221</td>\n",
              "      <td>0.119793</td>\n",
              "    </tr>\n",
              "    <tr>\n",
              "      <th>2</th>\n",
              "      <td>16</td>\n",
              "      <td>2009</td>\n",
              "      <td>MA</td>\n",
              "      <td>7946</td>\n",
              "      <td>70221</td>\n",
              "      <td>0.113157</td>\n",
              "    </tr>\n",
              "    <tr>\n",
              "      <th>3</th>\n",
              "      <td>27</td>\n",
              "      <td>2009</td>\n",
              "      <td>MA</td>\n",
              "      <td>7438</td>\n",
              "      <td>70221</td>\n",
              "      <td>0.105923</td>\n",
              "    </tr>\n",
              "    <tr>\n",
              "      <th>4</th>\n",
              "      <td>48</td>\n",
              "      <td>2009</td>\n",
              "      <td>MA</td>\n",
              "      <td>3684</td>\n",
              "      <td>70221</td>\n",
              "      <td>0.052463</td>\n",
              "    </tr>\n",
              "    <tr>\n",
              "      <th>...</th>\n",
              "      <td>...</td>\n",
              "      <td>...</td>\n",
              "      <td>...</td>\n",
              "      <td>...</td>\n",
              "      <td>...</td>\n",
              "      <td>...</td>\n",
              "    </tr>\n",
              "    <tr>\n",
              "      <th>938</th>\n",
              "      <td>59</td>\n",
              "      <td>2017</td>\n",
              "      <td>MA</td>\n",
              "      <td>3</td>\n",
              "      <td>57296</td>\n",
              "      <td>0.000052</td>\n",
              "    </tr>\n",
              "    <tr>\n",
              "      <th>939</th>\n",
              "      <td>50</td>\n",
              "      <td>2017</td>\n",
              "      <td>MA</td>\n",
              "      <td>3</td>\n",
              "      <td>57296</td>\n",
              "      <td>0.000052</td>\n",
              "    </tr>\n",
              "    <tr>\n",
              "      <th>940</th>\n",
              "      <td>62</td>\n",
              "      <td>2017</td>\n",
              "      <td>MA</td>\n",
              "      <td>3</td>\n",
              "      <td>57296</td>\n",
              "      <td>0.000052</td>\n",
              "    </tr>\n",
              "    <tr>\n",
              "      <th>941</th>\n",
              "      <td>38</td>\n",
              "      <td>2017</td>\n",
              "      <td>MA</td>\n",
              "      <td>3</td>\n",
              "      <td>57296</td>\n",
              "      <td>0.000052</td>\n",
              "    </tr>\n",
              "    <tr>\n",
              "      <th>942</th>\n",
              "      <td>42</td>\n",
              "      <td>2017</td>\n",
              "      <td>MA</td>\n",
              "      <td>1</td>\n",
              "      <td>57296</td>\n",
              "      <td>0.000017</td>\n",
              "    </tr>\n",
              "  </tbody>\n",
              "</table>\n",
              "<p>943 rows × 6 columns</p>\n",
              "</div>"
            ],
            "text/plain": [
              "     offense_type_id  year  ... total_arrests_that_year  perc_tot_arrests\n",
              "0                 51  2009  ...                   70221          0.254340\n",
              "1                 23  2009  ...                   70221          0.119793\n",
              "2                 16  2009  ...                   70221          0.113157\n",
              "3                 27  2009  ...                   70221          0.105923\n",
              "4                 48  2009  ...                   70221          0.052463\n",
              "..               ...   ...  ...                     ...               ...\n",
              "938               59  2017  ...                   57296          0.000052\n",
              "939               50  2017  ...                   57296          0.000052\n",
              "940               62  2017  ...                   57296          0.000052\n",
              "941               38  2017  ...                   57296          0.000052\n",
              "942               42  2017  ...                   57296          0.000017\n",
              "\n",
              "[943 rows x 6 columns]"
            ]
          },
          "metadata": {
            "tags": []
          },
          "execution_count": 13
        }
      ]
    },
    {
      "cell_type": "code",
      "metadata": {
        "id": "kvScfQze4RRn",
        "colab_type": "code",
        "colab": {}
      },
      "source": [
        "# Below is the write to the csv file which is later used by the ML portion\n",
        "# Would not reccomend uncommenting unless entering in new data.\n",
        "# For grading purposes, feel free to change the file name to see how this line\n",
        "# works\n",
        "\n",
        "#all_offenses.to_csv(\"all_crime.csv\", mode='a',index=False, header=False)"
      ],
      "execution_count": 14,
      "outputs": []
    },
    {
      "cell_type": "markdown",
      "metadata": {
        "id": "llhF_T8N_UYG",
        "colab_type": "text"
      },
      "source": [
        "#End Big Data Spark\n",
        "Code after this is focuses on Machine Learning"
      ]
    },
    {
      "cell_type": "code",
      "metadata": {
        "id": "JT0DgoCcNooE",
        "colab_type": "code",
        "colab": {}
      },
      "source": [
        "# imports for ML portion\n",
        "from sklearn.linear_model import LinearRegression\n",
        "from sklearn.model_selection import train_test_split\n",
        "import matplotlib.pyplot as plt"
      ],
      "execution_count": 223,
      "outputs": []
    },
    {
      "cell_type": "code",
      "metadata": {
        "id": "fEurvyQi-3S3",
        "colab_type": "code",
        "colab": {}
      },
      "source": [
        "# read in the csv saved off from the Big Data portion above\n",
        "all_crimes = pd.read_csv(\"all_crime.csv\", dtype={'offense_type_id':'int32', 'year':'int32','state':'string','num_arrests':'int32','total_arrests_that_year':'int32','perc_tot_arrests_that_year':'double'})"
      ],
      "execution_count": 207,
      "outputs": []
    },
    {
      "cell_type": "code",
      "metadata": {
        "id": "AqnOiplLBcNq",
        "colab_type": "code",
        "colab": {
          "base_uri": "https://localhost:8080/",
          "height": 419
        },
        "outputId": "3aa1de55-3ea4-46a3-8448-d9b272eb72a0"
      },
      "source": [
        "all_crimes = all_crimes[['offense_type_id','year','state','total_arrests_that_year','num_arrests']]\n",
        "all_crimes"
      ],
      "execution_count": 251,
      "outputs": [
        {
          "output_type": "execute_result",
          "data": {
            "text/html": [
              "<div>\n",
              "<style scoped>\n",
              "    .dataframe tbody tr th:only-of-type {\n",
              "        vertical-align: middle;\n",
              "    }\n",
              "\n",
              "    .dataframe tbody tr th {\n",
              "        vertical-align: top;\n",
              "    }\n",
              "\n",
              "    .dataframe thead th {\n",
              "        text-align: right;\n",
              "    }\n",
              "</style>\n",
              "<table border=\"1\" class=\"dataframe\">\n",
              "  <thead>\n",
              "    <tr style=\"text-align: right;\">\n",
              "      <th></th>\n",
              "      <th>offense_type_id</th>\n",
              "      <th>year</th>\n",
              "      <th>state</th>\n",
              "      <th>total_arrests_that_year</th>\n",
              "      <th>num_arrests</th>\n",
              "    </tr>\n",
              "  </thead>\n",
              "  <tbody>\n",
              "    <tr>\n",
              "      <th>0</th>\n",
              "      <td>11</td>\n",
              "      <td>1999</td>\n",
              "      <td>AR</td>\n",
              "      <td>4</td>\n",
              "      <td>3</td>\n",
              "    </tr>\n",
              "    <tr>\n",
              "      <th>1</th>\n",
              "      <td>16</td>\n",
              "      <td>2018</td>\n",
              "      <td>AL</td>\n",
              "      <td>140</td>\n",
              "      <td>80</td>\n",
              "    </tr>\n",
              "    <tr>\n",
              "      <th>2</th>\n",
              "      <td>16</td>\n",
              "      <td>2017</td>\n",
              "      <td>AL</td>\n",
              "      <td>967</td>\n",
              "      <td>509</td>\n",
              "    </tr>\n",
              "    <tr>\n",
              "      <th>3</th>\n",
              "      <td>23</td>\n",
              "      <td>2014</td>\n",
              "      <td>AL</td>\n",
              "      <td>1270</td>\n",
              "      <td>621</td>\n",
              "    </tr>\n",
              "    <tr>\n",
              "      <th>4</th>\n",
              "      <td>23</td>\n",
              "      <td>2015</td>\n",
              "      <td>AL</td>\n",
              "      <td>1413</td>\n",
              "      <td>671</td>\n",
              "    </tr>\n",
              "    <tr>\n",
              "      <th>...</th>\n",
              "      <td>...</td>\n",
              "      <td>...</td>\n",
              "      <td>...</td>\n",
              "      <td>...</td>\n",
              "      <td>...</td>\n",
              "    </tr>\n",
              "    <tr>\n",
              "      <th>5062</th>\n",
              "      <td>22</td>\n",
              "      <td>2016</td>\n",
              "      <td>CO</td>\n",
              "      <td>97769</td>\n",
              "      <td>1</td>\n",
              "    </tr>\n",
              "    <tr>\n",
              "      <th>5063</th>\n",
              "      <td>60</td>\n",
              "      <td>2016</td>\n",
              "      <td>CO</td>\n",
              "      <td>97769</td>\n",
              "      <td>1</td>\n",
              "    </tr>\n",
              "    <tr>\n",
              "      <th>5064</th>\n",
              "      <td>12</td>\n",
              "      <td>2016</td>\n",
              "      <td>CO</td>\n",
              "      <td>97769</td>\n",
              "      <td>1</td>\n",
              "    </tr>\n",
              "    <tr>\n",
              "      <th>5065</th>\n",
              "      <td>12</td>\n",
              "      <td>2017</td>\n",
              "      <td>CO</td>\n",
              "      <td>98112</td>\n",
              "      <td>1</td>\n",
              "    </tr>\n",
              "    <tr>\n",
              "      <th>5066</th>\n",
              "      <td>17</td>\n",
              "      <td>2017</td>\n",
              "      <td>CO</td>\n",
              "      <td>98112</td>\n",
              "      <td>1</td>\n",
              "    </tr>\n",
              "  </tbody>\n",
              "</table>\n",
              "<p>5067 rows × 5 columns</p>\n",
              "</div>"
            ],
            "text/plain": [
              "      offense_type_id  year state  total_arrests_that_year  num_arrests\n",
              "0                  11  1999    AR                        4            3\n",
              "1                  16  2018    AL                      140           80\n",
              "2                  16  2017    AL                      967          509\n",
              "3                  23  2014    AL                     1270          621\n",
              "4                  23  2015    AL                     1413          671\n",
              "...               ...   ...   ...                      ...          ...\n",
              "5062               22  2016    CO                    97769            1\n",
              "5063               60  2016    CO                    97769            1\n",
              "5064               12  2016    CO                    97769            1\n",
              "5065               12  2017    CO                    98112            1\n",
              "5066               17  2017    CO                    98112            1\n",
              "\n",
              "[5067 rows x 5 columns]"
            ]
          },
          "metadata": {
            "tags": []
          },
          "execution_count": 251
        }
      ]
    },
    {
      "cell_type": "code",
      "metadata": {
        "id": "q_ddRnW8ElHe",
        "colab_type": "code",
        "colab": {}
      },
      "source": [
        "# get the subset of each crime data per state, useful for running smaller models later to illustrate how the model works\n",
        "al_crime = all_crimes.loc[all_crimes['state'] == 'AL']\n",
        "az_crime = all_crimes.loc[all_crimes['state'] == 'AZ']\n",
        "ar_crime = all_crimes.loc[all_crimes['state'] == 'AR']\n",
        "ct_crime = all_crimes.loc[all_crimes['state'] == 'CT']\n",
        "co_crime = all_crimes.loc[all_crimes['state'] == 'CO']\n",
        "ma_crime = all_crimes.loc[all_crimes['state'] == 'MA']"
      ],
      "execution_count": 257,
      "outputs": []
    },
    {
      "cell_type": "code",
      "metadata": {
        "id": "DF_sMEAcFUvP",
        "colab_type": "code",
        "colab": {}
      },
      "source": [
        "# get the data correspdonding to crime code 23 - Shoplifting\n",
        "shoplifting_all = all_crimes.loc[all_crimes['offense_type_id'] == 23]\n",
        "shoplifting_al = al_crime.loc[al_crime['offense_type_id'] == 23]\n",
        "shoplifting_az = az_crime.loc[az_crime['offense_type_id'] == 23]\n",
        "shoplifting_ar = ar_crime.loc[ar_crime['offense_type_id'] == 23]\n",
        "shoplifting_ct = ct_crime.loc[ct_crime['offense_type_id'] == 23]\n",
        "shoplifting_co = co_crime.loc[co_crime['offense_type_id'] == 23]\n",
        "shoplifting_ma = ma_crime.loc[ma_crime['offense_type_id'] == 23]"
      ],
      "execution_count": 256,
      "outputs": []
    },
    {
      "cell_type": "code",
      "metadata": {
        "id": "LGMtfO7XFy-a",
        "colab_type": "code",
        "colab": {}
      },
      "source": [
        "# get the data correspdonding to crime code 32 - Murder or Negligent Homicide\n",
        "murder_all = all_crimes.loc[all_crimes['offense_type_id'] == 32]\n",
        "murder_al = al_crime.loc[al_crime['offense_type_id'] == 32]\n",
        "murder_az = az_crime.loc[az_crime['offense_type_id'] == 32]\n",
        "murder_ar = ar_crime.loc[ar_crime['offense_type_id'] == 32]\n",
        "murder_ct = ct_crime.loc[ct_crime['offense_type_id'] == 32]\n",
        "murder_co = co_crime.loc[co_crime['offense_type_id'] == 32]\n",
        "murder_ma = ma_crime.loc[ma_crime['offense_type_id'] == 32]"
      ],
      "execution_count": 242,
      "outputs": []
    },
    {
      "cell_type": "code",
      "metadata": {
        "id": "QDY2eVmzF9K_",
        "colab_type": "code",
        "colab": {
          "base_uri": "https://localhost:8080/",
          "height": 419
        },
        "outputId": "4a3ee4ac-e72c-424b-86d1-a9a1ca161ad5"
      },
      "source": [
        "# get the data correspdonding to crime code 27 - Aggravated Assault\n",
        "a_assault_all = all_crimes.loc[all_crimes['offense_type_id'] == 27]\n",
        "a_assault_al = al_crime.loc[al_crime['offense_type_id'] == 27]\n",
        "a_assault_az = az_crime.loc[az_crime['offense_type_id'] == 27]\n",
        "a_assault_ar = ar_crime.loc[ar_crime['offense_type_id'] == 27]\n",
        "a_assault_ct = ct_crime.loc[ct_crime['offense_type_id'] == 27]\n",
        "a_assault_co = co_crime.loc[co_crime['offense_type_id'] == 27]\n",
        "a_assault_ma = ma_crime.loc[ma_crime['offense_type_id'] == 27]\n",
        "a_assault_all"
      ],
      "execution_count": 243,
      "outputs": [
        {
          "output_type": "execute_result",
          "data": {
            "text/html": [
              "<div>\n",
              "<style scoped>\n",
              "    .dataframe tbody tr th:only-of-type {\n",
              "        vertical-align: middle;\n",
              "    }\n",
              "\n",
              "    .dataframe tbody tr th {\n",
              "        vertical-align: top;\n",
              "    }\n",
              "\n",
              "    .dataframe thead th {\n",
              "        text-align: right;\n",
              "    }\n",
              "</style>\n",
              "<table border=\"1\" class=\"dataframe\">\n",
              "  <thead>\n",
              "    <tr style=\"text-align: right;\">\n",
              "      <th></th>\n",
              "      <th>offense_type_id</th>\n",
              "      <th>year</th>\n",
              "      <th>state</th>\n",
              "      <th>total_arrests_that_year</th>\n",
              "      <th>num_arrests</th>\n",
              "    </tr>\n",
              "  </thead>\n",
              "  <tbody>\n",
              "    <tr>\n",
              "      <th>165</th>\n",
              "      <td>27</td>\n",
              "      <td>2000</td>\n",
              "      <td>MA</td>\n",
              "      <td>32548</td>\n",
              "      <td>5638</td>\n",
              "    </tr>\n",
              "    <tr>\n",
              "      <th>273</th>\n",
              "      <td>27</td>\n",
              "      <td>1992</td>\n",
              "      <td>AL</td>\n",
              "      <td>2671</td>\n",
              "      <td>366</td>\n",
              "    </tr>\n",
              "    <tr>\n",
              "      <th>285</th>\n",
              "      <td>27</td>\n",
              "      <td>2001</td>\n",
              "      <td>MA</td>\n",
              "      <td>38446</td>\n",
              "      <td>5047</td>\n",
              "    </tr>\n",
              "    <tr>\n",
              "      <th>314</th>\n",
              "      <td>27</td>\n",
              "      <td>2002</td>\n",
              "      <td>MA</td>\n",
              "      <td>39767</td>\n",
              "      <td>4689</td>\n",
              "    </tr>\n",
              "    <tr>\n",
              "      <th>322</th>\n",
              "      <td>27</td>\n",
              "      <td>1991</td>\n",
              "      <td>AL</td>\n",
              "      <td>3962</td>\n",
              "      <td>458</td>\n",
              "    </tr>\n",
              "    <tr>\n",
              "      <th>...</th>\n",
              "      <td>...</td>\n",
              "      <td>...</td>\n",
              "      <td>...</td>\n",
              "      <td>...</td>\n",
              "      <td>...</td>\n",
              "    </tr>\n",
              "    <tr>\n",
              "      <th>2028</th>\n",
              "      <td>27</td>\n",
              "      <td>2008</td>\n",
              "      <td>AL</td>\n",
              "      <td>1203</td>\n",
              "      <td>8</td>\n",
              "    </tr>\n",
              "    <tr>\n",
              "      <th>2134</th>\n",
              "      <td>27</td>\n",
              "      <td>2012</td>\n",
              "      <td>AL</td>\n",
              "      <td>1214</td>\n",
              "      <td>7</td>\n",
              "    </tr>\n",
              "    <tr>\n",
              "      <th>2235</th>\n",
              "      <td>27</td>\n",
              "      <td>2007</td>\n",
              "      <td>AL</td>\n",
              "      <td>1190</td>\n",
              "      <td>6</td>\n",
              "    </tr>\n",
              "    <tr>\n",
              "      <th>2343</th>\n",
              "      <td>27</td>\n",
              "      <td>2006</td>\n",
              "      <td>AL</td>\n",
              "      <td>1362</td>\n",
              "      <td>6</td>\n",
              "    </tr>\n",
              "    <tr>\n",
              "      <th>2582</th>\n",
              "      <td>27</td>\n",
              "      <td>2011</td>\n",
              "      <td>AL</td>\n",
              "      <td>1227</td>\n",
              "      <td>4</td>\n",
              "    </tr>\n",
              "  </tbody>\n",
              "</table>\n",
              "<p>114 rows × 5 columns</p>\n",
              "</div>"
            ],
            "text/plain": [
              "      offense_type_id  year state  total_arrests_that_year  num_arrests\n",
              "165                27  2000    MA                    32548         5638\n",
              "273                27  1992    AL                     2671          366\n",
              "285                27  2001    MA                    38446         5047\n",
              "314                27  2002    MA                    39767         4689\n",
              "322                27  1991    AL                     3962          458\n",
              "...               ...   ...   ...                      ...          ...\n",
              "2028               27  2008    AL                     1203            8\n",
              "2134               27  2012    AL                     1214            7\n",
              "2235               27  2007    AL                     1190            6\n",
              "2343               27  2006    AL                     1362            6\n",
              "2582               27  2011    AL                     1227            4\n",
              "\n",
              "[114 rows x 5 columns]"
            ]
          },
          "metadata": {
            "tags": []
          },
          "execution_count": 243
        }
      ]
    },
    {
      "cell_type": "markdown",
      "metadata": {
        "id": "JLMW5iAUzPGM",
        "colab_type": "text"
      },
      "source": [
        "**NOTE**: There was nothing extra special about the three crimes selected above. They were selected on account of they are either interesting crimes or they had a large amount of data relative to others in the dataset"
      ]
    },
    {
      "cell_type": "code",
      "metadata": {
        "id": "Yf3y8uKWj7RU",
        "colab_type": "code",
        "colab": {}
      },
      "source": [
        "# function to simply scatter plot the number of arrests relating to a crime\n",
        "# The scatter plot seems messy, but remember the data includes multiple states\n",
        "# and here it is all overlayed over one another\n",
        "\n",
        "def plot_crime(crime_df, feature_name, target_name, crime_name):\n",
        "    crime_ft = crime_df[feature_name]\n",
        "    crime_t = crime_df[target_name]\n",
        "\n",
        "    plt.scatter(crime_ft, crime_t)\n",
        "    plt.title(\"Number of Arrests because of \" + crime_name)\n",
        "    plt.xlabel(feature_name)\n",
        "    plt.ylabel(target_name)\n",
        "    plt.show()"
      ],
      "execution_count": 244,
      "outputs": []
    },
    {
      "cell_type": "code",
      "metadata": {
        "id": "7J_uKOO0lRxq",
        "colab_type": "code",
        "colab": {
          "base_uri": "https://localhost:8080/",
          "height": 295
        },
        "outputId": "ff802fa6-2448-4669-fa6f-ed375c1c2c64"
      },
      "source": [
        "plot_crime(shoplifting_all, 'year', 'num_arrests', \"Shoplifting\")"
      ],
      "execution_count": 245,
      "outputs": [
        {
          "output_type": "display_data",
          "data": {
            "image/png": "[encoded data removed]",
            "text/plain": [
              "<Figure size 432x288 with 1 Axes>"
            ]
          },
          "metadata": {
            "tags": [],
            "needs_background": "light"
          }
        }
      ]
    },
    {
      "cell_type": "code",
      "metadata": {
        "id": "ATYhpHuak9Ic",
        "colab_type": "code",
        "colab": {
          "base_uri": "https://localhost:8080/",
          "height": 295
        },
        "outputId": "49bad3c1-d504-4e70-a62c-9bb78e830a5e"
      },
      "source": [
        "plot_crime(murder_all, 'year', 'num_arrests', \"Murder or Negligent Homicides\")"
      ],
      "execution_count": 246,
      "outputs": [
        {
          "output_type": "display_data",
          "data": {
            "image/png": "[encoded data removed]",
            "text/plain": [
              "<Figure size 432x288 with 1 Axes>"
            ]
          },
          "metadata": {
            "tags": [],
            "needs_background": "light"
          }
        }
      ]
    },
    {
      "cell_type": "code",
      "metadata": {
        "id": "4Jw8zc9rkwg_",
        "colab_type": "code",
        "colab": {
          "base_uri": "https://localhost:8080/",
          "height": 295
        },
        "outputId": "e1d6932d-97fa-4b52-b558-0ffd90bafa0f"
      },
      "source": [
        "plot_crime(a_assault_all, 'year', 'num_arrests', 'Aggravated Assaults')"
      ],
      "execution_count": 249,
      "outputs": [
        {
          "output_type": "display_data",
          "data": {
            "image/png": "[encoded data removed]",
            "text/plain": [
              "<Figure size 432x288 with 1 Axes>"
            ]
          },
          "metadata": {
            "tags": [],
            "needs_background": "light"
          }
        }
      ]
    },
    {
      "cell_type": "code",
      "metadata": {
        "id": "Cy6pEonclfO2",
        "colab_type": "code",
        "colab": {
          "base_uri": "https://localhost:8080/",
          "height": 851
        },
        "outputId": "f82cf29e-2936-4370-a5e5-1e7745946065"
      },
      "source": [
        "# Here we\"ve plotted 3 states shoplifting data individually so you can get a sense\n",
        "# for the trend \n",
        "\n",
        "plot_crime(shoplifting_ma, 'year', 'num_arrests', \"Shoplifting in Massachusetts\")\n",
        "plot_crime(shoplifting_al, 'year', 'num_arrests', \"Shoplifting in Alabama\")\n",
        "plot_crime(shoplifting_co, 'year', 'num_arrests', \"Shoplifting in Colorado\")"
      ],
      "execution_count": 258,
      "outputs": [
        {
          "output_type": "display_data",
          "data": {
            "image/png": "[encoded data removed]",
            "text/plain": [
              "<Figure size 432x288 with 1 Axes>"
            ]
          },
          "metadata": {
            "tags": [],
            "needs_background": "light"
          }
        },
        {
          "output_type": "display_data",
          "data": {
            "image/png": "[encoded data removed]",
            "text/plain": [
              "<Figure size 432x288 with 1 Axes>"
            ]
          },
          "metadata": {
            "tags": [],
            "needs_background": "light"
          }
        },
        {
          "output_type": "display_data",
          "data": {
            "image/png": "[encoded data removed]",
            "text/plain": [
              "<Figure size 432x288 with 1 Axes>"
            ]
          },
          "metadata": {
            "tags": [],
            "needs_background": "light"
          }
        }
      ]
    },
    {
      "cell_type": "code",
      "metadata": {
        "id": "bT-a6B1fG0eh",
        "colab_type": "code",
        "colab": {
          "base_uri": "https://localhost:8080/",
          "height": 323
        },
        "outputId": "17d07de7-58b3-4e2c-df61-6d0c8d3245a6"
      },
      "source": [
        "# consistent random_state acorss all three split_train_tests\n",
        "rand_state = 1\n",
        "\n",
        "# need to replace state abbreviations with numbers for regression\n",
        "shoplifting_all['state']=shoplifting_all.state.astype(\"category\").cat.codes\n",
        "murder_all['state'] = murder_all.state.astype(\"category\").cat.codes\n",
        "a_assault_all['state'] = a_assault_all.state.astype(\"category\").cat.codes\n",
        "\n",
        "# remove target from data for each crime\n",
        "shoplifting_all_y = shoplifting_all['num_arrests']\n",
        "shoplifting_all_X = shoplifting_all.drop('num_arrests',1)\n",
        "murder_all_y = murder_all['num_arrests']\n",
        "murder_all_X = murder_all.drop('num_arrests',1)\n",
        "a_assault_all_y = a_assault_all['num_arrests']\n",
        "a_assault_all_X = a_assault_all.drop('num_arrests',1)\n",
        "\n",
        "# split_test_train on the data, used 1/3 test per good rule of thumb\n",
        "shoplifting_all_X_train, shoplifting_all_X_test, \\\n",
        "shoplifting_all_y_train, shoplifting_all_y_test = \\\n",
        "train_test_split(shoplifting_all_X, shoplifting_all_y, \\\n",
        "                 test_size=0.33, random_state=rand_state)\n",
        "\n",
        "murder_all_X_train, murder_all_X_test, \\\n",
        "murder_all_y_train, murder_all_y_test = \\\n",
        "train_test_split(murder_all_X, murder_all_y, \\\n",
        "                 test_size=0.33, random_state=rand_state)\n",
        "\n",
        "a_assault_all_X_train, a_assault_all_X_test, \\\n",
        "a_assault_all_y_train, a_assault_all_y_test = \\\n",
        "train_test_split(a_assault_all_X, a_assault_all_y, \\\n",
        "                 test_size=0.33, random_state=rand_state)"
      ],
      "execution_count": 219,
      "outputs": [
        {
          "output_type": "stream",
          "text": [
            "/usr/local/lib/python3.6/dist-packages/ipykernel_launcher.py:6: SettingWithCopyWarning: \n",
            "A value is trying to be set on a copy of a slice from a DataFrame.\n",
            "Try using .loc[row_indexer,col_indexer] = value instead\n",
            "\n",
            "See the caveats in the documentation: https://pandas.pydata.org/pandas-docs/stable/user_guide/indexing.html#returning-a-view-versus-a-copy\n",
            "  \n",
            "/usr/local/lib/python3.6/dist-packages/ipykernel_launcher.py:7: SettingWithCopyWarning: \n",
            "A value is trying to be set on a copy of a slice from a DataFrame.\n",
            "Try using .loc[row_indexer,col_indexer] = value instead\n",
            "\n",
            "See the caveats in the documentation: https://pandas.pydata.org/pandas-docs/stable/user_guide/indexing.html#returning-a-view-versus-a-copy\n",
            "  import sys\n",
            "/usr/local/lib/python3.6/dist-packages/ipykernel_launcher.py:8: SettingWithCopyWarning: \n",
            "A value is trying to be set on a copy of a slice from a DataFrame.\n",
            "Try using .loc[row_indexer,col_indexer] = value instead\n",
            "\n",
            "See the caveats in the documentation: https://pandas.pydata.org/pandas-docs/stable/user_guide/indexing.html#returning-a-view-versus-a-copy\n",
            "  \n"
          ],
          "name": "stderr"
        }
      ]
    },
    {
      "cell_type": "code",
      "metadata": {
        "id": "T_ypPaUJLRbf",
        "colab_type": "code",
        "colab": {
          "base_uri": "https://localhost:8080/",
          "height": 68
        },
        "outputId": "7197bbfe-4fce-441e-9b6a-6a27d2346bd4"
      },
      "source": [
        "# init the model for each crime\n",
        "shoplifting_regression = LinearRegression()\n",
        "murder_regression = LinearRegression()\n",
        "a_assault_regression = LinearRegression()\n",
        "\n",
        "# fit the model using the training data\n",
        "shoplifting_regression.fit(shoplifting_all_X_train, shoplifting_all_y_train)\n",
        "murder_regression.fit(murder_all_X_train, murder_all_y_train)\n",
        "a_assault_regression.fit(a_assault_all_X_train, a_assault_all_y_train)\n",
        "\n",
        "# predict what the values will be\n",
        "shoplifting_predict = shoplifting_regression.predict(shoplifting_all_X_test)\n",
        "murder_predict = murder_regression.predict(murder_all_X_test)\n",
        "a_assault_predict = a_assault_regression.predict(a_assault_all_X_test)\n",
        "\n",
        "# show how good the models performed\n",
        "print(\"Score of Shoplifting Model across all states is: \\t\\t\" + \\\n",
        "      str(shoplifting_regression.score(shoplifting_all_X_test, shoplifting_all_y_test)))\n",
        "print(\"Score of Murder Model across all states is: \\t\\t\\t\" + \\\n",
        "      str(murder_regression.score(murder_all_X_test, murder_all_y_test)))\n",
        "print(\"Score of Aggravated Assaults Model Across all states is: \\t\" + \\\n",
        "      str(a_assault_regression.score(a_assault_all_X_test, a_assault_all_y_test)))\n",
        "\n",
        "# i tested the models using varying random_states for the split_test_train\n",
        "# Shoplifting was consistenting more accurate than the other two, most likely\n",
        "# on account of being a larger dataset. It hovers around 85 to 92 in terms of\n",
        "# score. Murder and aggravated assault hover around mid 70s to mid 80s"
      ],
      "execution_count": 284,
      "outputs": [
        {
          "output_type": "stream",
          "text": [
            "Score of Shoplifting Model across all states is: \t\t0.8698647356709069\n",
            "Score of Murder Model across all states is: \t\t\t0.7800985452525789\n",
            "Score of Aggravated Assaults Model Across all states is: \t0.8015226129666969\n"
          ],
          "name": "stdout"
        }
      ]
    },
    {
      "cell_type": "code",
      "metadata": {
        "id": "vSRMA-B2tLkH",
        "colab_type": "code",
        "colab": {}
      },
      "source": [
        "# function to train a smaller model for a single state for a crime\n",
        "# won't be as accurate as the models above but offers a good visual\n",
        "# into how the model works\n",
        "\n",
        "def plot_crime_for_state(crime_df, state_name, crime_name):\n",
        "\n",
        "    crime_df = crime_df.sort_values(by=['year'])\n",
        "\n",
        "    crime_reg = LinearRegression()\n",
        "    crime_df['state']=crime_df.state.astype(\"category\").cat.codes\n",
        "    crime_reg.fit(crime_df.drop('num_arrests',1), crime_df['num_arrests'])\n",
        "\n",
        "    plt.scatter(crime_df['year'], crime_df['num_arrests'], color='b')\n",
        "    plt.title(\"Example of Regression on \" + state_name +\" for \" + crime_name)\n",
        "    plt.xlabel(\"Year\")\n",
        "    plt.ylabel(\"Number of Arrests\")\n",
        "    plt.plot(crime_df['year'],crime_reg.predict(crime_df.drop('num_arrests',1)),color='k')\n",
        "    plt.show()"
      ],
      "execution_count": 291,
      "outputs": []
    },
    {
      "cell_type": "code",
      "metadata": {
        "id": "Y-7TL48UuGHd",
        "colab_type": "code",
        "colab": {
          "base_uri": "https://localhost:8080/",
          "height": 851
        },
        "outputId": "6b84ced8-6591-46e0-cb2d-d4b3fa3cc7ae"
      },
      "source": [
        "plot_crime_for_state(shoplifting_ma, \"MA\", \"Shoplifting\")\n",
        "plot_crime_for_state(murder_ma, \"MA\", \"Murder or Negligent Homicide\")\n",
        "plot_crime_for_state(a_assault_ma, \"MA\", \"Shoplifting\")"
      ],
      "execution_count": 293,
      "outputs": [
        {
          "output_type": "display_data",
          "data": {
            "image/png": "[encoded data removed]",
            "text/plain": [
              "<Figure size 432x288 with 1 Axes>"
            ]
          },
          "metadata": {
            "tags": [],
            "needs_background": "light"
          }
        },
        {
          "output_type": "display_data",
          "data": {
            "image/png": "[encoded data removed]",
            "text/plain": [
              "<Figure size 432x288 with 1 Axes>"
            ]
          },
          "metadata": {
            "tags": [],
            "needs_background": "light"
          }
        },
        {
          "output_type": "display_data",
          "data": {
            "image/png": "[encoded data removed]",
            "text/plain": [
              "<Figure size 432x288 with 1 Axes>"
            ]
          },
          "metadata": {
            "tags": [],
            "needs_background": "light"
          }
        }
      ]
    },
    {
      "cell_type": "markdown",
      "metadata": {
        "id": "ZwR4T0u41ank",
        "colab_type": "text"
      },
      "source": [
        "#Future Improvements:\n",
        "I would like to include other datasets next containing information about the demographic of each state. This dataset contains information on the race and ethnicity of each arrestee and victim but without the demographics for each state year to year, it was hard to find a model which performed well.\n",
        "\n",
        "Additionally, I want to acknowledge that this data is somewhat inherently biased. The NIBRS is a self-reporting crime data base and is not required by the FBI, which results in the some of the inconsistencies in the data which we had to account for above. Additionally this is by no means information on every single crime in the U.S. so any knowledge we learn from this hopefully is representative of the larger dataset of all crime in the U.S. but there is no way to see if we have an accurate sampling."
      ]
    },
    {
      "cell_type": "markdown",
      "metadata": {
        "id": "UuQ5pm9v3FQm",
        "colab_type": "text"
      },
      "source": [
        "#Appendix A: Below are other schemas we used to read in data. \n",
        "We no longer needed those tables but decided to keep the schemas just in case a need should arise later."
      ]
    },
    {
      "cell_type": "code",
      "metadata": {
        "id": "M5FqeRL4Znce",
        "colab_type": "code",
        "colab": {}
      },
      "source": [
        "victim_circumstances_schema = StructType([ StructField(\"victim_id\", IntegerType(), True)\\\n",
        "\n",
        "                       ,StructField(\"circumstances_id\", IntegerType(), True)\\\n",
        "\n",
        "                       ,StructField(\"justifiable_force_id\", DoubleType(), True)\\\n",
        "\n",
        "                       ,StructField(\"state\", StringType(), True)\\\n",
        "\n",
        "                       ,StructField(\"data_year\", DoubleType(), True)])"
      ],
      "execution_count": 16,
      "outputs": []
    },
    {
      "cell_type": "code",
      "metadata": {
        "id": "jwupLDIHcJ9s",
        "colab_type": "code",
        "colab": {}
      },
      "source": [
        "victim_schema = StructType([ StructField(\"victim_id\", IntegerType(), True)\\\n",
        "\n",
        "                       ,StructField(\"incident_id\", IntegerType(), True)\\\n",
        "\n",
        "                       #,StructField(\"victim_seq_num\", IntegerType(), True)\\\n",
        "\n",
        "                       #,StructField(\"victim_type_id\", IntegerType(), True)\\\n",
        "\n",
        "                       #,StructField(\"assignment_type_id\", DoubleType(), True)\\\n",
        "\n",
        "                       #,StructField(\"activity_type_id\", DoubleType(), True)\\\n",
        "\n",
        "                       #,StructField(\"outside_agency_id\", DoubleType(), True)\\\n",
        "\n",
        "                       #,StructField(\"age_id\", DoubleType(), True)\\\n",
        "\n",
        "                       #,StructField(\"age_num\", DoubleType(), True)\\\n",
        "\n",
        "                       #,StructField(\"sex_code\", StringType(), True)\\\n",
        "                       \n",
        "                       ,StructField(\"race_id\", DoubleType(), True)\\\n",
        "                       \n",
        "                       ,StructField(\"ethnicity_id\", DoubleType(), True)\\\n",
        "                       \n",
        "                       #,StructField(\"resident_status_code\", StringType(), True)\\\n",
        "                       \n",
        "                       #,StructField(\"agency_data_year\", DoubleType(), True)\\\n",
        "                       \n",
        "                       #,StructField(\"ff_line_number\", DoubleType(), True)\\\n",
        "                       \n",
        "                       #,StructField(\"age_range_low_num\", DoubleType(), True)\\\n",
        "                       \n",
        "                       #,StructField(\"age_range_high_num\", DoubleType(), True)\\\n",
        "                       \n",
        "                       ,StructField(\"state\", StringType(), True)\\\n",
        "                       \n",
        "                       #,StructField(\"data_year\", DoubleType(), True)\\\n",
        "                       \n",
        "                       ])"
      ],
      "execution_count": 17,
      "outputs": []
    },
    {
      "cell_type": "code",
      "metadata": {
        "id": "dpEupELRwOcj",
        "colab_type": "code",
        "colab": {}
      },
      "source": [
        "races_schema = StructType([ StructField(\"race_id\", IntegerType(), True)\\\n",
        "\n",
        "                       #,StructField(\"race_code\", StringType(), True)\\\n",
        "\n",
        "                       ,StructField(\"race_desc\", StringType(), True)\\\n",
        "\n",
        "                       #,StructField(\"start_year\", DoubleType(), True)\\\n",
        "\n",
        "                       #,StructField(\"end_year\", DoubleType(), True)\\\n",
        "\n",
        "                       #,StructField(\"notes\", StringType(), True)\\\n",
        "\n",
        "                       #,StructField(\"state\", StringType(), True)\n",
        "\n",
        "                        ])"
      ],
      "execution_count": 18,
      "outputs": []
    },
    {
      "cell_type": "code",
      "metadata": {
        "id": "xdAyBBTaVSgv",
        "colab_type": "code",
        "colab": {}
      },
      "source": [
        ""
      ],
      "execution_count": 18,
      "outputs": []
    },
    {
      "cell_type": "code",
      "metadata": {
        "id": "uh_M8DINVxxu",
        "colab_type": "code",
        "colab": {}
      },
      "source": [
        "circumstances_schema = StructType([ StructField(\"circumstances_id\", IntegerType(), True)\\\n",
        "\n",
        "                       ,StructField(\"circumstances_type\", StringType(), True)\\\n",
        "\n",
        "                       ,StructField(\"circumstances_code\", IntegerType(), True)\\\n",
        "\n",
        "                       ,StructField(\"circumstances_name\", StringType(), True)\\\n",
        "\n",
        "                       ,StructField(\"state\", StringType(), True)\\\n",
        "                       \n",
        "                       ,StructField(\"year\", IntegerType(), True)])"
      ],
      "execution_count": 7,
      "outputs": []
    }
  ]
}