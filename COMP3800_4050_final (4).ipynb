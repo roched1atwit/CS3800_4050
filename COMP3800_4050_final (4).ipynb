{
  "nbformat": 4,
  "nbformat_minor": 0,
  "metadata": {
    "kernelspec": {
      "name": "python3",
      "display_name": "Python 3"
    },
    "colab": {
      "name": "COMP3800_4050_final.ipynb",
      "provenance": [],
      "collapsed_sections": [
        "nlI7V7adDDfp",
        "H2B1_JLVDDgO"
      ]
    }
  },
  "cells": [
    {
      "cell_type": "code",
      "metadata": {
        "id": "rjHBbTJBS1Q-",
        "colab_type": "code",
        "colab": {
          "base_uri": "https://localhost:8080/",
          "height": 68
        },
        "outputId": "d3b5007a-5b01-4ea3-a17c-96d93d610b18"
      },
      "source": [
        "#### Setting up Spark for colab space, code provided by Professor Othman\n",
        "\n",
        "import os\n",
        "#Install Java\n",
        "!apt-get install openjdk-8-jdk-headless -qq > /dev/null\n",
        "#Set JAVA_HOME path variable in Linux\n",
        "os.environ[\"JAVA_HOME\"] = \"/usr/lib/jvm/java-8-openjdk-amd64\"\n",
        "!update-alternatives --set java /usr/lib/jvm/java-8-openjdk-amd64/jre/bin/java\n",
        "!java -version\n",
        "\n",
        "\n",
        "#Install Spark\n",
        "#download Spark file\n",
        "!wget -q http://apache.osuosl.org/spark/spark-2.4.6/spark-2.4.6-bin-hadoop2.7.tgz\n",
        "#extract the file\n",
        "!tar xf spark-2.4.6-bin-hadoop2.7.tgz\n",
        "#Set SPARK-HOME path variable in Linux\n",
        "os.environ[\"SPARK_HOME\"] = \"/content/spark-2.4.6-bin-hadoop2.7\"\n",
        "\n",
        "\n",
        "#install findspark package\n",
        "!pip install -q findspark"
      ],
      "execution_count": 25,
      "outputs": [
        {
          "output_type": "stream",
          "text": [
            "openjdk version \"1.8.0_252\"\n",
            "OpenJDK Runtime Environment (build 1.8.0_252-8u252-b09-1~18.04-b09)\n",
            "OpenJDK 64-Bit Server VM (build 25.252-b09, mixed mode)\n"
          ],
          "name": "stdout"
        }
      ]
    },
    {
      "cell_type": "code",
      "metadata": {
        "id": "FSkvjp4EDDeY",
        "colab_type": "code",
        "colab": {}
      },
      "source": [
        "import findspark\n",
        "findspark.init()"
      ],
      "execution_count": 26,
      "outputs": []
    },
    {
      "cell_type": "code",
      "metadata": {
        "id": "afZ55q7XDDec",
        "colab_type": "code",
        "colab": {}
      },
      "source": [
        "# create entry points to spark\n",
        "try:\n",
        "    sc.stop()\n",
        "except:\n",
        "    pass\n",
        "from pyspark import SparkContext, SparkConf\n",
        "from pyspark.sql import SparkSession, SQLContext\n",
        "conf = SparkConf().setAppName(\"lecture10\").setMaster(\"local[*]\")\n",
        "sc=SparkContext(conf = conf)\n",
        "spark = SparkSession(sparkContext=sc)\n",
        "sqlContext = SQLContext(sc)"
      ],
      "execution_count": 27,
      "outputs": []
    },
    {
      "cell_type": "code",
      "metadata": {
        "id": "PM-f-XunDDef",
        "colab_type": "code",
        "colab": {
          "base_uri": "https://localhost:8080/",
          "height": 216
        },
        "outputId": "e698983f-e21c-4fcf-8e2d-8d3b5a6d81a7"
      },
      "source": [
        "spark"
      ],
      "execution_count": 28,
      "outputs": [
        {
          "output_type": "execute_result",
          "data": {
            "text/html": [
              "\n",
              "            <div>\n",
              "                <p><b>SparkSession - in-memory</b></p>\n",
              "                \n",
              "        <div>\n",
              "            <p><b>SparkContext</b></p>\n",
              "\n",
              "            <p><a href=\"http://3769aafbd7ba:4040\">Spark UI</a></p>\n",
              "\n",
              "            <dl>\n",
              "              <dt>Version</dt>\n",
              "                <dd><code>v2.4.6</code></dd>\n",
              "              <dt>Master</dt>\n",
              "                <dd><code>local[*]</code></dd>\n",
              "              <dt>AppName</dt>\n",
              "                <dd><code>lecture10</code></dd>\n",
              "            </dl>\n",
              "        </div>\n",
              "        \n",
              "            </div>\n",
              "        "
            ],
            "text/plain": [
              "<pyspark.sql.session.SparkSession at 0x7f365d5b8be0>"
            ]
          },
          "metadata": {
            "tags": []
          },
          "execution_count": 28
        }
      ]
    },
    {
      "cell_type": "code",
      "metadata": {
        "id": "8ltsWZ_486yW",
        "colab_type": "code",
        "colab": {}
      },
      "source": [
        "# hardcoded variables telling our program which states, years, and tables are needed from NIBRS dataa\n",
        "\n",
        "state_list = [\"alabama\", \"arizona\"]\n",
        "state_abbr = [\"AL\", \"AZ\"]\n",
        "csv = [\"nibrs_offense\", \"nibrs_circumstances\", \"nibrs_victim_circumstances\", \"nibrs_victim\"]\n",
        "firstyear = 1991\n",
        "lastyear = 2018"
      ],
      "execution_count": 29,
      "outputs": []
    },
    {
      "cell_type": "code",
      "metadata": {
        "id": "PNYXU2UxXRNC",
        "colab_type": "code",
        "colab": {
          "base_uri": "https://localhost:8080/",
          "height": 1000
        },
        "outputId": "0b5b9037-ea8a-4890-c045-af0401951040"
      },
      "source": [
        "import pandas as pd\n",
        "\n",
        "df_all = []   # empty list of all read in tables\n",
        "url_base=\"https://raw.githubusercontent.com/roched1atwit/CS3800_4050/master/data/\"\n",
        "\n",
        "for j in range(0, len(csv)):\n",
        "    df_list = []\n",
        "    for state_i in range(0,len(state_list)):\n",
        "        for year in range(firstyear,lastyear+1):\n",
        "            url = url_base+state_list[state_i]+'/'+state_abbr[state_i]+'-'+str(year)\n",
        "            url_c = url + '/' + csv[j] + '.csv'\n",
        "            #print(\"Reading \" + url_c)\n",
        "            #print(url_c)\n",
        "            try:\n",
        "                temp_df = pd.read_csv(url_c, error_bad_lines=False)\n",
        "            except:\n",
        "                url_c = url + '/' + csv[j].upper() + '.csv'\n",
        "                try:\n",
        "                    temp_df = pd.read_csv(url_c, error_bad_lines=False)\n",
        "                    temp_df.columns = map(str.lower, temp_df.columns)\n",
        "                except:\n",
        "                    #break\n",
        "                    print(url_c + \" did not exist\")\n",
        "            \n",
        "            temp_df['state'] = state_abbr[state_i]\n",
        "            df_list.append(temp_df)\n",
        "            #print(df_list)\n",
        "            #break\n",
        "    df_all.append(pd.concat(df_list))\n",
        "        \n",
        "#AL2018_OFFENSE=pd.read_csv(url,  error_bad_lines=False)\n",
        "#AL2018_OFFENSE"
      ],
      "execution_count": 30,
      "outputs": [
        {
          "output_type": "stream",
          "text": [
            "https://raw.githubusercontent.com/roched1atwit/CS3800_4050/master/data/alabama/AL-1993/NIBRS_OFFENSE.csv did not exist\n",
            "https://raw.githubusercontent.com/roched1atwit/CS3800_4050/master/data/alabama/AL-1994/NIBRS_OFFENSE.csv did not exist\n",
            "https://raw.githubusercontent.com/roched1atwit/CS3800_4050/master/data/alabama/AL-1995/NIBRS_OFFENSE.csv did not exist\n",
            "https://raw.githubusercontent.com/roched1atwit/CS3800_4050/master/data/alabama/AL-1996/NIBRS_OFFENSE.csv did not exist\n",
            "https://raw.githubusercontent.com/roched1atwit/CS3800_4050/master/data/alabama/AL-1997/NIBRS_OFFENSE.csv did not exist\n",
            "https://raw.githubusercontent.com/roched1atwit/CS3800_4050/master/data/alabama/AL-1998/NIBRS_OFFENSE.csv did not exist\n",
            "https://raw.githubusercontent.com/roched1atwit/CS3800_4050/master/data/alabama/AL-1999/NIBRS_OFFENSE.csv did not exist\n",
            "https://raw.githubusercontent.com/roched1atwit/CS3800_4050/master/data/alabama/AL-2000/NIBRS_OFFENSE.csv did not exist\n",
            "https://raw.githubusercontent.com/roched1atwit/CS3800_4050/master/data/alabama/AL-2001/NIBRS_OFFENSE.csv did not exist\n",
            "https://raw.githubusercontent.com/roched1atwit/CS3800_4050/master/data/alabama/AL-2002/NIBRS_OFFENSE.csv did not exist\n",
            "https://raw.githubusercontent.com/roched1atwit/CS3800_4050/master/data/alabama/AL-2003/NIBRS_OFFENSE.csv did not exist\n",
            "https://raw.githubusercontent.com/roched1atwit/CS3800_4050/master/data/alabama/AL-2004/NIBRS_OFFENSE.csv did not exist\n",
            "https://raw.githubusercontent.com/roched1atwit/CS3800_4050/master/data/alabama/AL-2005/NIBRS_OFFENSE.csv did not exist\n",
            "https://raw.githubusercontent.com/roched1atwit/CS3800_4050/master/data/arizona/AZ-1991/NIBRS_OFFENSE.csv did not exist\n",
            "https://raw.githubusercontent.com/roched1atwit/CS3800_4050/master/data/arizona/AZ-1992/NIBRS_OFFENSE.csv did not exist\n",
            "https://raw.githubusercontent.com/roched1atwit/CS3800_4050/master/data/arizona/AZ-1993/NIBRS_OFFENSE.csv did not exist\n",
            "https://raw.githubusercontent.com/roched1atwit/CS3800_4050/master/data/arizona/AZ-1994/NIBRS_OFFENSE.csv did not exist\n",
            "https://raw.githubusercontent.com/roched1atwit/CS3800_4050/master/data/arizona/AZ-1995/NIBRS_OFFENSE.csv did not exist\n",
            "https://raw.githubusercontent.com/roched1atwit/CS3800_4050/master/data/arizona/AZ-1996/NIBRS_OFFENSE.csv did not exist\n",
            "https://raw.githubusercontent.com/roched1atwit/CS3800_4050/master/data/arizona/AZ-1997/NIBRS_OFFENSE.csv did not exist\n",
            "https://raw.githubusercontent.com/roched1atwit/CS3800_4050/master/data/arizona/AZ-1998/NIBRS_OFFENSE.csv did not exist\n",
            "https://raw.githubusercontent.com/roched1atwit/CS3800_4050/master/data/arizona/AZ-1999/NIBRS_OFFENSE.csv did not exist\n",
            "https://raw.githubusercontent.com/roched1atwit/CS3800_4050/master/data/arizona/AZ-2000/NIBRS_OFFENSE.csv did not exist\n",
            "https://raw.githubusercontent.com/roched1atwit/CS3800_4050/master/data/arizona/AZ-2001/NIBRS_OFFENSE.csv did not exist\n",
            "https://raw.githubusercontent.com/roched1atwit/CS3800_4050/master/data/arizona/AZ-2002/NIBRS_OFFENSE.csv did not exist\n",
            "https://raw.githubusercontent.com/roched1atwit/CS3800_4050/master/data/arizona/AZ-2003/NIBRS_OFFENSE.csv did not exist\n",
            "https://raw.githubusercontent.com/roched1atwit/CS3800_4050/master/data/alabama/AL-1993/NIBRS_CIRCUMSTANCES.csv did not exist\n",
            "https://raw.githubusercontent.com/roched1atwit/CS3800_4050/master/data/alabama/AL-1994/NIBRS_CIRCUMSTANCES.csv did not exist\n",
            "https://raw.githubusercontent.com/roched1atwit/CS3800_4050/master/data/alabama/AL-1995/NIBRS_CIRCUMSTANCES.csv did not exist\n",
            "https://raw.githubusercontent.com/roched1atwit/CS3800_4050/master/data/alabama/AL-1996/NIBRS_CIRCUMSTANCES.csv did not exist\n",
            "https://raw.githubusercontent.com/roched1atwit/CS3800_4050/master/data/alabama/AL-1997/NIBRS_CIRCUMSTANCES.csv did not exist\n",
            "https://raw.githubusercontent.com/roched1atwit/CS3800_4050/master/data/alabama/AL-1998/NIBRS_CIRCUMSTANCES.csv did not exist\n",
            "https://raw.githubusercontent.com/roched1atwit/CS3800_4050/master/data/alabama/AL-1999/NIBRS_CIRCUMSTANCES.csv did not exist\n",
            "https://raw.githubusercontent.com/roched1atwit/CS3800_4050/master/data/alabama/AL-2000/NIBRS_CIRCUMSTANCES.csv did not exist\n",
            "https://raw.githubusercontent.com/roched1atwit/CS3800_4050/master/data/alabama/AL-2001/NIBRS_CIRCUMSTANCES.csv did not exist\n",
            "https://raw.githubusercontent.com/roched1atwit/CS3800_4050/master/data/alabama/AL-2002/NIBRS_CIRCUMSTANCES.csv did not exist\n",
            "https://raw.githubusercontent.com/roched1atwit/CS3800_4050/master/data/alabama/AL-2003/NIBRS_CIRCUMSTANCES.csv did not exist\n",
            "https://raw.githubusercontent.com/roched1atwit/CS3800_4050/master/data/alabama/AL-2004/NIBRS_CIRCUMSTANCES.csv did not exist\n",
            "https://raw.githubusercontent.com/roched1atwit/CS3800_4050/master/data/alabama/AL-2005/NIBRS_CIRCUMSTANCES.csv did not exist\n",
            "https://raw.githubusercontent.com/roched1atwit/CS3800_4050/master/data/arizona/AZ-1991/NIBRS_CIRCUMSTANCES.csv did not exist\n",
            "https://raw.githubusercontent.com/roched1atwit/CS3800_4050/master/data/arizona/AZ-1992/NIBRS_CIRCUMSTANCES.csv did not exist\n",
            "https://raw.githubusercontent.com/roched1atwit/CS3800_4050/master/data/arizona/AZ-1993/NIBRS_CIRCUMSTANCES.csv did not exist\n",
            "https://raw.githubusercontent.com/roched1atwit/CS3800_4050/master/data/arizona/AZ-1994/NIBRS_CIRCUMSTANCES.csv did not exist\n",
            "https://raw.githubusercontent.com/roched1atwit/CS3800_4050/master/data/arizona/AZ-1995/NIBRS_CIRCUMSTANCES.csv did not exist\n",
            "https://raw.githubusercontent.com/roched1atwit/CS3800_4050/master/data/arizona/AZ-1996/NIBRS_CIRCUMSTANCES.csv did not exist\n",
            "https://raw.githubusercontent.com/roched1atwit/CS3800_4050/master/data/arizona/AZ-1997/NIBRS_CIRCUMSTANCES.csv did not exist\n",
            "https://raw.githubusercontent.com/roched1atwit/CS3800_4050/master/data/arizona/AZ-1998/NIBRS_CIRCUMSTANCES.csv did not exist\n",
            "https://raw.githubusercontent.com/roched1atwit/CS3800_4050/master/data/arizona/AZ-1999/NIBRS_CIRCUMSTANCES.csv did not exist\n",
            "https://raw.githubusercontent.com/roched1atwit/CS3800_4050/master/data/arizona/AZ-2000/NIBRS_CIRCUMSTANCES.csv did not exist\n",
            "https://raw.githubusercontent.com/roched1atwit/CS3800_4050/master/data/arizona/AZ-2001/NIBRS_CIRCUMSTANCES.csv did not exist\n",
            "https://raw.githubusercontent.com/roched1atwit/CS3800_4050/master/data/arizona/AZ-2002/NIBRS_CIRCUMSTANCES.csv did not exist\n",
            "https://raw.githubusercontent.com/roched1atwit/CS3800_4050/master/data/arizona/AZ-2003/NIBRS_CIRCUMSTANCES.csv did not exist\n",
            "https://raw.githubusercontent.com/roched1atwit/CS3800_4050/master/data/alabama/AL-1993/NIBRS_VICTIM_CIRCUMSTANCES.csv did not exist\n",
            "https://raw.githubusercontent.com/roched1atwit/CS3800_4050/master/data/alabama/AL-1994/NIBRS_VICTIM_CIRCUMSTANCES.csv did not exist\n",
            "https://raw.githubusercontent.com/roched1atwit/CS3800_4050/master/data/alabama/AL-1995/NIBRS_VICTIM_CIRCUMSTANCES.csv did not exist\n",
            "https://raw.githubusercontent.com/roched1atwit/CS3800_4050/master/data/alabama/AL-1996/NIBRS_VICTIM_CIRCUMSTANCES.csv did not exist\n",
            "https://raw.githubusercontent.com/roched1atwit/CS3800_4050/master/data/alabama/AL-1997/NIBRS_VICTIM_CIRCUMSTANCES.csv did not exist\n",
            "https://raw.githubusercontent.com/roched1atwit/CS3800_4050/master/data/alabama/AL-1998/NIBRS_VICTIM_CIRCUMSTANCES.csv did not exist\n",
            "https://raw.githubusercontent.com/roched1atwit/CS3800_4050/master/data/alabama/AL-1999/NIBRS_VICTIM_CIRCUMSTANCES.csv did not exist\n",
            "https://raw.githubusercontent.com/roched1atwit/CS3800_4050/master/data/alabama/AL-2000/NIBRS_VICTIM_CIRCUMSTANCES.csv did not exist\n",
            "https://raw.githubusercontent.com/roched1atwit/CS3800_4050/master/data/alabama/AL-2001/NIBRS_VICTIM_CIRCUMSTANCES.csv did not exist\n",
            "https://raw.githubusercontent.com/roched1atwit/CS3800_4050/master/data/alabama/AL-2002/NIBRS_VICTIM_CIRCUMSTANCES.csv did not exist\n",
            "https://raw.githubusercontent.com/roched1atwit/CS3800_4050/master/data/alabama/AL-2003/NIBRS_VICTIM_CIRCUMSTANCES.csv did not exist\n",
            "https://raw.githubusercontent.com/roched1atwit/CS3800_4050/master/data/alabama/AL-2004/NIBRS_VICTIM_CIRCUMSTANCES.csv did not exist\n",
            "https://raw.githubusercontent.com/roched1atwit/CS3800_4050/master/data/alabama/AL-2005/NIBRS_VICTIM_CIRCUMSTANCES.csv did not exist\n",
            "https://raw.githubusercontent.com/roched1atwit/CS3800_4050/master/data/arizona/AZ-1991/NIBRS_VICTIM_CIRCUMSTANCES.csv did not exist\n",
            "https://raw.githubusercontent.com/roched1atwit/CS3800_4050/master/data/arizona/AZ-1992/NIBRS_VICTIM_CIRCUMSTANCES.csv did not exist\n",
            "https://raw.githubusercontent.com/roched1atwit/CS3800_4050/master/data/arizona/AZ-1993/NIBRS_VICTIM_CIRCUMSTANCES.csv did not exist\n",
            "https://raw.githubusercontent.com/roched1atwit/CS3800_4050/master/data/arizona/AZ-1994/NIBRS_VICTIM_CIRCUMSTANCES.csv did not exist\n",
            "https://raw.githubusercontent.com/roched1atwit/CS3800_4050/master/data/arizona/AZ-1995/NIBRS_VICTIM_CIRCUMSTANCES.csv did not exist\n",
            "https://raw.githubusercontent.com/roched1atwit/CS3800_4050/master/data/arizona/AZ-1996/NIBRS_VICTIM_CIRCUMSTANCES.csv did not exist\n",
            "https://raw.githubusercontent.com/roched1atwit/CS3800_4050/master/data/arizona/AZ-1997/NIBRS_VICTIM_CIRCUMSTANCES.csv did not exist\n",
            "https://raw.githubusercontent.com/roched1atwit/CS3800_4050/master/data/arizona/AZ-1998/NIBRS_VICTIM_CIRCUMSTANCES.csv did not exist\n",
            "https://raw.githubusercontent.com/roched1atwit/CS3800_4050/master/data/arizona/AZ-1999/NIBRS_VICTIM_CIRCUMSTANCES.csv did not exist\n",
            "https://raw.githubusercontent.com/roched1atwit/CS3800_4050/master/data/arizona/AZ-2000/NIBRS_VICTIM_CIRCUMSTANCES.csv did not exist\n",
            "https://raw.githubusercontent.com/roched1atwit/CS3800_4050/master/data/arizona/AZ-2001/NIBRS_VICTIM_CIRCUMSTANCES.csv did not exist\n",
            "https://raw.githubusercontent.com/roched1atwit/CS3800_4050/master/data/arizona/AZ-2002/NIBRS_VICTIM_CIRCUMSTANCES.csv did not exist\n",
            "https://raw.githubusercontent.com/roched1atwit/CS3800_4050/master/data/arizona/AZ-2003/NIBRS_VICTIM_CIRCUMSTANCES.csv did not exist\n",
            "https://raw.githubusercontent.com/roched1atwit/CS3800_4050/master/data/alabama/AL-1993/NIBRS_VICTIM.csv did not exist\n",
            "https://raw.githubusercontent.com/roched1atwit/CS3800_4050/master/data/alabama/AL-1994/NIBRS_VICTIM.csv did not exist\n",
            "https://raw.githubusercontent.com/roched1atwit/CS3800_4050/master/data/alabama/AL-1995/NIBRS_VICTIM.csv did not exist\n",
            "https://raw.githubusercontent.com/roched1atwit/CS3800_4050/master/data/alabama/AL-1996/NIBRS_VICTIM.csv did not exist\n",
            "https://raw.githubusercontent.com/roched1atwit/CS3800_4050/master/data/alabama/AL-1997/NIBRS_VICTIM.csv did not exist\n",
            "https://raw.githubusercontent.com/roched1atwit/CS3800_4050/master/data/alabama/AL-1998/NIBRS_VICTIM.csv did not exist\n",
            "https://raw.githubusercontent.com/roched1atwit/CS3800_4050/master/data/alabama/AL-1999/NIBRS_VICTIM.csv did not exist\n",
            "https://raw.githubusercontent.com/roched1atwit/CS3800_4050/master/data/alabama/AL-2000/NIBRS_VICTIM.csv did not exist\n",
            "https://raw.githubusercontent.com/roched1atwit/CS3800_4050/master/data/alabama/AL-2001/NIBRS_VICTIM.csv did not exist\n",
            "https://raw.githubusercontent.com/roched1atwit/CS3800_4050/master/data/alabama/AL-2002/NIBRS_VICTIM.csv did not exist\n",
            "https://raw.githubusercontent.com/roched1atwit/CS3800_4050/master/data/alabama/AL-2003/NIBRS_VICTIM.csv did not exist\n",
            "https://raw.githubusercontent.com/roched1atwit/CS3800_4050/master/data/alabama/AL-2004/NIBRS_VICTIM.csv did not exist\n",
            "https://raw.githubusercontent.com/roched1atwit/CS3800_4050/master/data/alabama/AL-2005/NIBRS_VICTIM.csv did not exist\n",
            "https://raw.githubusercontent.com/roched1atwit/CS3800_4050/master/data/arizona/AZ-1991/NIBRS_VICTIM.csv did not exist\n",
            "https://raw.githubusercontent.com/roched1atwit/CS3800_4050/master/data/arizona/AZ-1992/NIBRS_VICTIM.csv did not exist\n",
            "https://raw.githubusercontent.com/roched1atwit/CS3800_4050/master/data/arizona/AZ-1993/NIBRS_VICTIM.csv did not exist\n",
            "https://raw.githubusercontent.com/roched1atwit/CS3800_4050/master/data/arizona/AZ-1994/NIBRS_VICTIM.csv did not exist\n",
            "https://raw.githubusercontent.com/roched1atwit/CS3800_4050/master/data/arizona/AZ-1995/NIBRS_VICTIM.csv did not exist\n",
            "https://raw.githubusercontent.com/roched1atwit/CS3800_4050/master/data/arizona/AZ-1996/NIBRS_VICTIM.csv did not exist\n",
            "https://raw.githubusercontent.com/roched1atwit/CS3800_4050/master/data/arizona/AZ-1997/NIBRS_VICTIM.csv did not exist\n",
            "https://raw.githubusercontent.com/roched1atwit/CS3800_4050/master/data/arizona/AZ-1998/NIBRS_VICTIM.csv did not exist\n",
            "https://raw.githubusercontent.com/roched1atwit/CS3800_4050/master/data/arizona/AZ-1999/NIBRS_VICTIM.csv did not exist\n",
            "https://raw.githubusercontent.com/roched1atwit/CS3800_4050/master/data/arizona/AZ-2000/NIBRS_VICTIM.csv did not exist\n",
            "https://raw.githubusercontent.com/roched1atwit/CS3800_4050/master/data/arizona/AZ-2001/NIBRS_VICTIM.csv did not exist\n",
            "https://raw.githubusercontent.com/roched1atwit/CS3800_4050/master/data/arizona/AZ-2002/NIBRS_VICTIM.csv did not exist\n",
            "https://raw.githubusercontent.com/roched1atwit/CS3800_4050/master/data/arizona/AZ-2003/NIBRS_VICTIM.csv did not exist\n"
          ],
          "name": "stdout"
        }
      ]
    },
    {
      "cell_type": "code",
      "metadata": {
        "id": "eINiPZ4tzLFP",
        "colab_type": "code",
        "colab": {}
      },
      "source": [
        "from pyspark.sql.types import *\n",
        "\n",
        "incident_schema = StructType([ StructField(\"offense_id\", IntegerType(), True)\\\n",
        "\n",
        "                       ,StructField(\"incident_id\", IntegerType(), True)\\\n",
        "\n",
        "                       ,StructField(\"offense_type_id\", IntegerType(), True)\\\n",
        "\n",
        "                       ,StructField(\"attempt_complete_flag\", StringType(), True)\\\n",
        "\n",
        "                       ,StructField(\"location_id\", IntegerType(), True)\\\n",
        "\n",
        "                       ,StructField(\"num_premises_entered\", DoubleType(), True)\\\n",
        "\n",
        "                       ,StructField(\"method_entry_code\", StringType(), True)\\\n",
        "\n",
        "                       ,StructField(\"ff_line_number\", DoubleType(), True)\\\n",
        "\n",
        "                       ,StructField(\"state\", StringType(), True)\\\n",
        "\n",
        "                       ,StructField(\"data_year\", DoubleType(), True)])\n",
        "\n",
        "df = spark.createDataFrame(df_all[0],schema=incident_schema)\n",
        "\n",
        "del df_all[0]"
      ],
      "execution_count": 31,
      "outputs": []
    },
    {
      "cell_type": "code",
      "metadata": {
        "id": "uh_M8DINVxxu",
        "colab_type": "code",
        "colab": {}
      },
      "source": [
        "from pyspark.sql.types import *\n",
        "\n",
        "circumstances_schema = StructType([ StructField(\"circumstances_id\", IntegerType(), True)\\\n",
        "\n",
        "                       ,StructField(\"circumstances_type\", StringType(), True)\\\n",
        "\n",
        "                       ,StructField(\"circumstances_code\", IntegerType(), True)\\\n",
        "\n",
        "                       ,StructField(\"circumstances_name\", StringType(), True)\\\n",
        "\n",
        "                       ,StructField(\"state\", StringType(), True)])\n",
        "\n",
        "circumstances_spark = spark.createDataFrame(df_all[0],schema=circumstances_schema)\n",
        "del df_all[0]"
      ],
      "execution_count": 32,
      "outputs": []
    },
    {
      "cell_type": "code",
      "metadata": {
        "id": "_4dfVcGdWYxR",
        "colab_type": "code",
        "colab": {
          "base_uri": "https://localhost:8080/",
          "height": 425
        },
        "outputId": "f2f3ff0b-77c0-4e33-9404-98e801705fc2"
      },
      "source": [
        "circumstances_spark = circumstances_spark.drop(\"state\")\n",
        "circumstances_spark = circumstances_spark.drop_duplicates()\n",
        "circumstances_spark.show()\n",
        "circumstances_spark.count()"
      ],
      "execution_count": 33,
      "outputs": [
        {
          "output_type": "stream",
          "text": [
            "+----------------+------------------+------------------+--------------------+\n",
            "|circumstances_id|circumstances_type|circumstances_code|  circumstances_name|\n",
            "+----------------+------------------+------------------+--------------------+\n",
            "|              13|                 N|                30|Child Playing Wit...|\n",
            "|               7|                 A|                 7|       Mercy Killing|\n",
            "|              15|                 N|                32|    Hunting Accident|\n",
            "|              17|                 N|                34|Other Negligent K...|\n",
            "|               9|                 A|                 9| Other Circumstances|\n",
            "|               6|                 A|                 6|      Lovers Quarrel|\n",
            "|              12|                 J|                21|Criminal Killed b...|\n",
            "|              10|                 A|                10|Unknown Circumsta...|\n",
            "|              16|                 N|                33|Other Negligent W...|\n",
            "|               3|                 A|                 3|        Drug Dealing|\n",
            "|               4|                 A|                 4|            Gangland|\n",
            "|               8|                 A|                 8|Other Felony Invo...|\n",
            "|              14|                 N|                31|Gun-Cleaning Acci...|\n",
            "|               1|                 A|                 1|            Argument|\n",
            "|               5|                 A|                 5|       Juvenile Gang|\n",
            "|               2|                 A|                 2|Assault on Law En...|\n",
            "|               6|                 A|                 6|   Domestic Violence|\n",
            "|              11|                 J|                20|Criminal Killed b...|\n",
            "+----------------+------------------+------------------+--------------------+\n",
            "\n"
          ],
          "name": "stdout"
        },
        {
          "output_type": "execute_result",
          "data": {
            "text/plain": [
              "18"
            ]
          },
          "metadata": {
            "tags": []
          },
          "execution_count": 33
        }
      ]
    },
    {
      "cell_type": "code",
      "metadata": {
        "id": "M5FqeRL4Znce",
        "colab_type": "code",
        "colab": {}
      },
      "source": [
        "from pyspark.sql.types import *\n",
        "\n",
        "victim_circumstances_schema = StructType([ StructField(\"victim_id\", IntegerType(), True)\\\n",
        "\n",
        "                       ,StructField(\"circumstances_id\", IntegerType(), True)\\\n",
        "\n",
        "                       ,StructField(\"justifiable_force_id\", DoubleType(), True)\\\n",
        "\n",
        "                       ,StructField(\"state\", StringType(), True)\\\n",
        "\n",
        "                       ,StructField(\"data_year\", DoubleType(), True)])\n",
        "\n",
        "victim_circumstances_spark = spark.createDataFrame(df_all[0],schema=victim_circumstances_schema)\n",
        "del df_all[0]"
      ],
      "execution_count": 34,
      "outputs": []
    },
    {
      "cell_type": "code",
      "metadata": {
        "id": "vuSrt7yiaHzg",
        "colab_type": "code",
        "colab": {
          "base_uri": "https://localhost:8080/",
          "height": 476
        },
        "outputId": "1997ba57-2e6a-4620-8270-9d5af3589a78"
      },
      "source": [
        "victim_circumstances_spark = victim_circumstances_spark.drop(\"state\")\n",
        "victim_circumstances_spark = victim_circumstances_spark.drop_duplicates()\n",
        "victim_circumstances_spark.show()\n",
        "victim_circumstances_spark.count()"
      ],
      "execution_count": 35,
      "outputs": [
        {
          "output_type": "stream",
          "text": [
            "+---------+----------------+--------------------+---------+\n",
            "|victim_id|circumstances_id|justifiable_force_id|data_year|\n",
            "+---------+----------------+--------------------+---------+\n",
            "|    15240|              10|                 NaN|      NaN|\n",
            "|    15241|              10|                 NaN|      NaN|\n",
            "|    12878|              10|                 NaN|      NaN|\n",
            "|    18894|              10|                 NaN|      NaN|\n",
            "|    21502|              10|                 NaN|      NaN|\n",
            "|    20788|              10|                 NaN|      NaN|\n",
            "|    19260|              10|                 NaN|      NaN|\n",
            "|     3259|              10|                 NaN|      NaN|\n",
            "|     6769|              10|                 NaN|      NaN|\n",
            "|    13420|              10|                 NaN|      NaN|\n",
            "|    14327|              10|                 NaN|      NaN|\n",
            "|    50871|              10|                 NaN|      NaN|\n",
            "|    55243|              10|                 NaN|      NaN|\n",
            "|    54515|              10|                 NaN|      NaN|\n",
            "|    55575|              10|                 NaN|      NaN|\n",
            "|    53594|              10|                 NaN|      NaN|\n",
            "|    56090|              10|                 NaN|      NaN|\n",
            "|    57070|              10|                 NaN|      NaN|\n",
            "|    58135|              10|                 NaN|      NaN|\n",
            "|    69509|              10|                 NaN|      NaN|\n",
            "+---------+----------------+--------------------+---------+\n",
            "only showing top 20 rows\n",
            "\n"
          ],
          "name": "stdout"
        },
        {
          "output_type": "execute_result",
          "data": {
            "text/plain": [
              "47260"
            ]
          },
          "metadata": {
            "tags": []
          },
          "execution_count": 35
        }
      ]
    },
    {
      "cell_type": "code",
      "metadata": {
        "id": "HriRrVmw7ByK",
        "colab_type": "code",
        "colab": {}
      },
      "source": [
        "victim_df = df_all[0].drop(columns=['victim_seq_num', 'victim_type_id', 'assignment_type_id','activity_type_id','outside_agency_id', \\\n",
        "                        'age_id', 'age_num', 'sex_code', 'resident_status_code', 'agency_data_year', 'ff_line_number', \\\n",
        "                        'age_range_low_num', 'age_range_high_num', 'data_year'])"
      ],
      "execution_count": 36,
      "outputs": []
    },
    {
      "cell_type": "code",
      "metadata": {
        "id": "jwupLDIHcJ9s",
        "colab_type": "code",
        "colab": {}
      },
      "source": [
        "victim_schema = StructType([ StructField(\"victim_id\", IntegerType(), True)\\\n",
        "\n",
        "                       ,StructField(\"incident_id\", IntegerType(), True)\\\n",
        "\n",
        "                       #,StructField(\"victim_seq_num\", IntegerType(), True)\\\n",
        "\n",
        "                       #,StructField(\"victim_type_id\", IntegerType(), True)\\\n",
        "\n",
        "                       #,StructField(\"assignment_type_id\", DoubleType(), True)\\\n",
        "\n",
        "                       #,StructField(\"activity_type_id\", DoubleType(), True)\\\n",
        "\n",
        "                       #,StructField(\"outside_agency_id\", DoubleType(), True)\\\n",
        "\n",
        "                       #,StructField(\"age_id\", DoubleType(), True)\\\n",
        "\n",
        "                       #,StructField(\"age_num\", DoubleType(), True)\\\n",
        "\n",
        "                       #,StructField(\"sex_code\", StringType(), True)\\\n",
        "                       \n",
        "                       ,StructField(\"race_id\", DoubleType(), True)\\\n",
        "                       \n",
        "                       ,StructField(\"ethnicity_id\", DoubleType(), True)\\\n",
        "                       \n",
        "                       #,StructField(\"resident_status_code\", StringType(), True)\\\n",
        "                       \n",
        "                       #,StructField(\"agency_data_year\", DoubleType(), True)\\\n",
        "                       \n",
        "                       #,StructField(\"ff_line_number\", DoubleType(), True)\\\n",
        "                       \n",
        "                       #,StructField(\"age_range_low_num\", DoubleType(), True)\\\n",
        "                       \n",
        "                       #,StructField(\"age_range_high_num\", DoubleType(), True)\\\n",
        "                       \n",
        "                       ,StructField(\"state\", StringType(), True)\\\n",
        "                       \n",
        "                       #,StructField(\"data_year\", DoubleType(), True)\\\n",
        "                       \n",
        "                       ])\n",
        "\n",
        "victim_spark = spark.createDataFrame(victim_df,schema=victim_schema)"
      ],
      "execution_count": 37,
      "outputs": []
    },
    {
      "cell_type": "code",
      "metadata": {
        "id": "Va-9XTlFkYPC",
        "colab_type": "code",
        "colab": {
          "base_uri": "https://localhost:8080/",
          "height": 459
        },
        "outputId": "93ad2083-eb16-469d-e064-c07af3cfae7c"
      },
      "source": [
        "victim_spark.show()\n"
      ],
      "execution_count": 38,
      "outputs": [
        {
          "output_type": "stream",
          "text": [
            "+---------+-----------+-------+------------+-----+\n",
            "|victim_id|incident_id|race_id|ethnicity_id|state|\n",
            "+---------+-----------+-------+------------+-----+\n",
            "|   130114|     130114|    1.0|         3.0|   AL|\n",
            "|   129982|     129982|    0.0|         3.0|   AL|\n",
            "|   129925|     129925|    1.0|         3.0|   AL|\n",
            "|   129924|     129924|    2.0|         3.0|   AL|\n",
            "|   129923|     129923|    NaN|         NaN|   AL|\n",
            "|   129922|     129922|    0.0|         3.0|   AL|\n",
            "|   129921|     129921|    1.0|         3.0|   AL|\n",
            "|   129920|     129920|    0.0|         3.0|   AL|\n",
            "|   129918|     129918|    0.0|         3.0|   AL|\n",
            "|   129915|     129915|    1.0|         3.0|   AL|\n",
            "|   129914|     129914|    0.0|         3.0|   AL|\n",
            "|   129913|     129913|    1.0|         3.0|   AL|\n",
            "|   129912|     129912|    0.0|         3.0|   AL|\n",
            "|   129911|     129911|    0.0|         3.0|   AL|\n",
            "|   129910|     129910|    NaN|         NaN|   AL|\n",
            "|   129908|     129908|    NaN|         NaN|   AL|\n",
            "|   129907|     129907|    NaN|         NaN|   AL|\n",
            "|   129906|     129906|    NaN|         NaN|   AL|\n",
            "|   129905|     129905|    0.0|         3.0|   AL|\n",
            "|   129898|     129898|    NaN|         NaN|   AL|\n",
            "+---------+-----------+-------+------------+-----+\n",
            "only showing top 20 rows\n",
            "\n"
          ],
          "name": "stdout"
        }
      ]
    },
    {
      "cell_type": "code",
      "metadata": {
        "id": "hFQDpfB8nboi",
        "colab_type": "code",
        "colab": {}
      },
      "source": [
        ""
      ],
      "execution_count": 38,
      "outputs": []
    }
  ]
}