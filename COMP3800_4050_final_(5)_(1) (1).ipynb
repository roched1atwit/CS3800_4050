{
  "nbformat": 4,
  "nbformat_minor": 0,
  "metadata": {
    "kernelspec": {
      "name": "python3",
      "display_name": "Python 3"
    },
    "colab": {
      "name": "COMP3800_4050_final_(5)_(1).ipynb",
      "provenance": [],
      "collapsed_sections": [
        "nlI7V7adDDfp",
        "H2B1_JLVDDgO"
      ]
    }
  },
  "cells": [
    {
      "cell_type": "code",
      "metadata": {
        "id": "rjHBbTJBS1Q-",
        "colab_type": "code",
        "colab": {
          "base_uri": "https://localhost:8080/",
          "height": 68
        },
        "outputId": "ee48421d-bcfe-4278-d270-7eeb846ebe19"
      },
      "source": [
        "#### Setting up Spark for colab space, code provided by Professor Othman\n",
        "\n",
        "import os\n",
        "#Install Java\n",
        "!apt-get install openjdk-8-jdk-headless -qq > /dev/null\n",
        "#Set JAVA_HOME path variable in Linux\n",
        "os.environ[\"JAVA_HOME\"] = \"/usr/lib/jvm/java-8-openjdk-amd64\"\n",
        "!update-alternatives --set java /usr/lib/jvm/java-8-openjdk-amd64/jre/bin/java\n",
        "!java -version\n",
        "\n",
        "\n",
        "#Install Spark\n",
        "#download Spark file\n",
        "!wget -q http://apache.osuosl.org/spark/spark-2.4.6/spark-2.4.6-bin-hadoop2.7.tgz\n",
        "#extract the file\n",
        "!tar xf spark-2.4.6-bin-hadoop2.7.tgz\n",
        "#Set SPARK-HOME path variable in Linux\n",
        "os.environ[\"SPARK_HOME\"] = \"/content/spark-2.4.6-bin-hadoop2.7\"\n",
        "\n",
        "\n",
        "#install findspark package\n",
        "!pip install -q findspark"
      ],
      "execution_count": 1,
      "outputs": [
        {
          "output_type": "stream",
          "text": [
            "openjdk version \"1.8.0_252\"\n",
            "OpenJDK Runtime Environment (build 1.8.0_252-8u252-b09-1~18.04-b09)\n",
            "OpenJDK 64-Bit Server VM (build 25.252-b09, mixed mode)\n"
          ],
          "name": "stdout"
        }
      ]
    },
    {
      "cell_type": "code",
      "metadata": {
        "id": "FSkvjp4EDDeY",
        "colab_type": "code",
        "colab": {}
      },
      "source": [
        "import findspark\n",
        "findspark.init()"
      ],
      "execution_count": 2,
      "outputs": []
    },
    {
      "cell_type": "code",
      "metadata": {
        "id": "afZ55q7XDDec",
        "colab_type": "code",
        "colab": {}
      },
      "source": [
        "# create entry points to spark\n",
        "try:\n",
        "    sc.stop()\n",
        "except:\n",
        "    pass\n",
        "from pyspark import SparkContext, SparkConf\n",
        "from pyspark.sql import SparkSession, SQLContext\n",
        "conf = SparkConf().setAppName(\"lecture10\").setMaster(\"local[*]\")\n",
        "sc=SparkContext(conf = conf)\n",
        "spark = SparkSession(sparkContext=sc)\n",
        "sqlContext = SQLContext(sc)"
      ],
      "execution_count": 3,
      "outputs": []
    },
    {
      "cell_type": "code",
      "metadata": {
        "id": "PM-f-XunDDef",
        "colab_type": "code",
        "colab": {
          "base_uri": "https://localhost:8080/",
          "height": 216
        },
        "outputId": "e1b9bddf-3afb-4322-99bd-06169dadbf79"
      },
      "source": [
        "spark"
      ],
      "execution_count": 4,
      "outputs": [
        {
          "output_type": "execute_result",
          "data": {
            "text/html": [
              "\n",
              "            <div>\n",
              "                <p><b>SparkSession - in-memory</b></p>\n",
              "                \n",
              "        <div>\n",
              "            <p><b>SparkContext</b></p>\n",
              "\n",
              "            <p><a href=\"http://5944c627e0e4:4040\">Spark UI</a></p>\n",
              "\n",
              "            <dl>\n",
              "              <dt>Version</dt>\n",
              "                <dd><code>v2.4.6</code></dd>\n",
              "              <dt>Master</dt>\n",
              "                <dd><code>local[*]</code></dd>\n",
              "              <dt>AppName</dt>\n",
              "                <dd><code>lecture10</code></dd>\n",
              "            </dl>\n",
              "        </div>\n",
              "        \n",
              "            </div>\n",
              "        "
            ],
            "text/plain": [
              "<pyspark.sql.session.SparkSession at 0x7f7bbde14518>"
            ]
          },
          "metadata": {
            "tags": []
          },
          "execution_count": 4
        }
      ]
    },
    {
      "cell_type": "code",
      "metadata": {
        "id": "8ltsWZ_486yW",
        "colab_type": "code",
        "colab": {}
      },
      "source": [
        "# hardcoded variables telling our program which states, years, and tables are needed from NIBRS dataa\n",
        "\n",
        "# Can make the list longer if running locally, for google colab, better to do one state at a time\n",
        "\n",
        "state_list = [\"alabama\", \"arizona\", \"arkansas\",\"colorado\", \"connecticut\"]\n",
        "state_abbr = [\"AL\", \"AZ\", \"AR\", \"CO\", \"CT\"]\n",
        "csv = [\"nibrs_circumstances\", \"nibrs_victim_circumstances\", \"nibrs_victim\", \"ref_race\"]\n",
        "firstyear = 1991\n",
        "lastyear = 2018"
      ],
      "execution_count": 5,
      "outputs": []
    },
    {
      "cell_type": "code",
      "metadata": {
        "id": "PNYXU2UxXRNC",
        "colab_type": "code",
        "colab": {
          "base_uri": "https://localhost:8080/",
          "height": 1000
        },
        "outputId": "abfdaffc-7484-4d1c-9e37-ee1045895e8b"
      },
      "source": [
        "import pandas as pd\n",
        "\n",
        "df_all = []   # empty list of all read in tables\n",
        "url_base=\"https://raw.githubusercontent.com/roched1atwit/CS3800_4050/master/data/\"\n",
        "\n",
        "for j in range(0, len(csv)):\n",
        "    df_list = []\n",
        "    for state_i in range(0,len(state_list)):\n",
        "        for year in range(firstyear,lastyear+1):\n",
        "            url = url_base+state_list[state_i]+'/'+state_abbr[state_i]+'-'+str(year)\n",
        "            url_c = url + '/' + csv[j] + '.csv'\n",
        "            #print(\"Reading \" + url_c)\n",
        "            #print(url_c)\n",
        "            try:\n",
        "                temp_df = pd.read_csv(url_c, error_bad_lines=False)\n",
        "            except:\n",
        "                url_c = url + '/' + csv[j].upper() + '.csv'\n",
        "                try:\n",
        "                    temp_df = pd.read_csv(url_c, error_bad_lines=False)\n",
        "                    temp_df.columns = map(str.lower, temp_df.columns)\n",
        "                except:\n",
        "                    #break\n",
        "                    print(url_c + \" did not exist\")\n",
        "            \n",
        "            temp_df['state'] = state_abbr[state_i]\n",
        "            df_list.append(temp_df)\n",
        "            #print(df_list)\n",
        "            #break\n",
        "    df_all.append(pd.concat(df_list))\n",
        "        \n",
        "#AL2018_OFFENSE=pd.read_csv(url,  error_bad_lines=False)\n",
        "#AL2018_OFFENSE"
      ],
      "execution_count": 6,
      "outputs": [
        {
          "output_type": "stream",
          "text": [
            "https://raw.githubusercontent.com/roched1atwit/CS3800_4050/master/data/alabama/AL-1993/NIBRS_CIRCUMSTANCES.csv did not exist\n",
            "https://raw.githubusercontent.com/roched1atwit/CS3800_4050/master/data/alabama/AL-1994/NIBRS_CIRCUMSTANCES.csv did not exist\n",
            "https://raw.githubusercontent.com/roched1atwit/CS3800_4050/master/data/alabama/AL-1995/NIBRS_CIRCUMSTANCES.csv did not exist\n",
            "https://raw.githubusercontent.com/roched1atwit/CS3800_4050/master/data/alabama/AL-1996/NIBRS_CIRCUMSTANCES.csv did not exist\n",
            "https://raw.githubusercontent.com/roched1atwit/CS3800_4050/master/data/alabama/AL-1997/NIBRS_CIRCUMSTANCES.csv did not exist\n",
            "https://raw.githubusercontent.com/roched1atwit/CS3800_4050/master/data/alabama/AL-1998/NIBRS_CIRCUMSTANCES.csv did not exist\n",
            "https://raw.githubusercontent.com/roched1atwit/CS3800_4050/master/data/alabama/AL-1999/NIBRS_CIRCUMSTANCES.csv did not exist\n",
            "https://raw.githubusercontent.com/roched1atwit/CS3800_4050/master/data/alabama/AL-2000/NIBRS_CIRCUMSTANCES.csv did not exist\n",
            "https://raw.githubusercontent.com/roched1atwit/CS3800_4050/master/data/alabama/AL-2001/NIBRS_CIRCUMSTANCES.csv did not exist\n",
            "https://raw.githubusercontent.com/roched1atwit/CS3800_4050/master/data/alabama/AL-2002/NIBRS_CIRCUMSTANCES.csv did not exist\n",
            "https://raw.githubusercontent.com/roched1atwit/CS3800_4050/master/data/alabama/AL-2003/NIBRS_CIRCUMSTANCES.csv did not exist\n",
            "https://raw.githubusercontent.com/roched1atwit/CS3800_4050/master/data/alabama/AL-2004/NIBRS_CIRCUMSTANCES.csv did not exist\n",
            "https://raw.githubusercontent.com/roched1atwit/CS3800_4050/master/data/alabama/AL-2005/NIBRS_CIRCUMSTANCES.csv did not exist\n",
            "https://raw.githubusercontent.com/roched1atwit/CS3800_4050/master/data/arizona/AZ-1991/NIBRS_CIRCUMSTANCES.csv did not exist\n",
            "https://raw.githubusercontent.com/roched1atwit/CS3800_4050/master/data/arizona/AZ-1992/NIBRS_CIRCUMSTANCES.csv did not exist\n",
            "https://raw.githubusercontent.com/roched1atwit/CS3800_4050/master/data/arizona/AZ-1993/NIBRS_CIRCUMSTANCES.csv did not exist\n",
            "https://raw.githubusercontent.com/roched1atwit/CS3800_4050/master/data/arizona/AZ-1994/NIBRS_CIRCUMSTANCES.csv did not exist\n",
            "https://raw.githubusercontent.com/roched1atwit/CS3800_4050/master/data/arizona/AZ-1995/NIBRS_CIRCUMSTANCES.csv did not exist\n",
            "https://raw.githubusercontent.com/roched1atwit/CS3800_4050/master/data/arizona/AZ-1996/NIBRS_CIRCUMSTANCES.csv did not exist\n",
            "https://raw.githubusercontent.com/roched1atwit/CS3800_4050/master/data/arizona/AZ-1997/NIBRS_CIRCUMSTANCES.csv did not exist\n",
            "https://raw.githubusercontent.com/roched1atwit/CS3800_4050/master/data/arizona/AZ-1998/NIBRS_CIRCUMSTANCES.csv did not exist\n",
            "https://raw.githubusercontent.com/roched1atwit/CS3800_4050/master/data/arizona/AZ-1999/NIBRS_CIRCUMSTANCES.csv did not exist\n",
            "https://raw.githubusercontent.com/roched1atwit/CS3800_4050/master/data/arizona/AZ-2000/NIBRS_CIRCUMSTANCES.csv did not exist\n",
            "https://raw.githubusercontent.com/roched1atwit/CS3800_4050/master/data/arizona/AZ-2001/NIBRS_CIRCUMSTANCES.csv did not exist\n",
            "https://raw.githubusercontent.com/roched1atwit/CS3800_4050/master/data/arizona/AZ-2002/NIBRS_CIRCUMSTANCES.csv did not exist\n",
            "https://raw.githubusercontent.com/roched1atwit/CS3800_4050/master/data/arizona/AZ-2003/NIBRS_CIRCUMSTANCES.csv did not exist\n",
            "https://raw.githubusercontent.com/roched1atwit/CS3800_4050/master/data/arkansas/AR-1991/NIBRS_CIRCUMSTANCES.csv did not exist\n",
            "https://raw.githubusercontent.com/roched1atwit/CS3800_4050/master/data/arkansas/AR-1992/NIBRS_CIRCUMSTANCES.csv did not exist\n",
            "https://raw.githubusercontent.com/roched1atwit/CS3800_4050/master/data/arkansas/AR-1993/NIBRS_CIRCUMSTANCES.csv did not exist\n",
            "https://raw.githubusercontent.com/roched1atwit/CS3800_4050/master/data/arkansas/AR-1994/NIBRS_CIRCUMSTANCES.csv did not exist\n",
            "https://raw.githubusercontent.com/roched1atwit/CS3800_4050/master/data/arkansas/AR-1995/NIBRS_CIRCUMSTANCES.csv did not exist\n",
            "https://raw.githubusercontent.com/roched1atwit/CS3800_4050/master/data/arkansas/AR-1996/NIBRS_CIRCUMSTANCES.csv did not exist\n",
            "https://raw.githubusercontent.com/roched1atwit/CS3800_4050/master/data/arkansas/AR-1997/NIBRS_CIRCUMSTANCES.csv did not exist\n",
            "https://raw.githubusercontent.com/roched1atwit/CS3800_4050/master/data/arkansas/AR-1998/NIBRS_CIRCUMSTANCES.csv did not exist\n",
            "https://raw.githubusercontent.com/roched1atwit/CS3800_4050/master/data/colorado/CO-1991/NIBRS_CIRCUMSTANCES.csv did not exist\n",
            "https://raw.githubusercontent.com/roched1atwit/CS3800_4050/master/data/colorado/CO-1995/NIBRS_CIRCUMSTANCES.csv did not exist\n",
            "https://raw.githubusercontent.com/roched1atwit/CS3800_4050/master/data/colorado/CO-1996/NIBRS_CIRCUMSTANCES.csv did not exist\n",
            "https://raw.githubusercontent.com/roched1atwit/CS3800_4050/master/data/connecticut/CT-1991/NIBRS_CIRCUMSTANCES.csv did not exist\n",
            "https://raw.githubusercontent.com/roched1atwit/CS3800_4050/master/data/connecticut/CT-1992/NIBRS_CIRCUMSTANCES.csv did not exist\n",
            "https://raw.githubusercontent.com/roched1atwit/CS3800_4050/master/data/connecticut/CT-1993/NIBRS_CIRCUMSTANCES.csv did not exist\n",
            "https://raw.githubusercontent.com/roched1atwit/CS3800_4050/master/data/connecticut/CT-1994/NIBRS_CIRCUMSTANCES.csv did not exist\n",
            "https://raw.githubusercontent.com/roched1atwit/CS3800_4050/master/data/connecticut/CT-1995/NIBRS_CIRCUMSTANCES.csv did not exist\n",
            "https://raw.githubusercontent.com/roched1atwit/CS3800_4050/master/data/connecticut/CT-1996/NIBRS_CIRCUMSTANCES.csv did not exist\n",
            "https://raw.githubusercontent.com/roched1atwit/CS3800_4050/master/data/connecticut/CT-1997/NIBRS_CIRCUMSTANCES.csv did not exist\n",
            "https://raw.githubusercontent.com/roched1atwit/CS3800_4050/master/data/alabama/AL-1993/NIBRS_VICTIM_CIRCUMSTANCES.csv did not exist\n",
            "https://raw.githubusercontent.com/roched1atwit/CS3800_4050/master/data/alabama/AL-1994/NIBRS_VICTIM_CIRCUMSTANCES.csv did not exist\n",
            "https://raw.githubusercontent.com/roched1atwit/CS3800_4050/master/data/alabama/AL-1995/NIBRS_VICTIM_CIRCUMSTANCES.csv did not exist\n",
            "https://raw.githubusercontent.com/roched1atwit/CS3800_4050/master/data/alabama/AL-1996/NIBRS_VICTIM_CIRCUMSTANCES.csv did not exist\n",
            "https://raw.githubusercontent.com/roched1atwit/CS3800_4050/master/data/alabama/AL-1997/NIBRS_VICTIM_CIRCUMSTANCES.csv did not exist\n",
            "https://raw.githubusercontent.com/roched1atwit/CS3800_4050/master/data/alabama/AL-1998/NIBRS_VICTIM_CIRCUMSTANCES.csv did not exist\n",
            "https://raw.githubusercontent.com/roched1atwit/CS3800_4050/master/data/alabama/AL-1999/NIBRS_VICTIM_CIRCUMSTANCES.csv did not exist\n",
            "https://raw.githubusercontent.com/roched1atwit/CS3800_4050/master/data/alabama/AL-2000/NIBRS_VICTIM_CIRCUMSTANCES.csv did not exist\n",
            "https://raw.githubusercontent.com/roched1atwit/CS3800_4050/master/data/alabama/AL-2001/NIBRS_VICTIM_CIRCUMSTANCES.csv did not exist\n",
            "https://raw.githubusercontent.com/roched1atwit/CS3800_4050/master/data/alabama/AL-2002/NIBRS_VICTIM_CIRCUMSTANCES.csv did not exist\n",
            "https://raw.githubusercontent.com/roched1atwit/CS3800_4050/master/data/alabama/AL-2003/NIBRS_VICTIM_CIRCUMSTANCES.csv did not exist\n",
            "https://raw.githubusercontent.com/roched1atwit/CS3800_4050/master/data/alabama/AL-2004/NIBRS_VICTIM_CIRCUMSTANCES.csv did not exist\n",
            "https://raw.githubusercontent.com/roched1atwit/CS3800_4050/master/data/alabama/AL-2005/NIBRS_VICTIM_CIRCUMSTANCES.csv did not exist\n",
            "https://raw.githubusercontent.com/roched1atwit/CS3800_4050/master/data/arizona/AZ-1991/NIBRS_VICTIM_CIRCUMSTANCES.csv did not exist\n",
            "https://raw.githubusercontent.com/roched1atwit/CS3800_4050/master/data/arizona/AZ-1992/NIBRS_VICTIM_CIRCUMSTANCES.csv did not exist\n",
            "https://raw.githubusercontent.com/roched1atwit/CS3800_4050/master/data/arizona/AZ-1993/NIBRS_VICTIM_CIRCUMSTANCES.csv did not exist\n",
            "https://raw.githubusercontent.com/roched1atwit/CS3800_4050/master/data/arizona/AZ-1994/NIBRS_VICTIM_CIRCUMSTANCES.csv did not exist\n",
            "https://raw.githubusercontent.com/roched1atwit/CS3800_4050/master/data/arizona/AZ-1995/NIBRS_VICTIM_CIRCUMSTANCES.csv did not exist\n",
            "https://raw.githubusercontent.com/roched1atwit/CS3800_4050/master/data/arizona/AZ-1996/NIBRS_VICTIM_CIRCUMSTANCES.csv did not exist\n",
            "https://raw.githubusercontent.com/roched1atwit/CS3800_4050/master/data/arizona/AZ-1997/NIBRS_VICTIM_CIRCUMSTANCES.csv did not exist\n",
            "https://raw.githubusercontent.com/roched1atwit/CS3800_4050/master/data/arizona/AZ-1998/NIBRS_VICTIM_CIRCUMSTANCES.csv did not exist\n",
            "https://raw.githubusercontent.com/roched1atwit/CS3800_4050/master/data/arizona/AZ-1999/NIBRS_VICTIM_CIRCUMSTANCES.csv did not exist\n",
            "https://raw.githubusercontent.com/roched1atwit/CS3800_4050/master/data/arizona/AZ-2000/NIBRS_VICTIM_CIRCUMSTANCES.csv did not exist\n",
            "https://raw.githubusercontent.com/roched1atwit/CS3800_4050/master/data/arizona/AZ-2001/NIBRS_VICTIM_CIRCUMSTANCES.csv did not exist\n",
            "https://raw.githubusercontent.com/roched1atwit/CS3800_4050/master/data/arizona/AZ-2002/NIBRS_VICTIM_CIRCUMSTANCES.csv did not exist\n",
            "https://raw.githubusercontent.com/roched1atwit/CS3800_4050/master/data/arizona/AZ-2003/NIBRS_VICTIM_CIRCUMSTANCES.csv did not exist\n",
            "https://raw.githubusercontent.com/roched1atwit/CS3800_4050/master/data/arkansas/AR-1991/NIBRS_VICTIM_CIRCUMSTANCES.csv did not exist\n",
            "https://raw.githubusercontent.com/roched1atwit/CS3800_4050/master/data/arkansas/AR-1992/NIBRS_VICTIM_CIRCUMSTANCES.csv did not exist\n",
            "https://raw.githubusercontent.com/roched1atwit/CS3800_4050/master/data/arkansas/AR-1993/NIBRS_VICTIM_CIRCUMSTANCES.csv did not exist\n",
            "https://raw.githubusercontent.com/roched1atwit/CS3800_4050/master/data/arkansas/AR-1994/NIBRS_VICTIM_CIRCUMSTANCES.csv did not exist\n",
            "https://raw.githubusercontent.com/roched1atwit/CS3800_4050/master/data/arkansas/AR-1995/NIBRS_VICTIM_CIRCUMSTANCES.csv did not exist\n",
            "https://raw.githubusercontent.com/roched1atwit/CS3800_4050/master/data/arkansas/AR-1996/NIBRS_VICTIM_CIRCUMSTANCES.csv did not exist\n",
            "https://raw.githubusercontent.com/roched1atwit/CS3800_4050/master/data/arkansas/AR-1997/NIBRS_VICTIM_CIRCUMSTANCES.csv did not exist\n",
            "https://raw.githubusercontent.com/roched1atwit/CS3800_4050/master/data/arkansas/AR-1998/NIBRS_VICTIM_CIRCUMSTANCES.csv did not exist\n",
            "https://raw.githubusercontent.com/roched1atwit/CS3800_4050/master/data/colorado/CO-1991/NIBRS_VICTIM_CIRCUMSTANCES.csv did not exist\n",
            "https://raw.githubusercontent.com/roched1atwit/CS3800_4050/master/data/colorado/CO-1995/NIBRS_VICTIM_CIRCUMSTANCES.csv did not exist\n",
            "https://raw.githubusercontent.com/roched1atwit/CS3800_4050/master/data/colorado/CO-1996/NIBRS_VICTIM_CIRCUMSTANCES.csv did not exist\n",
            "https://raw.githubusercontent.com/roched1atwit/CS3800_4050/master/data/connecticut/CT-1991/NIBRS_VICTIM_CIRCUMSTANCES.csv did not exist\n",
            "https://raw.githubusercontent.com/roched1atwit/CS3800_4050/master/data/connecticut/CT-1992/NIBRS_VICTIM_CIRCUMSTANCES.csv did not exist\n",
            "https://raw.githubusercontent.com/roched1atwit/CS3800_4050/master/data/connecticut/CT-1993/NIBRS_VICTIM_CIRCUMSTANCES.csv did not exist\n",
            "https://raw.githubusercontent.com/roched1atwit/CS3800_4050/master/data/connecticut/CT-1994/NIBRS_VICTIM_CIRCUMSTANCES.csv did not exist\n",
            "https://raw.githubusercontent.com/roched1atwit/CS3800_4050/master/data/connecticut/CT-1995/NIBRS_VICTIM_CIRCUMSTANCES.csv did not exist\n",
            "https://raw.githubusercontent.com/roched1atwit/CS3800_4050/master/data/connecticut/CT-1996/NIBRS_VICTIM_CIRCUMSTANCES.csv did not exist\n",
            "https://raw.githubusercontent.com/roched1atwit/CS3800_4050/master/data/connecticut/CT-1997/NIBRS_VICTIM_CIRCUMSTANCES.csv did not exist\n",
            "https://raw.githubusercontent.com/roched1atwit/CS3800_4050/master/data/alabama/AL-1993/NIBRS_VICTIM.csv did not exist\n",
            "https://raw.githubusercontent.com/roched1atwit/CS3800_4050/master/data/alabama/AL-1994/NIBRS_VICTIM.csv did not exist\n",
            "https://raw.githubusercontent.com/roched1atwit/CS3800_4050/master/data/alabama/AL-1995/NIBRS_VICTIM.csv did not exist\n",
            "https://raw.githubusercontent.com/roched1atwit/CS3800_4050/master/data/alabama/AL-1996/NIBRS_VICTIM.csv did not exist\n",
            "https://raw.githubusercontent.com/roched1atwit/CS3800_4050/master/data/alabama/AL-1997/NIBRS_VICTIM.csv did not exist\n",
            "https://raw.githubusercontent.com/roched1atwit/CS3800_4050/master/data/alabama/AL-1998/NIBRS_VICTIM.csv did not exist\n",
            "https://raw.githubusercontent.com/roched1atwit/CS3800_4050/master/data/alabama/AL-1999/NIBRS_VICTIM.csv did not exist\n",
            "https://raw.githubusercontent.com/roched1atwit/CS3800_4050/master/data/alabama/AL-2000/NIBRS_VICTIM.csv did not exist\n",
            "https://raw.githubusercontent.com/roched1atwit/CS3800_4050/master/data/alabama/AL-2001/NIBRS_VICTIM.csv did not exist\n",
            "https://raw.githubusercontent.com/roched1atwit/CS3800_4050/master/data/alabama/AL-2002/NIBRS_VICTIM.csv did not exist\n",
            "https://raw.githubusercontent.com/roched1atwit/CS3800_4050/master/data/alabama/AL-2003/NIBRS_VICTIM.csv did not exist\n",
            "https://raw.githubusercontent.com/roched1atwit/CS3800_4050/master/data/alabama/AL-2004/NIBRS_VICTIM.csv did not exist\n",
            "https://raw.githubusercontent.com/roched1atwit/CS3800_4050/master/data/alabama/AL-2005/NIBRS_VICTIM.csv did not exist\n",
            "https://raw.githubusercontent.com/roched1atwit/CS3800_4050/master/data/alabama/AL-2015/NIBRS_VICTIM.csv did not exist\n",
            "https://raw.githubusercontent.com/roched1atwit/CS3800_4050/master/data/arizona/AZ-1991/NIBRS_VICTIM.csv did not exist\n",
            "https://raw.githubusercontent.com/roched1atwit/CS3800_4050/master/data/arizona/AZ-1992/NIBRS_VICTIM.csv did not exist\n",
            "https://raw.githubusercontent.com/roched1atwit/CS3800_4050/master/data/arizona/AZ-1993/NIBRS_VICTIM.csv did not exist\n",
            "https://raw.githubusercontent.com/roched1atwit/CS3800_4050/master/data/arizona/AZ-1994/NIBRS_VICTIM.csv did not exist\n",
            "https://raw.githubusercontent.com/roched1atwit/CS3800_4050/master/data/arizona/AZ-1995/NIBRS_VICTIM.csv did not exist\n",
            "https://raw.githubusercontent.com/roched1atwit/CS3800_4050/master/data/arizona/AZ-1996/NIBRS_VICTIM.csv did not exist\n",
            "https://raw.githubusercontent.com/roched1atwit/CS3800_4050/master/data/arizona/AZ-1997/NIBRS_VICTIM.csv did not exist\n",
            "https://raw.githubusercontent.com/roched1atwit/CS3800_4050/master/data/arizona/AZ-1998/NIBRS_VICTIM.csv did not exist\n",
            "https://raw.githubusercontent.com/roched1atwit/CS3800_4050/master/data/arizona/AZ-1999/NIBRS_VICTIM.csv did not exist\n",
            "https://raw.githubusercontent.com/roched1atwit/CS3800_4050/master/data/arizona/AZ-2000/NIBRS_VICTIM.csv did not exist\n",
            "https://raw.githubusercontent.com/roched1atwit/CS3800_4050/master/data/arizona/AZ-2001/NIBRS_VICTIM.csv did not exist\n",
            "https://raw.githubusercontent.com/roched1atwit/CS3800_4050/master/data/arizona/AZ-2002/NIBRS_VICTIM.csv did not exist\n",
            "https://raw.githubusercontent.com/roched1atwit/CS3800_4050/master/data/arizona/AZ-2003/NIBRS_VICTIM.csv did not exist\n",
            "https://raw.githubusercontent.com/roched1atwit/CS3800_4050/master/data/arkansas/AR-1991/NIBRS_VICTIM.csv did not exist\n",
            "https://raw.githubusercontent.com/roched1atwit/CS3800_4050/master/data/arkansas/AR-1992/NIBRS_VICTIM.csv did not exist\n",
            "https://raw.githubusercontent.com/roched1atwit/CS3800_4050/master/data/arkansas/AR-1993/NIBRS_VICTIM.csv did not exist\n",
            "https://raw.githubusercontent.com/roched1atwit/CS3800_4050/master/data/arkansas/AR-1994/NIBRS_VICTIM.csv did not exist\n",
            "https://raw.githubusercontent.com/roched1atwit/CS3800_4050/master/data/arkansas/AR-1995/NIBRS_VICTIM.csv did not exist\n",
            "https://raw.githubusercontent.com/roched1atwit/CS3800_4050/master/data/arkansas/AR-1996/NIBRS_VICTIM.csv did not exist\n",
            "https://raw.githubusercontent.com/roched1atwit/CS3800_4050/master/data/arkansas/AR-1997/NIBRS_VICTIM.csv did not exist\n",
            "https://raw.githubusercontent.com/roched1atwit/CS3800_4050/master/data/arkansas/AR-1998/NIBRS_VICTIM.csv did not exist\n",
            "https://raw.githubusercontent.com/roched1atwit/CS3800_4050/master/data/colorado/CO-1991/NIBRS_VICTIM.csv did not exist\n",
            "https://raw.githubusercontent.com/roched1atwit/CS3800_4050/master/data/colorado/CO-1995/NIBRS_VICTIM.csv did not exist\n",
            "https://raw.githubusercontent.com/roched1atwit/CS3800_4050/master/data/colorado/CO-1996/NIBRS_VICTIM.csv did not exist\n",
            "https://raw.githubusercontent.com/roched1atwit/CS3800_4050/master/data/connecticut/CT-1991/NIBRS_VICTIM.csv did not exist\n",
            "https://raw.githubusercontent.com/roched1atwit/CS3800_4050/master/data/connecticut/CT-1992/NIBRS_VICTIM.csv did not exist\n",
            "https://raw.githubusercontent.com/roched1atwit/CS3800_4050/master/data/connecticut/CT-1993/NIBRS_VICTIM.csv did not exist\n",
            "https://raw.githubusercontent.com/roched1atwit/CS3800_4050/master/data/connecticut/CT-1994/NIBRS_VICTIM.csv did not exist\n",
            "https://raw.githubusercontent.com/roched1atwit/CS3800_4050/master/data/connecticut/CT-1995/NIBRS_VICTIM.csv did not exist\n",
            "https://raw.githubusercontent.com/roched1atwit/CS3800_4050/master/data/connecticut/CT-1996/NIBRS_VICTIM.csv did not exist\n",
            "https://raw.githubusercontent.com/roched1atwit/CS3800_4050/master/data/connecticut/CT-1997/NIBRS_VICTIM.csv did not exist\n",
            "https://raw.githubusercontent.com/roched1atwit/CS3800_4050/master/data/alabama/AL-1993/REF_RACE.csv did not exist\n",
            "https://raw.githubusercontent.com/roched1atwit/CS3800_4050/master/data/alabama/AL-1994/REF_RACE.csv did not exist\n",
            "https://raw.githubusercontent.com/roched1atwit/CS3800_4050/master/data/alabama/AL-1995/REF_RACE.csv did not exist\n",
            "https://raw.githubusercontent.com/roched1atwit/CS3800_4050/master/data/alabama/AL-1996/REF_RACE.csv did not exist\n",
            "https://raw.githubusercontent.com/roched1atwit/CS3800_4050/master/data/alabama/AL-1997/REF_RACE.csv did not exist\n",
            "https://raw.githubusercontent.com/roched1atwit/CS3800_4050/master/data/alabama/AL-1998/REF_RACE.csv did not exist\n",
            "https://raw.githubusercontent.com/roched1atwit/CS3800_4050/master/data/alabama/AL-1999/REF_RACE.csv did not exist\n",
            "https://raw.githubusercontent.com/roched1atwit/CS3800_4050/master/data/alabama/AL-2000/REF_RACE.csv did not exist\n",
            "https://raw.githubusercontent.com/roched1atwit/CS3800_4050/master/data/alabama/AL-2001/REF_RACE.csv did not exist\n",
            "https://raw.githubusercontent.com/roched1atwit/CS3800_4050/master/data/alabama/AL-2002/REF_RACE.csv did not exist\n",
            "https://raw.githubusercontent.com/roched1atwit/CS3800_4050/master/data/alabama/AL-2003/REF_RACE.csv did not exist\n",
            "https://raw.githubusercontent.com/roched1atwit/CS3800_4050/master/data/alabama/AL-2004/REF_RACE.csv did not exist\n",
            "https://raw.githubusercontent.com/roched1atwit/CS3800_4050/master/data/alabama/AL-2005/REF_RACE.csv did not exist\n",
            "https://raw.githubusercontent.com/roched1atwit/CS3800_4050/master/data/arizona/AZ-1991/REF_RACE.csv did not exist\n",
            "https://raw.githubusercontent.com/roched1atwit/CS3800_4050/master/data/arizona/AZ-1992/REF_RACE.csv did not exist\n",
            "https://raw.githubusercontent.com/roched1atwit/CS3800_4050/master/data/arizona/AZ-1993/REF_RACE.csv did not exist\n",
            "https://raw.githubusercontent.com/roched1atwit/CS3800_4050/master/data/arizona/AZ-1994/REF_RACE.csv did not exist\n",
            "https://raw.githubusercontent.com/roched1atwit/CS3800_4050/master/data/arizona/AZ-1995/REF_RACE.csv did not exist\n",
            "https://raw.githubusercontent.com/roched1atwit/CS3800_4050/master/data/arizona/AZ-1996/REF_RACE.csv did not exist\n",
            "https://raw.githubusercontent.com/roched1atwit/CS3800_4050/master/data/arizona/AZ-1997/REF_RACE.csv did not exist\n",
            "https://raw.githubusercontent.com/roched1atwit/CS3800_4050/master/data/arizona/AZ-1998/REF_RACE.csv did not exist\n",
            "https://raw.githubusercontent.com/roched1atwit/CS3800_4050/master/data/arizona/AZ-1999/REF_RACE.csv did not exist\n",
            "https://raw.githubusercontent.com/roched1atwit/CS3800_4050/master/data/arizona/AZ-2000/REF_RACE.csv did not exist\n",
            "https://raw.githubusercontent.com/roched1atwit/CS3800_4050/master/data/arizona/AZ-2001/REF_RACE.csv did not exist\n",
            "https://raw.githubusercontent.com/roched1atwit/CS3800_4050/master/data/arizona/AZ-2002/REF_RACE.csv did not exist\n",
            "https://raw.githubusercontent.com/roched1atwit/CS3800_4050/master/data/arizona/AZ-2003/REF_RACE.csv did not exist\n",
            "https://raw.githubusercontent.com/roched1atwit/CS3800_4050/master/data/arkansas/AR-1991/REF_RACE.csv did not exist\n",
            "https://raw.githubusercontent.com/roched1atwit/CS3800_4050/master/data/arkansas/AR-1992/REF_RACE.csv did not exist\n",
            "https://raw.githubusercontent.com/roched1atwit/CS3800_4050/master/data/arkansas/AR-1993/REF_RACE.csv did not exist\n",
            "https://raw.githubusercontent.com/roched1atwit/CS3800_4050/master/data/arkansas/AR-1994/REF_RACE.csv did not exist\n",
            "https://raw.githubusercontent.com/roched1atwit/CS3800_4050/master/data/arkansas/AR-1995/REF_RACE.csv did not exist\n",
            "https://raw.githubusercontent.com/roched1atwit/CS3800_4050/master/data/arkansas/AR-1996/REF_RACE.csv did not exist\n",
            "https://raw.githubusercontent.com/roched1atwit/CS3800_4050/master/data/arkansas/AR-1997/REF_RACE.csv did not exist\n",
            "https://raw.githubusercontent.com/roched1atwit/CS3800_4050/master/data/arkansas/AR-1998/REF_RACE.csv did not exist\n",
            "https://raw.githubusercontent.com/roched1atwit/CS3800_4050/master/data/colorado/CO-1991/REF_RACE.csv did not exist\n",
            "https://raw.githubusercontent.com/roched1atwit/CS3800_4050/master/data/colorado/CO-1995/REF_RACE.csv did not exist\n",
            "https://raw.githubusercontent.com/roched1atwit/CS3800_4050/master/data/colorado/CO-1996/REF_RACE.csv did not exist\n",
            "https://raw.githubusercontent.com/roched1atwit/CS3800_4050/master/data/connecticut/CT-1991/REF_RACE.csv did not exist\n",
            "https://raw.githubusercontent.com/roched1atwit/CS3800_4050/master/data/connecticut/CT-1992/REF_RACE.csv did not exist\n",
            "https://raw.githubusercontent.com/roched1atwit/CS3800_4050/master/data/connecticut/CT-1993/REF_RACE.csv did not exist\n",
            "https://raw.githubusercontent.com/roched1atwit/CS3800_4050/master/data/connecticut/CT-1994/REF_RACE.csv did not exist\n",
            "https://raw.githubusercontent.com/roched1atwit/CS3800_4050/master/data/connecticut/CT-1995/REF_RACE.csv did not exist\n",
            "https://raw.githubusercontent.com/roched1atwit/CS3800_4050/master/data/connecticut/CT-1996/REF_RACE.csv did not exist\n",
            "https://raw.githubusercontent.com/roched1atwit/CS3800_4050/master/data/connecticut/CT-1997/REF_RACE.csv did not exist\n"
          ],
          "name": "stdout"
        }
      ]
    },
    {
      "cell_type": "code",
      "metadata": {
        "id": "uh_M8DINVxxu",
        "colab_type": "code",
        "colab": {}
      },
      "source": [
        "from pyspark.sql.types import *\n",
        "\n",
        "circumstances_schema = StructType([ StructField(\"circumstances_id\", IntegerType(), True)\\\n",
        "\n",
        "                       ,StructField(\"circumstances_type\", StringType(), True)\\\n",
        "\n",
        "                       ,StructField(\"circumstances_code\", IntegerType(), True)\\\n",
        "\n",
        "                       ,StructField(\"circumstances_name\", StringType(), True)\\\n",
        "\n",
        "                       ,StructField(\"state\", StringType(), True)])\n",
        "\n",
        "circumstances_spark = spark.createDataFrame(df_all[0],schema=circumstances_schema)\n",
        "del df_all[0]"
      ],
      "execution_count": 7,
      "outputs": []
    },
    {
      "cell_type": "code",
      "metadata": {
        "id": "_4dfVcGdWYxR",
        "colab_type": "code",
        "colab": {
          "base_uri": "https://localhost:8080/",
          "height": 425
        },
        "outputId": "c3cf52d1-fc67-4ef1-b3e6-f260692b1ed8"
      },
      "source": [
        "circumstances_spark = circumstances_spark.drop(\"state\")\n",
        "circumstances_spark = circumstances_spark.drop_duplicates()\n",
        "circumstances_spark.show()\n",
        "circumstances_spark.count()"
      ],
      "execution_count": 8,
      "outputs": [
        {
          "output_type": "stream",
          "text": [
            "+----------------+------------------+------------------+--------------------+\n",
            "|circumstances_id|circumstances_type|circumstances_code|  circumstances_name|\n",
            "+----------------+------------------+------------------+--------------------+\n",
            "|              13|                 N|                30|Child Playing Wit...|\n",
            "|               7|                 A|                 7|       Mercy Killing|\n",
            "|              15|                 N|                32|    Hunting Accident|\n",
            "|              17|                 N|                34|Other Negligent K...|\n",
            "|               9|                 A|                 9| Other Circumstances|\n",
            "|               6|                 A|                 6|      Lovers Quarrel|\n",
            "|              12|                 J|                21|Criminal Killed b...|\n",
            "|              10|                 A|                10|Unknown Circumsta...|\n",
            "|              16|                 N|                33|Other Negligent W...|\n",
            "|               3|                 A|                 3|        Drug Dealing|\n",
            "|               4|                 A|                 4|            Gangland|\n",
            "|               8|                 A|                 8|Other Felony Invo...|\n",
            "|              14|                 N|                31|Gun-Cleaning Acci...|\n",
            "|               1|                 A|                 1|            Argument|\n",
            "|               5|                 A|                 5|       Juvenile Gang|\n",
            "|               2|                 A|                 2|Assault on Law En...|\n",
            "|               6|                 A|                 6|   Domestic Violence|\n",
            "|              11|                 J|                20|Criminal Killed b...|\n",
            "+----------------+------------------+------------------+--------------------+\n",
            "\n"
          ],
          "name": "stdout"
        },
        {
          "output_type": "execute_result",
          "data": {
            "text/plain": [
              "18"
            ]
          },
          "metadata": {
            "tags": []
          },
          "execution_count": 8
        }
      ]
    },
    {
      "cell_type": "code",
      "metadata": {
        "id": "M5FqeRL4Znce",
        "colab_type": "code",
        "colab": {}
      },
      "source": [
        "from pyspark.sql.types import *\n",
        "\n",
        "victim_circumstances_schema = StructType([ StructField(\"victim_id\", IntegerType(), True)\\\n",
        "\n",
        "                       ,StructField(\"circumstances_id\", IntegerType(), True)\\\n",
        "\n",
        "                       ,StructField(\"justifiable_force_id\", DoubleType(), True)\\\n",
        "\n",
        "                       ,StructField(\"state\", StringType(), True)\\\n",
        "\n",
        "                       ,StructField(\"data_year\", DoubleType(), True)])\n",
        "\n",
        "victim_circumstances_spark = spark.createDataFrame(df_all[0],schema=victim_circumstances_schema)\n",
        "del df_all[0]"
      ],
      "execution_count": 9,
      "outputs": []
    },
    {
      "cell_type": "code",
      "metadata": {
        "id": "vuSrt7yiaHzg",
        "colab_type": "code",
        "colab": {
          "base_uri": "https://localhost:8080/",
          "height": 476
        },
        "outputId": "acf51047-d897-4482-d481-c49cdce716c4"
      },
      "source": [
        "victim_circumstances_spark = victim_circumstances_spark.drop(\"state\")\n",
        "victim_circumstances_spark = victim_circumstances_spark.drop(\"data_year\")\n",
        "victim_circumstances_spark = victim_circumstances_spark.drop(\"justifiable_force\")\n",
        "victim_circumstances_spark = victim_circumstances_spark.drop_duplicates()\n",
        "victim_circumstances_spark.show()\n",
        "victim_circumstances_spark.count()"
      ],
      "execution_count": 10,
      "outputs": [
        {
          "output_type": "stream",
          "text": [
            "+---------+----------------+--------------------+\n",
            "|victim_id|circumstances_id|justifiable_force_id|\n",
            "+---------+----------------+--------------------+\n",
            "|    12877|              10|                 NaN|\n",
            "|    14590|              10|                 NaN|\n",
            "|    20679|              10|                 NaN|\n",
            "|    18592|              10|                 NaN|\n",
            "|    24124|              10|                 NaN|\n",
            "|    25785|              10|                 NaN|\n",
            "|     1647|              10|                 NaN|\n",
            "|     2964|              10|                 NaN|\n",
            "|     3621|               1|                 NaN|\n",
            "|     5138|              10|                 NaN|\n",
            "|     6876|              10|                 NaN|\n",
            "|    10417|              10|                 NaN|\n",
            "|     9078|              10|                 NaN|\n",
            "|    10073|              10|                 NaN|\n",
            "|    13360|              10|                 NaN|\n",
            "|    50767|               1|                 NaN|\n",
            "|    52720|              10|                 NaN|\n",
            "|    57952|              10|                 NaN|\n",
            "|    61780|              10|                 NaN|\n",
            "|    68329|              10|                 NaN|\n",
            "+---------+----------------+--------------------+\n",
            "only showing top 20 rows\n",
            "\n"
          ],
          "name": "stdout"
        },
        {
          "output_type": "execute_result",
          "data": {
            "text/plain": [
              "428009"
            ]
          },
          "metadata": {
            "tags": []
          },
          "execution_count": 10
        }
      ]
    },
    {
      "cell_type": "code",
      "metadata": {
        "id": "HriRrVmw7ByK",
        "colab_type": "code",
        "colab": {}
      },
      "source": [
        "# decided to remove unneeded features before converting to Spark to be more efficient memoery-wise\n",
        "victim_df = df_all[0].drop(columns=['victim_seq_num', 'victim_type_id', 'assignment_type_id','activity_type_id','outside_agency_id', \\\n",
        "                        'age_id', 'age_num', 'sex_code', 'resident_status_code', 'agency_data_year', 'ff_line_number', \\\n",
        "                        'age_range_low_num', 'age_range_high_num', 'data_year'])"
      ],
      "execution_count": 11,
      "outputs": []
    },
    {
      "cell_type": "code",
      "metadata": {
        "id": "jwupLDIHcJ9s",
        "colab_type": "code",
        "colab": {}
      },
      "source": [
        "victim_schema = StructType([ StructField(\"victim_id\", IntegerType(), True)\\\n",
        "\n",
        "                       ,StructField(\"incident_id\", IntegerType(), True)\\\n",
        "\n",
        "                       #,StructField(\"victim_seq_num\", IntegerType(), True)\\\n",
        "\n",
        "                       #,StructField(\"victim_type_id\", IntegerType(), True)\\\n",
        "\n",
        "                       #,StructField(\"assignment_type_id\", DoubleType(), True)\\\n",
        "\n",
        "                       #,StructField(\"activity_type_id\", DoubleType(), True)\\\n",
        "\n",
        "                       #,StructField(\"outside_agency_id\", DoubleType(), True)\\\n",
        "\n",
        "                       #,StructField(\"age_id\", DoubleType(), True)\\\n",
        "\n",
        "                       #,StructField(\"age_num\", DoubleType(), True)\\\n",
        "\n",
        "                       #,StructField(\"sex_code\", StringType(), True)\\\n",
        "                       \n",
        "                       ,StructField(\"race_id\", DoubleType(), True)\\\n",
        "                       \n",
        "                       ,StructField(\"ethnicity_id\", DoubleType(), True)\\\n",
        "                       \n",
        "                       #,StructField(\"resident_status_code\", StringType(), True)\\\n",
        "                       \n",
        "                       #,StructField(\"agency_data_year\", DoubleType(), True)\\\n",
        "                       \n",
        "                       #,StructField(\"ff_line_number\", DoubleType(), True)\\\n",
        "                       \n",
        "                       #,StructField(\"age_range_low_num\", DoubleType(), True)\\\n",
        "                       \n",
        "                       #,StructField(\"age_range_high_num\", DoubleType(), True)\\\n",
        "                       \n",
        "                       ,StructField(\"state\", StringType(), True)\\\n",
        "                       \n",
        "                       #,StructField(\"data_year\", DoubleType(), True)\\\n",
        "                       \n",
        "                       ])\n",
        "\n",
        "victim_spark = spark.createDataFrame(victim_df,schema=victim_schema)\n",
        "del df_all[0]\n",
        "del victim_df"
      ],
      "execution_count": 12,
      "outputs": []
    },
    {
      "cell_type": "code",
      "metadata": {
        "id": "Va-9XTlFkYPC",
        "colab_type": "code",
        "colab": {
          "base_uri": "https://localhost:8080/",
          "height": 306
        },
        "outputId": "3ab66deb-18a1-449a-c63a-fd208efc460f"
      },
      "source": [
        "victim_spark.show()\n"
      ],
      "execution_count": 13,
      "outputs": [
        {
          "output_type": "error",
          "ename": "KeyboardInterrupt",
          "evalue": "ignored",
          "traceback": [
            "\u001b[0;31m---------------------------------------------------------------------------\u001b[0m",
            "\u001b[0;31mKeyboardInterrupt\u001b[0m                         Traceback (most recent call last)",
            "\u001b[0;32m<ipython-input-13-ac2e6b116847>\u001b[0m in \u001b[0;36m<module>\u001b[0;34m()\u001b[0m\n\u001b[0;32m----> 1\u001b[0;31m \u001b[0mvictim_spark\u001b[0m\u001b[0;34m.\u001b[0m\u001b[0mshow\u001b[0m\u001b[0;34m(\u001b[0m\u001b[0;34m)\u001b[0m\u001b[0;34m\u001b[0m\u001b[0;34m\u001b[0m\u001b[0m\n\u001b[0m",
            "\u001b[0;32m/content/spark-2.4.6-bin-hadoop2.7/python/pyspark/sql/dataframe.py\u001b[0m in \u001b[0;36mshow\u001b[0;34m(self, n, truncate, vertical)\u001b[0m\n\u001b[1;32m    379\u001b[0m         \"\"\"\n\u001b[1;32m    380\u001b[0m         \u001b[0;32mif\u001b[0m \u001b[0misinstance\u001b[0m\u001b[0;34m(\u001b[0m\u001b[0mtruncate\u001b[0m\u001b[0;34m,\u001b[0m \u001b[0mbool\u001b[0m\u001b[0;34m)\u001b[0m \u001b[0;32mand\u001b[0m \u001b[0mtruncate\u001b[0m\u001b[0;34m:\u001b[0m\u001b[0;34m\u001b[0m\u001b[0;34m\u001b[0m\u001b[0m\n\u001b[0;32m--> 381\u001b[0;31m             \u001b[0mprint\u001b[0m\u001b[0;34m(\u001b[0m\u001b[0mself\u001b[0m\u001b[0;34m.\u001b[0m\u001b[0m_jdf\u001b[0m\u001b[0;34m.\u001b[0m\u001b[0mshowString\u001b[0m\u001b[0;34m(\u001b[0m\u001b[0mn\u001b[0m\u001b[0;34m,\u001b[0m \u001b[0;36m20\u001b[0m\u001b[0;34m,\u001b[0m \u001b[0mvertical\u001b[0m\u001b[0;34m)\u001b[0m\u001b[0;34m)\u001b[0m\u001b[0;34m\u001b[0m\u001b[0;34m\u001b[0m\u001b[0m\n\u001b[0m\u001b[1;32m    382\u001b[0m         \u001b[0;32melse\u001b[0m\u001b[0;34m:\u001b[0m\u001b[0;34m\u001b[0m\u001b[0;34m\u001b[0m\u001b[0m\n\u001b[1;32m    383\u001b[0m             \u001b[0mprint\u001b[0m\u001b[0;34m(\u001b[0m\u001b[0mself\u001b[0m\u001b[0;34m.\u001b[0m\u001b[0m_jdf\u001b[0m\u001b[0;34m.\u001b[0m\u001b[0mshowString\u001b[0m\u001b[0;34m(\u001b[0m\u001b[0mn\u001b[0m\u001b[0;34m,\u001b[0m \u001b[0mint\u001b[0m\u001b[0;34m(\u001b[0m\u001b[0mtruncate\u001b[0m\u001b[0;34m)\u001b[0m\u001b[0;34m,\u001b[0m \u001b[0mvertical\u001b[0m\u001b[0;34m)\u001b[0m\u001b[0;34m)\u001b[0m\u001b[0;34m\u001b[0m\u001b[0;34m\u001b[0m\u001b[0m\n",
            "\u001b[0;32m/content/spark-2.4.6-bin-hadoop2.7/python/lib/py4j-0.10.7-src.zip/py4j/java_gateway.py\u001b[0m in \u001b[0;36m__call__\u001b[0;34m(self, *args)\u001b[0m\n\u001b[1;32m   1253\u001b[0m             \u001b[0mproto\u001b[0m\u001b[0;34m.\u001b[0m\u001b[0mEND_COMMAND_PART\u001b[0m\u001b[0;34m\u001b[0m\u001b[0;34m\u001b[0m\u001b[0m\n\u001b[1;32m   1254\u001b[0m \u001b[0;34m\u001b[0m\u001b[0m\n\u001b[0;32m-> 1255\u001b[0;31m         \u001b[0manswer\u001b[0m \u001b[0;34m=\u001b[0m \u001b[0mself\u001b[0m\u001b[0;34m.\u001b[0m\u001b[0mgateway_client\u001b[0m\u001b[0;34m.\u001b[0m\u001b[0msend_command\u001b[0m\u001b[0;34m(\u001b[0m\u001b[0mcommand\u001b[0m\u001b[0;34m)\u001b[0m\u001b[0;34m\u001b[0m\u001b[0;34m\u001b[0m\u001b[0m\n\u001b[0m\u001b[1;32m   1256\u001b[0m         return_value = get_return_value(\n\u001b[1;32m   1257\u001b[0m             answer, self.gateway_client, self.target_id, self.name)\n",
            "\u001b[0;32m/content/spark-2.4.6-bin-hadoop2.7/python/lib/py4j-0.10.7-src.zip/py4j/java_gateway.py\u001b[0m in \u001b[0;36msend_command\u001b[0;34m(self, command, retry, binary)\u001b[0m\n\u001b[1;32m    983\u001b[0m         \u001b[0mconnection\u001b[0m \u001b[0;34m=\u001b[0m \u001b[0mself\u001b[0m\u001b[0;34m.\u001b[0m\u001b[0m_get_connection\u001b[0m\u001b[0;34m(\u001b[0m\u001b[0;34m)\u001b[0m\u001b[0;34m\u001b[0m\u001b[0;34m\u001b[0m\u001b[0m\n\u001b[1;32m    984\u001b[0m         \u001b[0;32mtry\u001b[0m\u001b[0;34m:\u001b[0m\u001b[0;34m\u001b[0m\u001b[0;34m\u001b[0m\u001b[0m\n\u001b[0;32m--> 985\u001b[0;31m             \u001b[0mresponse\u001b[0m \u001b[0;34m=\u001b[0m \u001b[0mconnection\u001b[0m\u001b[0;34m.\u001b[0m\u001b[0msend_command\u001b[0m\u001b[0;34m(\u001b[0m\u001b[0mcommand\u001b[0m\u001b[0;34m)\u001b[0m\u001b[0;34m\u001b[0m\u001b[0;34m\u001b[0m\u001b[0m\n\u001b[0m\u001b[1;32m    986\u001b[0m             \u001b[0;32mif\u001b[0m \u001b[0mbinary\u001b[0m\u001b[0;34m:\u001b[0m\u001b[0;34m\u001b[0m\u001b[0;34m\u001b[0m\u001b[0m\n\u001b[1;32m    987\u001b[0m                 \u001b[0;32mreturn\u001b[0m \u001b[0mresponse\u001b[0m\u001b[0;34m,\u001b[0m \u001b[0mself\u001b[0m\u001b[0;34m.\u001b[0m\u001b[0m_create_connection_guard\u001b[0m\u001b[0;34m(\u001b[0m\u001b[0mconnection\u001b[0m\u001b[0;34m)\u001b[0m\u001b[0;34m\u001b[0m\u001b[0;34m\u001b[0m\u001b[0m\n",
            "\u001b[0;32m/content/spark-2.4.6-bin-hadoop2.7/python/lib/py4j-0.10.7-src.zip/py4j/java_gateway.py\u001b[0m in \u001b[0;36msend_command\u001b[0;34m(self, command)\u001b[0m\n\u001b[1;32m   1150\u001b[0m \u001b[0;34m\u001b[0m\u001b[0m\n\u001b[1;32m   1151\u001b[0m         \u001b[0;32mtry\u001b[0m\u001b[0;34m:\u001b[0m\u001b[0;34m\u001b[0m\u001b[0;34m\u001b[0m\u001b[0m\n\u001b[0;32m-> 1152\u001b[0;31m             \u001b[0manswer\u001b[0m \u001b[0;34m=\u001b[0m \u001b[0msmart_decode\u001b[0m\u001b[0;34m(\u001b[0m\u001b[0mself\u001b[0m\u001b[0;34m.\u001b[0m\u001b[0mstream\u001b[0m\u001b[0;34m.\u001b[0m\u001b[0mreadline\u001b[0m\u001b[0;34m(\u001b[0m\u001b[0;34m)\u001b[0m\u001b[0;34m[\u001b[0m\u001b[0;34m:\u001b[0m\u001b[0;34m-\u001b[0m\u001b[0;36m1\u001b[0m\u001b[0;34m]\u001b[0m\u001b[0;34m)\u001b[0m\u001b[0;34m\u001b[0m\u001b[0;34m\u001b[0m\u001b[0m\n\u001b[0m\u001b[1;32m   1153\u001b[0m             \u001b[0mlogger\u001b[0m\u001b[0;34m.\u001b[0m\u001b[0mdebug\u001b[0m\u001b[0;34m(\u001b[0m\u001b[0;34m\"Answer received: {0}\"\u001b[0m\u001b[0;34m.\u001b[0m\u001b[0mformat\u001b[0m\u001b[0;34m(\u001b[0m\u001b[0manswer\u001b[0m\u001b[0;34m)\u001b[0m\u001b[0;34m)\u001b[0m\u001b[0;34m\u001b[0m\u001b[0;34m\u001b[0m\u001b[0m\n\u001b[1;32m   1154\u001b[0m             \u001b[0;32mif\u001b[0m \u001b[0manswer\u001b[0m\u001b[0;34m.\u001b[0m\u001b[0mstartswith\u001b[0m\u001b[0;34m(\u001b[0m\u001b[0mproto\u001b[0m\u001b[0;34m.\u001b[0m\u001b[0mRETURN_MESSAGE\u001b[0m\u001b[0;34m)\u001b[0m\u001b[0;34m:\u001b[0m\u001b[0;34m\u001b[0m\u001b[0;34m\u001b[0m\u001b[0m\n",
            "\u001b[0;32m/usr/lib/python3.6/socket.py\u001b[0m in \u001b[0;36mreadinto\u001b[0;34m(self, b)\u001b[0m\n\u001b[1;32m    584\u001b[0m         \u001b[0;32mwhile\u001b[0m \u001b[0;32mTrue\u001b[0m\u001b[0;34m:\u001b[0m\u001b[0;34m\u001b[0m\u001b[0;34m\u001b[0m\u001b[0m\n\u001b[1;32m    585\u001b[0m             \u001b[0;32mtry\u001b[0m\u001b[0;34m:\u001b[0m\u001b[0;34m\u001b[0m\u001b[0;34m\u001b[0m\u001b[0m\n\u001b[0;32m--> 586\u001b[0;31m                 \u001b[0;32mreturn\u001b[0m \u001b[0mself\u001b[0m\u001b[0;34m.\u001b[0m\u001b[0m_sock\u001b[0m\u001b[0;34m.\u001b[0m\u001b[0mrecv_into\u001b[0m\u001b[0;34m(\u001b[0m\u001b[0mb\u001b[0m\u001b[0;34m)\u001b[0m\u001b[0;34m\u001b[0m\u001b[0;34m\u001b[0m\u001b[0m\n\u001b[0m\u001b[1;32m    587\u001b[0m             \u001b[0;32mexcept\u001b[0m \u001b[0mtimeout\u001b[0m\u001b[0;34m:\u001b[0m\u001b[0;34m\u001b[0m\u001b[0;34m\u001b[0m\u001b[0m\n\u001b[1;32m    588\u001b[0m                 \u001b[0mself\u001b[0m\u001b[0;34m.\u001b[0m\u001b[0m_timeout_occurred\u001b[0m \u001b[0;34m=\u001b[0m \u001b[0;32mTrue\u001b[0m\u001b[0;34m\u001b[0m\u001b[0;34m\u001b[0m\u001b[0m\n",
            "\u001b[0;31mKeyboardInterrupt\u001b[0m: "
          ]
        }
      ]
    },
    {
      "cell_type": "code",
      "metadata": {
        "id": "G5Px8QeawPbV",
        "colab_type": "code",
        "colab": {}
      },
      "source": [
        "df_all[0]"
      ],
      "execution_count": null,
      "outputs": []
    },
    {
      "cell_type": "code",
      "metadata": {
        "id": "dpEupELRwOcj",
        "colab_type": "code",
        "colab": {}
      },
      "source": [
        "from pyspark.sql.types import *\n",
        "\n",
        "races_schema = StructType([ StructField(\"race_id\", IntegerType(), True)\\\n",
        "\n",
        "                       #,StructField(\"race_code\", StringType(), True)\\\n",
        "\n",
        "                       ,StructField(\"race_desc\", StringType(), True)\\\n",
        "\n",
        "                       #,StructField(\"start_year\", DoubleType(), True)\\\n",
        "\n",
        "                       #,StructField(\"end_year\", DoubleType(), True)\\\n",
        "\n",
        "                       #,StructField(\"notes\", StringType(), True)\\\n",
        "\n",
        "                       #,StructField(\"state\", StringType(), True)\n",
        "\n",
        "                        ])\n",
        "\n",
        "races_df = df_all[0].drop(columns=['race_code', 'sort_order','start_year','end_year','notes','state'])\n",
        "races_spark = spark.createDataFrame(races_df,schema=races_schema)\n",
        "del races_df\n",
        "del df_all[0]"
      ],
      "execution_count": 14,
      "outputs": []
    },
    {
      "cell_type": "code",
      "metadata": {
        "id": "hFQDpfB8nboi",
        "colab_type": "code",
        "colab": {}
      },
      "source": [
        "races_spark = races_spark.drop_duplicates()\n",
        "races_spark.show()\n",
        "races_spark.count()"
      ],
      "execution_count": null,
      "outputs": []
    },
    {
      "cell_type": "code",
      "metadata": {
        "id": "HG1fOYXsVkIQ",
        "colab_type": "code",
        "colab": {}
      },
      "source": [
        "# should remove any NaN values in race_id\n",
        "victim_spark = victim_spark.filter(victim_spark.race_id < 100)\n",
        "\n",
        "res = victim_spark.join(races_spark, \"race_id\", \"inner\")\n",
        "res = res.join(victim_circumstances_spark, \"victim_id\", \"inner\")\n",
        "res = res.join(circumstances_spark, \"circumstances_id\", \"inner\")\n",
        "res = res.drop(\"justifiable_force_id\")\n",
        "res = res.drop(\"circumstances_type\")\n",
        "res = res.filter(res.circumstances_code == 21)\n",
        "res = res.distinct()\n",
        "res.show()\n",
        "res.count()"
      ],
      "execution_count": null,
      "outputs": []
    },
    {
      "cell_type": "code",
      "metadata": {
        "id": "xdAyBBTaVSgv",
        "colab_type": "code",
        "colab": {}
      },
      "source": [
        ""
      ],
      "execution_count": null,
      "outputs": []
    }
  ]
}