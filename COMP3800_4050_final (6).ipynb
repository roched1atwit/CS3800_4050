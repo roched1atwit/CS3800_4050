{
  "nbformat": 4,
  "nbformat_minor": 0,
  "metadata": {
    "kernelspec": {
      "name": "python3",
      "display_name": "Python 3"
    },
    "colab": {
      "name": "COMP3800_4050_final.ipynb",
      "provenance": [],
      "collapsed_sections": [
        "nlI7V7adDDfp",
        "H2B1_JLVDDgO"
      ]
    }
  },
  "cells": [
    {
      "cell_type": "code",
      "metadata": {
        "id": "rjHBbTJBS1Q-",
        "colab_type": "code",
        "colab": {
          "base_uri": "https://localhost:8080/",
          "height": 85
        },
        "outputId": "6263cac7-48a8-42a1-f523-72a7e60ee655"
      },
      "source": [
        "#### Setting up Spark for colab space, code provided by Professor Othman\n",
        "\n",
        "import os\n",
        "#Install Java\n",
        "!apt-get install openjdk-8-jdk-headless -qq > /dev/null\n",
        "#Set JAVA_HOME path variable in Linux\n",
        "os.environ[\"JAVA_HOME\"] = \"/usr/lib/jvm/java-8-openjdk-amd64\"\n",
        "!update-alternatives --set java /usr/lib/jvm/java-8-openjdk-amd64/jre/bin/java\n",
        "!java -version\n",
        "\n",
        "\n",
        "#Install Spark\n",
        "#download Spark file\n",
        "!wget -q http://apache.osuosl.org/spark/spark-2.4.6/spark-2.4.6-bin-hadoop2.7.tgz\n",
        "#extract the file\n",
        "!tar xf spark-2.4.6-bin-hadoop2.7.tgz\n",
        "#Set SPARK-HOME path variable in Linux\n",
        "os.environ[\"SPARK_HOME\"] = \"/content/spark-2.4.6-bin-hadoop2.7\"\n",
        "\n",
        "\n",
        "#install findspark package\n",
        "!pip install -q findspark"
      ],
      "execution_count": 2,
      "outputs": [
        {
          "output_type": "stream",
          "text": [
            "update-alternatives: using /usr/lib/jvm/java-8-openjdk-amd64/jre/bin/java to provide /usr/bin/java (java) in manual mode\n",
            "openjdk version \"1.8.0_252\"\n",
            "OpenJDK Runtime Environment (build 1.8.0_252-8u252-b09-1~18.04-b09)\n",
            "OpenJDK 64-Bit Server VM (build 25.252-b09, mixed mode)\n"
          ],
          "name": "stdout"
        }
      ]
    },
    {
      "cell_type": "code",
      "metadata": {
        "id": "FSkvjp4EDDeY",
        "colab_type": "code",
        "colab": {}
      },
      "source": [
        "import findspark\n",
        "findspark.init()"
      ],
      "execution_count": 3,
      "outputs": []
    },
    {
      "cell_type": "code",
      "metadata": {
        "id": "afZ55q7XDDec",
        "colab_type": "code",
        "colab": {}
      },
      "source": [
        "# create entry points to spark\n",
        "try:\n",
        "    sc.stop()\n",
        "except:\n",
        "    pass\n",
        "from pyspark import SparkContext, SparkConf\n",
        "from pyspark.sql import SparkSession, SQLContext\n",
        "conf = SparkConf().setAppName(\"lecture10\").setMaster(\"local[*]\")\n",
        "sc=SparkContext(conf = conf)\n",
        "spark = SparkSession(sparkContext=sc)\n",
        "sqlContext = SQLContext(sc)"
      ],
      "execution_count": 4,
      "outputs": []
    },
    {
      "cell_type": "code",
      "metadata": {
        "id": "PM-f-XunDDef",
        "colab_type": "code",
        "colab": {
          "base_uri": "https://localhost:8080/",
          "height": 216
        },
        "outputId": "175f3b6f-8bd6-4b6d-d47b-dfb36cf45dac"
      },
      "source": [
        "spark"
      ],
      "execution_count": 5,
      "outputs": [
        {
          "output_type": "execute_result",
          "data": {
            "text/html": [
              "\n",
              "            <div>\n",
              "                <p><b>SparkSession - in-memory</b></p>\n",
              "                \n",
              "        <div>\n",
              "            <p><b>SparkContext</b></p>\n",
              "\n",
              "            <p><a href=\"http://51f547fe2c0d:4040\">Spark UI</a></p>\n",
              "\n",
              "            <dl>\n",
              "              <dt>Version</dt>\n",
              "                <dd><code>v2.4.6</code></dd>\n",
              "              <dt>Master</dt>\n",
              "                <dd><code>local[*]</code></dd>\n",
              "              <dt>AppName</dt>\n",
              "                <dd><code>lecture10</code></dd>\n",
              "            </dl>\n",
              "        </div>\n",
              "        \n",
              "            </div>\n",
              "        "
            ],
            "text/plain": [
              "<pyspark.sql.session.SparkSession at 0x7f64c7a28710>"
            ]
          },
          "metadata": {
            "tags": []
          },
          "execution_count": 5
        }
      ]
    },
    {
      "cell_type": "code",
      "metadata": {
        "id": "VzS2NeKItk9E",
        "colab_type": "code",
        "colab": {}
      },
      "source": [
        "import pandas as pd\n",
        "from pyspark.sql.types import *\n",
        "from pyspark.sql.functions import substring, lit, desc, col\n",
        "import pyspark.sql.functions as F"
      ],
      "execution_count": 118,
      "outputs": []
    },
    {
      "cell_type": "code",
      "metadata": {
        "id": "8ltsWZ_486yW",
        "colab_type": "code",
        "colab": {}
      },
      "source": [
        "# hardcoded variables telling our program which states, years, and tables are needed from NIBRS dataa\n",
        "\n",
        "# Can make the list longer if running locally, for google colab, better to do one state at a time\n",
        "\n",
        "state_list = [\"alabama\", \"arizona\", \"arkansas\",\"colorado\", \"connecticut\"]\n",
        "state_abbr = [\"AL\", \"AZ\", \"AR\", \"CO\", \"CT\"]\n",
        "csv = [\"nibrs_circumstances\", \"nibrs_victim_circumstances\", \"nibrs_victim\", \"ref_race\"]\n",
        "firstyear = 1991\n",
        "lastyear = 2018"
      ],
      "execution_count": 7,
      "outputs": []
    },
    {
      "cell_type": "code",
      "metadata": {
        "id": "PNYXU2UxXRNC",
        "colab_type": "code",
        "colab": {}
      },
      "source": [
        "def read_nibrs_csv(firstyear,lastyear,state_name,state_abbr, csv, my_schema):\n",
        "    url_base=\"https://raw.githubusercontent.com/roched1atwit/CS3800_4050/master/data/\"\n",
        "\n",
        "    df_list = []\n",
        "    for year in range(firstyear,lastyear+1):\n",
        "        url = url_base+state_name+'/'+state_abbr+'-'+str(year)\n",
        "        url_c = url + '/' + csv + '.csv'\n",
        "              \n",
        "        try:\n",
        "            temp_df = pd.read_csv(url_c, error_bad_lines=False)\n",
        "        except:\n",
        "            # there was a format change in 2016 where NIBRS_data became capitalized\n",
        "            url_c = url + '/' + csv.upper() + '.csv' \n",
        "            try:\n",
        "                temp_df = pd.read_csv(url_c, error_bad_lines=False)\n",
        "                temp_df.columns = map(str.lower, temp_df.columns)\n",
        "            except:\n",
        "                print(url_c + \" did not exist\")\n",
        "              \n",
        "        temp_df['state'] = state_abbr\n",
        "        temp_df['year'] = year\n",
        "        df_list.append(temp_df)\n",
        "\n",
        "    full_df = pd.concat(df_list)\n",
        "    spark_df = spark.createDataFrame(full_df,schema=my_schema)\n",
        "\n",
        "    return spark_df\n",
        "    #return full_df\n",
        "            \n"
      ],
      "execution_count": 34,
      "outputs": []
    },
    {
      "cell_type": "code",
      "metadata": {
        "id": "pPvm-zAA1SfZ",
        "colab_type": "code",
        "colab": {
          "base_uri": "https://localhost:8080/",
          "height": 524
        },
        "outputId": "483e66fb-a7e4-4b94-e71f-3b92ab95207f"
      },
      "source": [
        "arrestee_AL"
      ],
      "execution_count": 31,
      "outputs": [
        {
          "output_type": "execute_result",
          "data": {
            "text/html": [
              "<div>\n",
              "<style scoped>\n",
              "    .dataframe tbody tr th:only-of-type {\n",
              "        vertical-align: middle;\n",
              "    }\n",
              "\n",
              "    .dataframe tbody tr th {\n",
              "        vertical-align: top;\n",
              "    }\n",
              "\n",
              "    .dataframe thead th {\n",
              "        text-align: right;\n",
              "    }\n",
              "</style>\n",
              "<table border=\"1\" class=\"dataframe\">\n",
              "  <thead>\n",
              "    <tr style=\"text-align: right;\">\n",
              "      <th></th>\n",
              "      <th>arrestee_id</th>\n",
              "      <th>incident_id</th>\n",
              "      <th>arrestee_seq_num</th>\n",
              "      <th>arrest_num</th>\n",
              "      <th>arrest_date</th>\n",
              "      <th>arrest_type_id</th>\n",
              "      <th>multiple_indicator</th>\n",
              "      <th>offense_type_id</th>\n",
              "      <th>age_id</th>\n",
              "      <th>age_num</th>\n",
              "      <th>sex_code</th>\n",
              "      <th>race_id</th>\n",
              "      <th>ethnicity_id</th>\n",
              "      <th>resident_code</th>\n",
              "      <th>under_18_disposition_code</th>\n",
              "      <th>clearance_ind</th>\n",
              "      <th>ff_line_number</th>\n",
              "      <th>age_range_low_num</th>\n",
              "      <th>age_range_high_num</th>\n",
              "      <th>state</th>\n",
              "      <th>year</th>\n",
              "      <th>data_year</th>\n",
              "    </tr>\n",
              "  </thead>\n",
              "  <tbody>\n",
              "    <tr>\n",
              "      <th>0</th>\n",
              "      <td>1614</td>\n",
              "      <td>129882</td>\n",
              "      <td>1</td>\n",
              "      <td>L55P5MOKP</td>\n",
              "      <td>1991-07-20 00:00:00</td>\n",
              "      <td>1</td>\n",
              "      <td>N</td>\n",
              "      <td>27</td>\n",
              "      <td>5</td>\n",
              "      <td>23.0</td>\n",
              "      <td>F</td>\n",
              "      <td>2</td>\n",
              "      <td>3</td>\n",
              "      <td>R</td>\n",
              "      <td>NaN</td>\n",
              "      <td>NaN</td>\n",
              "      <td>NaN</td>\n",
              "      <td>NaN</td>\n",
              "      <td>NaN</td>\n",
              "      <td>AL</td>\n",
              "      <td>1991</td>\n",
              "      <td>NaN</td>\n",
              "    </tr>\n",
              "    <tr>\n",
              "      <th>1</th>\n",
              "      <td>1615</td>\n",
              "      <td>130130</td>\n",
              "      <td>1</td>\n",
              "      <td>5TPPOPMKP</td>\n",
              "      <td>1991-10-16 00:00:00</td>\n",
              "      <td>1</td>\n",
              "      <td>N</td>\n",
              "      <td>49</td>\n",
              "      <td>5</td>\n",
              "      <td>19.0</td>\n",
              "      <td>M</td>\n",
              "      <td>2</td>\n",
              "      <td>3</td>\n",
              "      <td>R</td>\n",
              "      <td>NaN</td>\n",
              "      <td>NaN</td>\n",
              "      <td>NaN</td>\n",
              "      <td>NaN</td>\n",
              "      <td>NaN</td>\n",
              "      <td>AL</td>\n",
              "      <td>1991</td>\n",
              "      <td>NaN</td>\n",
              "    </tr>\n",
              "    <tr>\n",
              "      <th>2</th>\n",
              "      <td>1650</td>\n",
              "      <td>130935</td>\n",
              "      <td>1</td>\n",
              "      <td>KPMP95MM5</td>\n",
              "      <td>1991-01-28 00:00:00</td>\n",
              "      <td>3</td>\n",
              "      <td>N</td>\n",
              "      <td>40</td>\n",
              "      <td>5</td>\n",
              "      <td>37.0</td>\n",
              "      <td>F</td>\n",
              "      <td>2</td>\n",
              "      <td>3</td>\n",
              "      <td>N</td>\n",
              "      <td>NaN</td>\n",
              "      <td>NaN</td>\n",
              "      <td>NaN</td>\n",
              "      <td>NaN</td>\n",
              "      <td>NaN</td>\n",
              "      <td>AL</td>\n",
              "      <td>1991</td>\n",
              "      <td>NaN</td>\n",
              "    </tr>\n",
              "    <tr>\n",
              "      <th>3</th>\n",
              "      <td>1649</td>\n",
              "      <td>130924</td>\n",
              "      <td>1</td>\n",
              "      <td>KPMP9TMPM</td>\n",
              "      <td>1991-01-25 00:00:00</td>\n",
              "      <td>1</td>\n",
              "      <td>N</td>\n",
              "      <td>23</td>\n",
              "      <td>5</td>\n",
              "      <td>14.0</td>\n",
              "      <td>M</td>\n",
              "      <td>1</td>\n",
              "      <td>3</td>\n",
              "      <td>R</td>\n",
              "      <td>R</td>\n",
              "      <td>NaN</td>\n",
              "      <td>NaN</td>\n",
              "      <td>NaN</td>\n",
              "      <td>NaN</td>\n",
              "      <td>AL</td>\n",
              "      <td>1991</td>\n",
              "      <td>NaN</td>\n",
              "    </tr>\n",
              "    <tr>\n",
              "      <th>4</th>\n",
              "      <td>1648</td>\n",
              "      <td>130912</td>\n",
              "      <td>1</td>\n",
              "      <td>KPMP9LMPZ</td>\n",
              "      <td>1991-01-25 00:00:00</td>\n",
              "      <td>1</td>\n",
              "      <td>N</td>\n",
              "      <td>23</td>\n",
              "      <td>5</td>\n",
              "      <td>37.0</td>\n",
              "      <td>M</td>\n",
              "      <td>2</td>\n",
              "      <td>3</td>\n",
              "      <td>R</td>\n",
              "      <td>NaN</td>\n",
              "      <td>NaN</td>\n",
              "      <td>NaN</td>\n",
              "      <td>NaN</td>\n",
              "      <td>NaN</td>\n",
              "      <td>AL</td>\n",
              "      <td>1991</td>\n",
              "      <td>NaN</td>\n",
              "    </tr>\n",
              "    <tr>\n",
              "      <th>...</th>\n",
              "      <td>...</td>\n",
              "      <td>...</td>\n",
              "      <td>...</td>\n",
              "      <td>...</td>\n",
              "      <td>...</td>\n",
              "      <td>...</td>\n",
              "      <td>...</td>\n",
              "      <td>...</td>\n",
              "      <td>...</td>\n",
              "      <td>...</td>\n",
              "      <td>...</td>\n",
              "      <td>...</td>\n",
              "      <td>...</td>\n",
              "      <td>...</td>\n",
              "      <td>...</td>\n",
              "      <td>...</td>\n",
              "      <td>...</td>\n",
              "      <td>...</td>\n",
              "      <td>...</td>\n",
              "      <td>...</td>\n",
              "      <td>...</td>\n",
              "      <td>...</td>\n",
              "    </tr>\n",
              "    <tr>\n",
              "      <th>135</th>\n",
              "      <td>27999562</td>\n",
              "      <td>95483372</td>\n",
              "      <td>1</td>\n",
              "      <td>NaN</td>\n",
              "      <td>24-JAN-18</td>\n",
              "      <td>1</td>\n",
              "      <td>N</td>\n",
              "      <td>49</td>\n",
              "      <td>5</td>\n",
              "      <td>46.0</td>\n",
              "      <td>M</td>\n",
              "      <td>2</td>\n",
              "      <td>2</td>\n",
              "      <td>N</td>\n",
              "      <td>NaN</td>\n",
              "      <td>NaN</td>\n",
              "      <td>NaN</td>\n",
              "      <td>46.0</td>\n",
              "      <td>0.0</td>\n",
              "      <td>AL</td>\n",
              "      <td>2018</td>\n",
              "      <td>2018.0</td>\n",
              "    </tr>\n",
              "    <tr>\n",
              "      <th>136</th>\n",
              "      <td>27999575</td>\n",
              "      <td>95483418</td>\n",
              "      <td>1</td>\n",
              "      <td>NaN</td>\n",
              "      <td>28-JAN-18</td>\n",
              "      <td>1</td>\n",
              "      <td>N</td>\n",
              "      <td>16</td>\n",
              "      <td>5</td>\n",
              "      <td>28.0</td>\n",
              "      <td>M</td>\n",
              "      <td>2</td>\n",
              "      <td>2</td>\n",
              "      <td>N</td>\n",
              "      <td>NaN</td>\n",
              "      <td>NaN</td>\n",
              "      <td>NaN</td>\n",
              "      <td>28.0</td>\n",
              "      <td>0.0</td>\n",
              "      <td>AL</td>\n",
              "      <td>2018</td>\n",
              "      <td>2018.0</td>\n",
              "    </tr>\n",
              "    <tr>\n",
              "      <th>137</th>\n",
              "      <td>27999532</td>\n",
              "      <td>95483274</td>\n",
              "      <td>3</td>\n",
              "      <td>NaN</td>\n",
              "      <td>10-JAN-18</td>\n",
              "      <td>1</td>\n",
              "      <td>N</td>\n",
              "      <td>39</td>\n",
              "      <td>5</td>\n",
              "      <td>18.0</td>\n",
              "      <td>F</td>\n",
              "      <td>1</td>\n",
              "      <td>2</td>\n",
              "      <td>N</td>\n",
              "      <td>NaN</td>\n",
              "      <td>NaN</td>\n",
              "      <td>NaN</td>\n",
              "      <td>18.0</td>\n",
              "      <td>0.0</td>\n",
              "      <td>AL</td>\n",
              "      <td>2018</td>\n",
              "      <td>2018.0</td>\n",
              "    </tr>\n",
              "    <tr>\n",
              "      <th>138</th>\n",
              "      <td>27999529</td>\n",
              "      <td>95483274</td>\n",
              "      <td>1</td>\n",
              "      <td>NaN</td>\n",
              "      <td>10-JAN-18</td>\n",
              "      <td>1</td>\n",
              "      <td>N</td>\n",
              "      <td>39</td>\n",
              "      <td>5</td>\n",
              "      <td>19.0</td>\n",
              "      <td>M</td>\n",
              "      <td>2</td>\n",
              "      <td>2</td>\n",
              "      <td>N</td>\n",
              "      <td>NaN</td>\n",
              "      <td>NaN</td>\n",
              "      <td>NaN</td>\n",
              "      <td>19.0</td>\n",
              "      <td>0.0</td>\n",
              "      <td>AL</td>\n",
              "      <td>2018</td>\n",
              "      <td>2018.0</td>\n",
              "    </tr>\n",
              "    <tr>\n",
              "      <th>139</th>\n",
              "      <td>29958172</td>\n",
              "      <td>100963771</td>\n",
              "      <td>1</td>\n",
              "      <td>NaN</td>\n",
              "      <td>15-FEB-18</td>\n",
              "      <td>3</td>\n",
              "      <td>N</td>\n",
              "      <td>16</td>\n",
              "      <td>5</td>\n",
              "      <td>38.0</td>\n",
              "      <td>M</td>\n",
              "      <td>1</td>\n",
              "      <td>1</td>\n",
              "      <td>N</td>\n",
              "      <td>NaN</td>\n",
              "      <td>NaN</td>\n",
              "      <td>NaN</td>\n",
              "      <td>38.0</td>\n",
              "      <td>0.0</td>\n",
              "      <td>AL</td>\n",
              "      <td>2018</td>\n",
              "      <td>2018.0</td>\n",
              "    </tr>\n",
              "  </tbody>\n",
              "</table>\n",
              "<p>56469 rows × 22 columns</p>\n",
              "</div>"
            ],
            "text/plain": [
              "     arrestee_id  incident_id  arrestee_seq_num  ... state  year  data_year\n",
              "0           1614       129882                 1  ...    AL  1991        NaN\n",
              "1           1615       130130                 1  ...    AL  1991        NaN\n",
              "2           1650       130935                 1  ...    AL  1991        NaN\n",
              "3           1649       130924                 1  ...    AL  1991        NaN\n",
              "4           1648       130912                 1  ...    AL  1991        NaN\n",
              "..           ...          ...               ...  ...   ...   ...        ...\n",
              "135     27999562     95483372                 1  ...    AL  2018     2018.0\n",
              "136     27999575     95483418                 1  ...    AL  2018     2018.0\n",
              "137     27999532     95483274                 3  ...    AL  2018     2018.0\n",
              "138     27999529     95483274                 1  ...    AL  2018     2018.0\n",
              "139     29958172    100963771                 1  ...    AL  2018     2018.0\n",
              "\n",
              "[56469 rows x 22 columns]"
            ]
          },
          "metadata": {
            "tags": []
          },
          "execution_count": 31
        }
      ]
    },
    {
      "cell_type": "code",
      "metadata": {
        "id": "uh_M8DINVxxu",
        "colab_type": "code",
        "colab": {}
      },
      "source": [
        "circumstances_schema = StructType([ StructField(\"circumstances_id\", IntegerType(), True)\\\n",
        "\n",
        "                       ,StructField(\"circumstances_type\", StringType(), True)\\\n",
        "\n",
        "                       ,StructField(\"circumstances_code\", IntegerType(), True)\\\n",
        "\n",
        "                       ,StructField(\"circumstances_name\", StringType(), True)\\\n",
        "\n",
        "                       ,StructField(\"state\", StringType(), True)\\\n",
        "                       \n",
        "                       ,StructField(\"year\", IntegerType(), True)])"
      ],
      "execution_count": 23,
      "outputs": []
    },
    {
      "cell_type": "code",
      "metadata": {
        "id": "a5C8sb-dybze",
        "colab_type": "code",
        "colab": {}
      },
      "source": [
        "arrestee_schema = StructType([ StructField(\"arrestee_id\", IntegerType(), True)\\\n",
        "\n",
        "                       ,StructField(\"incident_id\", IntegerType(), True)\\\n",
        "\n",
        "                       ,StructField(\"arrestee_seq_num\", IntegerType(), True)\\\n",
        "\n",
        "                       ,StructField(\"arrest_num\", StringType(), True)\\\n",
        "\n",
        "                       ,StructField(\"arrest_date\", StringType(), True)\\\n",
        "                       \n",
        "                       ,StructField(\"arrest_type_id\", IntegerType(), True)\\\n",
        "                       \n",
        "                       ,StructField(\"multiple_indicator\", StringType(), True)\\\n",
        "                       \n",
        "                       ,StructField(\"offense_type_id\", IntegerType(), True)\\\n",
        "                       \n",
        "                       ,StructField(\"age_id\", IntegerType(), True)\\\n",
        "                       \n",
        "                       ,StructField(\"age_num\", DoubleType(), True)\\\n",
        "                       \n",
        "                       ,StructField(\"sex_code\", StringType(), True)\\\n",
        "                       \n",
        "                       ,StructField(\"race_id\", IntegerType(), True)\\\n",
        "                       \n",
        "                       ,StructField(\"ethnicity_id\", IntegerType(), True)\\\n",
        "                       \n",
        "                       ,StructField(\"resident_code\", StringType(), True)\\\n",
        "                       \n",
        "                       ,StructField(\"under_18_disposition_code\", StringType(), True)\\\n",
        "                       \n",
        "                       ,StructField(\"clearance_ind\", DoubleType(), True)\\\n",
        "                       \n",
        "                       ,StructField(\"ff_line_number\", DoubleType(), True)\\\n",
        "                       \n",
        "                       ,StructField(\"age_range_low_num\", DoubleType(), True)\\\n",
        "                       \n",
        "                       ,StructField(\"age_range_high_num\", DoubleType(), True)\\\n",
        "                       \n",
        "                       ,StructField(\"state\", StringType(), True)\\\n",
        "                       \n",
        "                       ,StructField(\"year\", IntegerType(), True)\\\n",
        "                       \n",
        "                       ,StructField(\"data_year\", DoubleType(), True)])"
      ],
      "execution_count": 53,
      "outputs": []
    },
    {
      "cell_type": "code",
      "metadata": {
        "id": "HPzouEmiwq72",
        "colab_type": "code",
        "colab": {
          "base_uri": "https://localhost:8080/",
          "height": 238
        },
        "outputId": "a2907465-f518-4997-cfd8-98dc4b7b6e01"
      },
      "source": [
        "arrestee_AL = read_nibrs_csv(1991,2018,'alabama','AL','nibrs_arrestee', arrestee_schema)"
      ],
      "execution_count": 72,
      "outputs": [
        {
          "output_type": "stream",
          "text": [
            "https://raw.githubusercontent.com/roched1atwit/CS3800_4050/master/data/alabama/AL-1993/NIBRS_ARRESTEE.csv did not exist\n",
            "https://raw.githubusercontent.com/roched1atwit/CS3800_4050/master/data/alabama/AL-1994/NIBRS_ARRESTEE.csv did not exist\n",
            "https://raw.githubusercontent.com/roched1atwit/CS3800_4050/master/data/alabama/AL-1995/NIBRS_ARRESTEE.csv did not exist\n",
            "https://raw.githubusercontent.com/roched1atwit/CS3800_4050/master/data/alabama/AL-1996/NIBRS_ARRESTEE.csv did not exist\n",
            "https://raw.githubusercontent.com/roched1atwit/CS3800_4050/master/data/alabama/AL-1997/NIBRS_ARRESTEE.csv did not exist\n",
            "https://raw.githubusercontent.com/roched1atwit/CS3800_4050/master/data/alabama/AL-1998/NIBRS_ARRESTEE.csv did not exist\n",
            "https://raw.githubusercontent.com/roched1atwit/CS3800_4050/master/data/alabama/AL-1999/NIBRS_ARRESTEE.csv did not exist\n",
            "https://raw.githubusercontent.com/roched1atwit/CS3800_4050/master/data/alabama/AL-2000/NIBRS_ARRESTEE.csv did not exist\n",
            "https://raw.githubusercontent.com/roched1atwit/CS3800_4050/master/data/alabama/AL-2001/NIBRS_ARRESTEE.csv did not exist\n",
            "https://raw.githubusercontent.com/roched1atwit/CS3800_4050/master/data/alabama/AL-2002/NIBRS_ARRESTEE.csv did not exist\n",
            "https://raw.githubusercontent.com/roched1atwit/CS3800_4050/master/data/alabama/AL-2003/NIBRS_ARRESTEE.csv did not exist\n",
            "https://raw.githubusercontent.com/roched1atwit/CS3800_4050/master/data/alabama/AL-2004/NIBRS_ARRESTEE.csv did not exist\n",
            "https://raw.githubusercontent.com/roched1atwit/CS3800_4050/master/data/alabama/AL-2005/NIBRS_ARRESTEE.csv did not exist\n"
          ],
          "name": "stdout"
        }
      ]
    },
    {
      "cell_type": "code",
      "metadata": {
        "id": "73wNQulmCiPx",
        "colab_type": "code",
        "colab": {
          "base_uri": "https://localhost:8080/",
          "height": 479
        },
        "outputId": "0888d550-8736-4a77-f968-3b9f380da443"
      },
      "source": [
        "arrestee_AL.show()"
      ],
      "execution_count": 73,
      "outputs": [
        {
          "output_type": "stream",
          "text": [
            "+-----------+-----------+----------------+------------+-------------------+--------------+------------------+---------------+------+-------+--------+-------+------------+-------------+-------------------------+-------------+--------------+-----------------+------------------+-----+----+---------+\n",
            "|arrestee_id|incident_id|arrestee_seq_num|  arrest_num|        arrest_date|arrest_type_id|multiple_indicator|offense_type_id|age_id|age_num|sex_code|race_id|ethnicity_id|resident_code|under_18_disposition_code|clearance_ind|ff_line_number|age_range_low_num|age_range_high_num|state|year|data_year|\n",
            "+-----------+-----------+----------------+------------+-------------------+--------------+------------------+---------------+------+-------+--------+-------+------------+-------------+-------------------------+-------------+--------------+-----------------+------------------+-----+----+---------+\n",
            "|       1614|     129882|               1|   L55P5MOKP|1991-07-20 00:00:00|             1|                 N|             27|     5|   23.0|       F|      2|           3|            R|                      NaN|          NaN|           NaN|              NaN|               NaN|   AL|1991|      NaN|\n",
            "|       1615|     130130|               1|   5TPPOPMKP|1991-10-16 00:00:00|             1|                 N|             49|     5|   19.0|       M|      2|           3|            R|                      NaN|          NaN|           NaN|              NaN|               NaN|   AL|1991|      NaN|\n",
            "|       1650|     130935|               1|   KPMP95MM5|1991-01-28 00:00:00|             3|                 N|             40|     5|   37.0|       F|      2|           3|            N|                      NaN|          NaN|           NaN|              NaN|               NaN|   AL|1991|      NaN|\n",
            "|       1649|     130924|               1|   KPMP9TMPM|1991-01-25 00:00:00|             1|                 N|             23|     5|   14.0|       M|      1|           3|            R|                        R|          NaN|           NaN|              NaN|               NaN|   AL|1991|      NaN|\n",
            "|       1648|     130912|               1|   KPMP9LMPZ|1991-01-25 00:00:00|             1|                 N|             23|     5|   37.0|       M|      2|           3|            R|                      NaN|          NaN|           NaN|              NaN|               NaN|   AL|1991|      NaN|\n",
            "|       1647|     130879|               1|   KPMPPZMPL|1991-01-13 00:00:00|             1|                 N|             21|     5|   15.0|       M|      2|           3|            R|                        R|          NaN|           NaN|              NaN|               NaN|   AL|1991|      NaN|\n",
            "|       1646|     130852|               1|   KPMPPKMM9|1991-01-20 00:00:00|             3|                 N|             40|     5|   30.0|       M|      1|           3|            N|                      NaN|          NaN|           NaN|              NaN|               NaN|   AL|1991|      NaN|\n",
            "|       1645|     130850|               1|KPMPPKMMZ-M7|1991-01-22 00:00:00|             3|                 N|             27|     5|   30.0|       M|      1|           3|            N|                      NaN|          NaN|           NaN|              NaN|               NaN|   AL|1991|      NaN|\n",
            "|       1644|     130849|               2|KPMPPKMMZ-MY|1991-01-22 00:00:00|             3|                 N|             27|     5|   30.0|       M|      1|           3|            N|                      NaN|          NaN|           NaN|              NaN|               NaN|   AL|1991|      NaN|\n",
            "|       1643|     130849|               1|KPMPPKMMZ-MY|1991-01-22 00:00:00|             3|                 N|             27|     5|   32.0|       M|      1|           3|            R|                      NaN|          NaN|           NaN|              NaN|               NaN|   AL|1991|      NaN|\n",
            "|       1642|     130848|               2|   KPMPPKMMZ|1991-01-24 00:00:00|             3|                 N|             27|     5|   30.0|       M|      1|           3|            N|                      NaN|          NaN|           NaN|              NaN|               NaN|   AL|1991|      NaN|\n",
            "|       1641|     130848|               4|   KPMPPKMMZ|1991-01-22 00:00:00|             3|                 N|             27|     5|   30.0|       M|      1|           3|            N|                      NaN|          NaN|           NaN|              NaN|               NaN|   AL|1991|      NaN|\n",
            "|       1640|     130848|               3|   KPMPPKMMZ|1991-01-22 00:00:00|             3|                 N|             27|     5|   32.0|       M|      1|           3|            R|                      NaN|          NaN|           NaN|              NaN|               NaN|   AL|1991|      NaN|\n",
            "|       1639|     130848|               1|   KPMPPKMMZ|1991-01-22 00:00:00|             3|                 N|             27|     5|   30.0|       M|      1|           3|            N|                      NaN|          NaN|           NaN|              NaN|               NaN|   AL|1991|      NaN|\n",
            "|       1638|     130847|               1|KPMPPKMMP-MY|1991-01-22 00:00:00|             3|                 N|             21|     5|   32.0|       M|      1|           3|            R|                      NaN|          NaN|           NaN|              NaN|               NaN|   AL|1991|      NaN|\n",
            "|       1637|     130846|               1|   KPMPPKMMP|1991-01-22 00:00:00|             3|                 N|             40|     5|   32.0|       M|      1|           3|            R|                      NaN|          NaN|           NaN|              NaN|               NaN|   AL|1991|      NaN|\n",
            "|       1681|     131580|               2|   KPM999MM9|1991-07-22 00:00:00|             1|                 N|             49|     5|   14.0|       M|      1|           3|            R|                        R|          NaN|           NaN|              NaN|               NaN|   AL|1991|      NaN|\n",
            "|       1680|     131580|               1|   KPM999MM9|1991-07-10 00:00:00|             1|                 N|             49|     5|   14.0|       M|      1|           3|            N|                        R|          NaN|           NaN|              NaN|               NaN|   AL|1991|      NaN|\n",
            "|       1679|     131576|               1|   KPM999MMP|1991-02-24 00:00:00|             1|                 N|             21|     5|   14.0|       M|      2|           3|            N|                        R|          NaN|           NaN|              NaN|               NaN|   AL|1991|      NaN|\n",
            "|       1678|     131541|               1|   KPM99OMML|1991-02-27 00:00:00|             1|                 N|             40|     5|   31.0|       F|      2|           3|            N|                      NaN|          NaN|           NaN|              NaN|               NaN|   AL|1991|      NaN|\n",
            "+-----------+-----------+----------------+------------+-------------------+--------------+------------------+---------------+------+-------+--------+-------+------------+-------------+-------------------------+-------------+--------------+-----------------+------------------+-----+----+---------+\n",
            "only showing top 20 rows\n",
            "\n"
          ],
          "name": "stdout"
        }
      ]
    },
    {
      "cell_type": "code",
      "metadata": {
        "id": "fOyL2GD8xtHO",
        "colab_type": "code",
        "colab": {}
      },
      "source": [
        "res = arrestee_AL.select(\"offense_type_id\", \"year\")"
      ],
      "execution_count": 95,
      "outputs": []
    },
    {
      "cell_type": "code",
      "metadata": {
        "id": "6aBYfa4UF7JY",
        "colab_type": "code",
        "colab": {}
      },
      "source": [
        "res = arrestee_AL.select(\"offense_type_id\", \"year\")\n",
        "off_types = res.groupby(res.offense_type_id, res.year).count()\n",
        "num_arrests = res.groupby(res.year).count()\n",
        "num_arrests = num_arrests.select(col(\"year\"), col(\"count\").alias(\"total_arrests_that_year\"))\n",
        "off_types = off_types.orderBy(desc(\"count\"))\n",
        "off_types = off_types.select(\"offense_type_id\", \"year\", col(\"count\").alias(\"num_arrests\"))\n",
        "#off_types.show()\n",
        "#num_arrests.show()\n",
        "off_types = off_types.join(num_arrests, \"year\", \"inner\")\n",
        "#off_types.show()\n",
        "\n",
        "off_types = off_types.withColumn(\"perc_tot_arrests\", col(\"num_arrests\")/col(\"total_arrests_that_year\"))"
      ],
      "execution_count": 132,
      "outputs": []
    },
    {
      "cell_type": "code",
      "metadata": {
        "id": "RmAaU8l7StL8",
        "colab_type": "code",
        "colab": {
          "base_uri": "https://localhost:8080/",
          "height": 357
        },
        "outputId": "d8cfe0fe-298c-4ac9-8b62-e8d755df830e"
      },
      "source": [
        "shop_lifting = off_types.filter(off_types.offense_type_id == 23)\n",
        "shop_lifting.show()"
      ],
      "execution_count": 134,
      "outputs": [
        {
          "output_type": "stream",
          "text": [
            "+----+---------------+-----------+-----------------------+--------------------+\n",
            "|year|offense_type_id|num_arrests|total_arrests_that_year|    perc_tot_arrests|\n",
            "+----+---------------+-----------+-----------------------+--------------------+\n",
            "|2007|             23|        483|                   1190| 0.40588235294117647|\n",
            "|2018|             23|          2|                    140|0.014285714285714285|\n",
            "|2015|             23|        671|                   1413|  0.4748761500353857|\n",
            "|2006|             23|        525|                   1362|  0.3854625550660793|\n",
            "|2013|             23|        630|                   1445|  0.4359861591695502|\n",
            "|2014|             23|        621|                   1270|  0.4889763779527559|\n",
            "|1991|             23|        789|                   3962| 0.19914184755174155|\n",
            "|2012|             23|        419|                   1214| 0.34514003294892914|\n",
            "|2009|             23|        569|                   1441|  0.3948646773074254|\n",
            "|2016|             23|        113|                    870| 0.12988505747126436|\n",
            "|2005|             23|       7504|                  37394| 0.20067390490453013|\n",
            "|2010|             23|        575|                   1371|  0.4194018964259664|\n",
            "|2011|             23|        489|                   1227| 0.39853300733496333|\n",
            "|2008|             23|        461|                   1203| 0.38320864505403157|\n",
            "|2017|             23|         40|                    967| 0.04136504653567735|\n",
            "+----+---------------+-----------+-----------------------+--------------------+\n",
            "\n"
          ],
          "name": "stdout"
        }
      ]
    },
    {
      "cell_type": "code",
      "metadata": {
        "id": "cd1ILlUvS0jM",
        "colab_type": "code",
        "colab": {
          "base_uri": "https://localhost:8080/",
          "height": 306
        },
        "outputId": "53896a6a-d306-4c56-e13f-ced2710dd903"
      },
      "source": [
        "murder = off_types.filter(off_types.offense_type_id == 32)\n",
        "murder.show()"
      ],
      "execution_count": 136,
      "outputs": [
        {
          "output_type": "stream",
          "text": [
            "+----+---------------+-----------+-----------------------+--------------------+\n",
            "|year|offense_type_id|num_arrests|total_arrests_that_year|    perc_tot_arrests|\n",
            "+----+---------------+-----------+-----------------------+--------------------+\n",
            "|2007|             32|          1|                   1190|8.403361344537816E-4|\n",
            "|2015|             32|          3|                   1413|0.002123142250530...|\n",
            "|2006|             32|          3|                   1362|0.002202643171806...|\n",
            "|2013|             32|          1|                   1445|6.920415224913495E-4|\n",
            "|2014|             32|          1|                   1270|7.874015748031496E-4|\n",
            "|1991|             32|         57|                   3962|0.014386673397274103|\n",
            "|2012|             32|          2|                   1214|0.001647446457990...|\n",
            "|2009|             32|          2|                   1441|0.001387925052047...|\n",
            "|2016|             32|          2|                    870|0.002298850574712...|\n",
            "|2005|             32|        280|                  37394|0.007487832272557095|\n",
            "|2008|             32|          3|                   1203|0.002493765586034...|\n",
            "|2017|             32|          1|                    967|0.001034126163391934|\n",
            "+----+---------------+-----------+-----------------------+--------------------+\n",
            "\n"
          ],
          "name": "stdout"
        }
      ]
    },
    {
      "cell_type": "code",
      "metadata": {
        "id": "_g5Lsf9eTQXn",
        "colab_type": "code",
        "colab": {
          "base_uri": "https://localhost:8080/",
          "height": 306
        },
        "outputId": "484ae041-41a0-4807-a41d-2015b8bb1e42"
      },
      "source": [
        "a_assault = off_types.filter(off_types.offense_type_id == 32)\n",
        "a_assault.show()"
      ],
      "execution_count": 137,
      "outputs": [
        {
          "output_type": "stream",
          "text": [
            "+----+---------------+-----------+-----------------------+--------------------+\n",
            "|year|offense_type_id|num_arrests|total_arrests_that_year|    perc_tot_arrests|\n",
            "+----+---------------+-----------+-----------------------+--------------------+\n",
            "|2007|             32|          1|                   1190|8.403361344537816E-4|\n",
            "|2015|             32|          3|                   1413|0.002123142250530...|\n",
            "|2006|             32|          3|                   1362|0.002202643171806...|\n",
            "|2013|             32|          1|                   1445|6.920415224913495E-4|\n",
            "|2014|             32|          1|                   1270|7.874015748031496E-4|\n",
            "|1991|             32|         57|                   3962|0.014386673397274103|\n",
            "|2012|             32|          2|                   1214|0.001647446457990...|\n",
            "|2009|             32|          2|                   1441|0.001387925052047...|\n",
            "|2016|             32|          2|                    870|0.002298850574712...|\n",
            "|2005|             32|        280|                  37394|0.007487832272557095|\n",
            "|2008|             32|          3|                   1203|0.002493765586034...|\n",
            "|2017|             32|          1|                    967|0.001034126163391934|\n",
            "+----+---------------+-----------+-----------------------+--------------------+\n",
            "\n"
          ],
          "name": "stdout"
        }
      ]
    },
    {
      "cell_type": "code",
      "metadata": {
        "id": "M5FqeRL4Znce",
        "colab_type": "code",
        "colab": {}
      },
      "source": [
        "victim_circumstances_schema = StructType([ StructField(\"victim_id\", IntegerType(), True)\\\n",
        "\n",
        "                       ,StructField(\"circumstances_id\", IntegerType(), True)\\\n",
        "\n",
        "                       ,StructField(\"justifiable_force_id\", DoubleType(), True)\\\n",
        "\n",
        "                       ,StructField(\"state\", StringType(), True)\\\n",
        "\n",
        "                       ,StructField(\"data_year\", DoubleType(), True)])"
      ],
      "execution_count": null,
      "outputs": []
    },
    {
      "cell_type": "code",
      "metadata": {
        "id": "jwupLDIHcJ9s",
        "colab_type": "code",
        "colab": {}
      },
      "source": [
        "victim_schema = StructType([ StructField(\"victim_id\", IntegerType(), True)\\\n",
        "\n",
        "                       ,StructField(\"incident_id\", IntegerType(), True)\\\n",
        "\n",
        "                       #,StructField(\"victim_seq_num\", IntegerType(), True)\\\n",
        "\n",
        "                       #,StructField(\"victim_type_id\", IntegerType(), True)\\\n",
        "\n",
        "                       #,StructField(\"assignment_type_id\", DoubleType(), True)\\\n",
        "\n",
        "                       #,StructField(\"activity_type_id\", DoubleType(), True)\\\n",
        "\n",
        "                       #,StructField(\"outside_agency_id\", DoubleType(), True)\\\n",
        "\n",
        "                       #,StructField(\"age_id\", DoubleType(), True)\\\n",
        "\n",
        "                       #,StructField(\"age_num\", DoubleType(), True)\\\n",
        "\n",
        "                       #,StructField(\"sex_code\", StringType(), True)\\\n",
        "                       \n",
        "                       ,StructField(\"race_id\", DoubleType(), True)\\\n",
        "                       \n",
        "                       ,StructField(\"ethnicity_id\", DoubleType(), True)\\\n",
        "                       \n",
        "                       #,StructField(\"resident_status_code\", StringType(), True)\\\n",
        "                       \n",
        "                       #,StructField(\"agency_data_year\", DoubleType(), True)\\\n",
        "                       \n",
        "                       #,StructField(\"ff_line_number\", DoubleType(), True)\\\n",
        "                       \n",
        "                       #,StructField(\"age_range_low_num\", DoubleType(), True)\\\n",
        "                       \n",
        "                       #,StructField(\"age_range_high_num\", DoubleType(), True)\\\n",
        "                       \n",
        "                       ,StructField(\"state\", StringType(), True)\\\n",
        "                       \n",
        "                       #,StructField(\"data_year\", DoubleType(), True)\\\n",
        "                       \n",
        "                       ])"
      ],
      "execution_count": null,
      "outputs": []
    },
    {
      "cell_type": "code",
      "metadata": {
        "id": "dpEupELRwOcj",
        "colab_type": "code",
        "colab": {}
      },
      "source": [
        "races_schema = StructType([ StructField(\"race_id\", IntegerType(), True)\\\n",
        "\n",
        "                       #,StructField(\"race_code\", StringType(), True)\\\n",
        "\n",
        "                       ,StructField(\"race_desc\", StringType(), True)\\\n",
        "\n",
        "                       #,StructField(\"start_year\", DoubleType(), True)\\\n",
        "\n",
        "                       #,StructField(\"end_year\", DoubleType(), True)\\\n",
        "\n",
        "                       #,StructField(\"notes\", StringType(), True)\\\n",
        "\n",
        "                       #,StructField(\"state\", StringType(), True)\n",
        "\n",
        "                        ])"
      ],
      "execution_count": 138,
      "outputs": []
    },
    {
      "cell_type": "code",
      "metadata": {
        "id": "xdAyBBTaVSgv",
        "colab_type": "code",
        "colab": {}
      },
      "source": [
        ""
      ],
      "execution_count": null,
      "outputs": []
    }
  ]
}