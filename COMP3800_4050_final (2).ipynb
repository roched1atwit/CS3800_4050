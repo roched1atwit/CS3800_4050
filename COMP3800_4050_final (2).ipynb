{
  "nbformat": 4,
  "nbformat_minor": 0,
  "metadata": {
    "kernelspec": {
      "name": "python3",
      "display_name": "Python 3"
    },
    "colab": {
      "name": "COMP3800_4050_final.ipynb",
      "provenance": [],
      "collapsed_sections": [
        "nlI7V7adDDfp",
        "H2B1_JLVDDgO"
      ]
    }
  },
  "cells": [
    {
      "cell_type": "code",
      "metadata": {
        "id": "rjHBbTJBS1Q-",
        "colab_type": "code",
        "colab": {
          "base_uri": "https://localhost:8080/",
          "height": 85
        },
        "outputId": "18412192-b35f-4587-a97f-60d6d34c56e3"
      },
      "source": [
        "import os\n",
        "#Install Java\n",
        "!apt-get install openjdk-8-jdk-headless -qq > /dev/null\n",
        "#Set JAVA_HOME path variable in Linux\n",
        "os.environ[\"JAVA_HOME\"] = \"/usr/lib/jvm/java-8-openjdk-amd64\"\n",
        "!update-alternatives --set java /usr/lib/jvm/java-8-openjdk-amd64/jre/bin/java\n",
        "!java -version\n",
        "\n",
        "\n",
        "#Install Spark\n",
        "#download Spark file\n",
        "!wget -q http://apache.osuosl.org/spark/spark-2.4.6/spark-2.4.6-bin-hadoop2.7.tgz\n",
        "#extract the file\n",
        "!tar xf spark-2.4.6-bin-hadoop2.7.tgz\n",
        "#Set SPARK-HOME path variable in Linux\n",
        "os.environ[\"SPARK_HOME\"] = \"/content/spark-2.4.6-bin-hadoop2.7\"\n",
        "\n",
        "\n",
        "#install findspark package\n",
        "!pip install -q findspark"
      ],
      "execution_count": 2,
      "outputs": [
        {
          "output_type": "stream",
          "text": [
            "update-alternatives: using /usr/lib/jvm/java-8-openjdk-amd64/jre/bin/java to provide /usr/bin/java (java) in manual mode\n",
            "openjdk version \"1.8.0_252\"\n",
            "OpenJDK Runtime Environment (build 1.8.0_252-8u252-b09-1~18.04-b09)\n",
            "OpenJDK 64-Bit Server VM (build 25.252-b09, mixed mode)\n"
          ],
          "name": "stdout"
        }
      ]
    },
    {
      "cell_type": "code",
      "metadata": {
        "id": "FSkvjp4EDDeY",
        "colab_type": "code",
        "colab": {}
      },
      "source": [
        "import findspark\n",
        "findspark.init()"
      ],
      "execution_count": 3,
      "outputs": []
    },
    {
      "cell_type": "code",
      "metadata": {
        "id": "afZ55q7XDDec",
        "colab_type": "code",
        "colab": {}
      },
      "source": [
        "# create entry points to spark\n",
        "try:\n",
        "    sc.stop()\n",
        "except:\n",
        "    pass\n",
        "from pyspark import SparkContext, SparkConf\n",
        "from pyspark.sql import SparkSession, SQLContext\n",
        "conf = SparkConf().setAppName(\"lecture10\").setMaster(\"local[*]\")\n",
        "sc=SparkContext(conf = conf)\n",
        "spark = SparkSession(sparkContext=sc)\n",
        "sqlContext = SQLContext(sc)"
      ],
      "execution_count": 4,
      "outputs": []
    },
    {
      "cell_type": "code",
      "metadata": {
        "id": "PM-f-XunDDef",
        "colab_type": "code",
        "colab": {
          "base_uri": "https://localhost:8080/",
          "height": 216
        },
        "outputId": "c8b05357-fe72-4a4f-d791-98a0825f1bdb"
      },
      "source": [
        "spark"
      ],
      "execution_count": 5,
      "outputs": [
        {
          "output_type": "execute_result",
          "data": {
            "text/html": [
              "\n",
              "            <div>\n",
              "                <p><b>SparkSession - in-memory</b></p>\n",
              "                \n",
              "        <div>\n",
              "            <p><b>SparkContext</b></p>\n",
              "\n",
              "            <p><a href=\"http://3769aafbd7ba:4040\">Spark UI</a></p>\n",
              "\n",
              "            <dl>\n",
              "              <dt>Version</dt>\n",
              "                <dd><code>v2.4.6</code></dd>\n",
              "              <dt>Master</dt>\n",
              "                <dd><code>local[*]</code></dd>\n",
              "              <dt>AppName</dt>\n",
              "                <dd><code>lecture10</code></dd>\n",
              "            </dl>\n",
              "        </div>\n",
              "        \n",
              "            </div>\n",
              "        "
            ],
            "text/plain": [
              "<pyspark.sql.session.SparkSession at 0x7f309fa84908>"
            ]
          },
          "metadata": {
            "tags": []
          },
          "execution_count": 5
        }
      ]
    },
    {
      "cell_type": "code",
      "metadata": {
        "id": "8ltsWZ_486yW",
        "colab_type": "code",
        "colab": {}
      },
      "source": [
        "state_list = [\"alabama\"]\n",
        "state_abbr = [\"AL\"]\n",
        "csv = [\"nibrs_offense\", \"nibrs_arrestee\"]\n",
        "firstyear = 1991\n",
        "lastyear = 2018"
      ],
      "execution_count": 40,
      "outputs": []
    },
    {
      "cell_type": "code",
      "metadata": {
        "id": "PNYXU2UxXRNC",
        "colab_type": "code",
        "colab": {
          "base_uri": "https://localhost:8080/",
          "height": 459
        },
        "outputId": "c11f6f95-ec18-4100-df16-7fc5171bcf7c"
      },
      "source": [
        "import pandas as pd\n",
        "\n",
        "df_all = []\n",
        "url_base=\"https://raw.githubusercontent.com/roched1atwit/CS3800_4050/master/data/\"\n",
        "\n",
        "for state_i in range(0,len(state_list)):\n",
        "    for j in range(0, len(csv)):\n",
        "        df_list = []\n",
        "        for year in range(firstyear,lastyear+1):\n",
        "            url = url_base+state_list[state_i]+'/'+state_abbr[state_i]+'-'+str(year)\n",
        "            url_c = url + '/' + csv[j] + '.csv'\n",
        "            #print(url_c)\n",
        "            try:\n",
        "                temp_df = pd.read_csv(url_c, error_bad_lines=False)\n",
        "                df_list.append(temp_df)\n",
        "            except:\n",
        "                url_c = url + '/' + csv[j].upper() + '.csv'\n",
        "                try:\n",
        "                    temp_df = pd.read_csv(url_c, error_bad_lines=False)\n",
        "                    df_list.append(temp_df)\n",
        "                except:\n",
        "                    print(url_c + \" did not exist\")\n",
        "        df_all.append(pd.concat(df_list))\n",
        "        \n",
        "#AL2018_OFFENSE=pd.read_csv(url,  error_bad_lines=False)\n",
        "#AL2018_OFFENSE"
      ],
      "execution_count": 49,
      "outputs": [
        {
          "output_type": "stream",
          "text": [
            "https://raw.githubusercontent.com/roched1atwit/CS3800_4050/master/data/alabama/AL-1993/NIBRS_OFFENSE.csv did not exist\n",
            "https://raw.githubusercontent.com/roched1atwit/CS3800_4050/master/data/alabama/AL-1994/NIBRS_OFFENSE.csv did not exist\n",
            "https://raw.githubusercontent.com/roched1atwit/CS3800_4050/master/data/alabama/AL-1995/NIBRS_OFFENSE.csv did not exist\n",
            "https://raw.githubusercontent.com/roched1atwit/CS3800_4050/master/data/alabama/AL-1996/NIBRS_OFFENSE.csv did not exist\n",
            "https://raw.githubusercontent.com/roched1atwit/CS3800_4050/master/data/alabama/AL-1997/NIBRS_OFFENSE.csv did not exist\n",
            "https://raw.githubusercontent.com/roched1atwit/CS3800_4050/master/data/alabama/AL-1998/NIBRS_OFFENSE.csv did not exist\n",
            "https://raw.githubusercontent.com/roched1atwit/CS3800_4050/master/data/alabama/AL-1999/NIBRS_OFFENSE.csv did not exist\n",
            "https://raw.githubusercontent.com/roched1atwit/CS3800_4050/master/data/alabama/AL-2000/NIBRS_OFFENSE.csv did not exist\n",
            "https://raw.githubusercontent.com/roched1atwit/CS3800_4050/master/data/alabama/AL-2001/NIBRS_OFFENSE.csv did not exist\n",
            "https://raw.githubusercontent.com/roched1atwit/CS3800_4050/master/data/alabama/AL-2002/NIBRS_OFFENSE.csv did not exist\n",
            "https://raw.githubusercontent.com/roched1atwit/CS3800_4050/master/data/alabama/AL-2003/NIBRS_OFFENSE.csv did not exist\n",
            "https://raw.githubusercontent.com/roched1atwit/CS3800_4050/master/data/alabama/AL-2004/NIBRS_OFFENSE.csv did not exist\n",
            "https://raw.githubusercontent.com/roched1atwit/CS3800_4050/master/data/alabama/AL-2005/NIBRS_OFFENSE.csv did not exist\n",
            "https://raw.githubusercontent.com/roched1atwit/CS3800_4050/master/data/alabama/AL-1993/NIBRS_ARRESTEE.csv did not exist\n",
            "https://raw.githubusercontent.com/roched1atwit/CS3800_4050/master/data/alabama/AL-1994/NIBRS_ARRESTEE.csv did not exist\n",
            "https://raw.githubusercontent.com/roched1atwit/CS3800_4050/master/data/alabama/AL-1995/NIBRS_ARRESTEE.csv did not exist\n",
            "https://raw.githubusercontent.com/roched1atwit/CS3800_4050/master/data/alabama/AL-1996/NIBRS_ARRESTEE.csv did not exist\n",
            "https://raw.githubusercontent.com/roched1atwit/CS3800_4050/master/data/alabama/AL-1997/NIBRS_ARRESTEE.csv did not exist\n",
            "https://raw.githubusercontent.com/roched1atwit/CS3800_4050/master/data/alabama/AL-1998/NIBRS_ARRESTEE.csv did not exist\n",
            "https://raw.githubusercontent.com/roched1atwit/CS3800_4050/master/data/alabama/AL-1999/NIBRS_ARRESTEE.csv did not exist\n",
            "https://raw.githubusercontent.com/roched1atwit/CS3800_4050/master/data/alabama/AL-2000/NIBRS_ARRESTEE.csv did not exist\n",
            "https://raw.githubusercontent.com/roched1atwit/CS3800_4050/master/data/alabama/AL-2001/NIBRS_ARRESTEE.csv did not exist\n",
            "https://raw.githubusercontent.com/roched1atwit/CS3800_4050/master/data/alabama/AL-2002/NIBRS_ARRESTEE.csv did not exist\n",
            "https://raw.githubusercontent.com/roched1atwit/CS3800_4050/master/data/alabama/AL-2003/NIBRS_ARRESTEE.csv did not exist\n",
            "https://raw.githubusercontent.com/roched1atwit/CS3800_4050/master/data/alabama/AL-2004/NIBRS_ARRESTEE.csv did not exist\n",
            "https://raw.githubusercontent.com/roched1atwit/CS3800_4050/master/data/alabama/AL-2005/NIBRS_ARRESTEE.csv did not exist\n"
          ],
          "name": "stdout"
        }
      ]
    },
    {
      "cell_type": "code",
      "metadata": {
        "id": "XdJGTu4y_InR",
        "colab_type": "code",
        "colab": {
          "base_uri": "https://localhost:8080/",
          "height": 493
        },
        "outputId": "7dcfde04-9f4c-4335-b1a2-be23d6a38688"
      },
      "source": [
        "df_all"
      ],
      "execution_count": 50,
      "outputs": [
        {
          "output_type": "execute_result",
          "data": {
            "text/plain": [
              "[      offense_id  incident_id  ...  NUM_PREMISES_ENTERED METHOD_ENTRY_CODE\n",
              " 0       133326.0     130114.0  ...                   NaN               NaN\n",
              " 1       133190.0     129982.0  ...                   NaN               NaN\n",
              " 2       133130.0     129925.0  ...                   NaN               NaN\n",
              " 3       133129.0     129924.0  ...                   NaN               NaN\n",
              " 4       133128.0     129923.0  ...                   NaN               NaN\n",
              " ...          ...          ...  ...                   ...               ...\n",
              " 2149         NaN          NaN  ...                   NaN               NaN\n",
              " 2150         NaN          NaN  ...                   NaN               NaN\n",
              " 2151         NaN          NaN  ...                   NaN               NaN\n",
              " 2152         NaN          NaN  ...                   NaN               NaN\n",
              " 2153         NaN          NaN  ...                   NaN               NaN\n",
              " \n",
              " [572637 rows x 16 columns],\n",
              "      arrestee_id  incident_id  ...  AGE_RANGE_LOW_NUM AGE_RANGE_HIGH_NUM\n",
              " 0         1614.0     129882.0  ...                NaN                NaN\n",
              " 1         1615.0     130130.0  ...                NaN                NaN\n",
              " 2         1650.0     130935.0  ...                NaN                NaN\n",
              " 3         1649.0     130924.0  ...                NaN                NaN\n",
              " 4         1648.0     130912.0  ...                NaN                NaN\n",
              " ..           ...          ...  ...                ...                ...\n",
              " 135          NaN          NaN  ...               46.0                0.0\n",
              " 136          NaN          NaN  ...               28.0                0.0\n",
              " 137          NaN          NaN  ...               18.0                0.0\n",
              " 138          NaN          NaN  ...               19.0                0.0\n",
              " 139          NaN          NaN  ...               38.0                0.0\n",
              " \n",
              " [21746 rows x 37 columns]]"
            ]
          },
          "metadata": {
            "tags": []
          },
          "execution_count": 50
        }
      ]
    },
    {
      "cell_type": "code",
      "metadata": {
        "id": "Ub1KHNj1utc3",
        "colab_type": "code",
        "colab": {}
      },
      "source": [
        ""
      ],
      "execution_count": null,
      "outputs": []
    }
  ]
}